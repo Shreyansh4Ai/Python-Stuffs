{
 "cells": [
  {
   "cell_type": "markdown",
   "id": "b5e3e4a3",
   "metadata": {},
   "source": [
    "#my notebook"
   ]
  }
 ],
 "metadata": {
  "kernelspec": {
   "display_name": ".venv",
   "language": "python",
   "name": "python3"
  },
  "language_info": {
   "name": "python",
   "version": "3.10.11"
  }
 },
 "nbformat": 4,
 "nbformat_minor": 5
}
