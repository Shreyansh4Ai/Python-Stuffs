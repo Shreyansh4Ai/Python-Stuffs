{
 "cells": [
  {
   "cell_type": "markdown",
   "id": "b5e3e4a3",
   "metadata": {},
   "source": [
    "\n",
    "my notebook"
   ]
  },
  {
   "cell_type": "code",
   "execution_count": null,
   "id": "472b61af",
   "metadata": {},
   "outputs": [
    {
     "ename": "",
     "evalue": "",
     "output_type": "error",
     "traceback": [
      "\u001b[1;31mRunning cells with '.venv (Python 3.10.11)' requires the ipykernel package.\n",
      "\u001b[1;31mInstall 'ipykernel' into the Python environment. \n",
      "\u001b[1;31mCommand: '\"d:/git clone/Python-Stuffs/.venv/bin/python.exe\" -m pip install ipykernel -U --force-reinstall'"
     ]
    }
   ],
   "source": [
    "print(\"hello anaconda !!\")"
   ]
  },
  {
   "cell_type": "markdown",
   "id": "23105285",
   "metadata": {},
   "source": [
    "1stpager\n"
   ]
  },
  {
   "cell_type": "code",
   "execution_count": null,
   "id": "758a67fa",
   "metadata": {},
   "outputs": [],
   "source": []
  }
 ],
 "metadata": {
  "kernelspec": {
   "display_name": ".venv",
   "language": "python",
   "name": "python3"
  },
  "language_info": {
   "name": "python",
   "version": "3.10.11"
  }
 },
 "nbformat": 4,
 "nbformat_minor": 5
}
