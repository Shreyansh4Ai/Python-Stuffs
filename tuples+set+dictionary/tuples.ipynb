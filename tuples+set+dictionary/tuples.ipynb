{
 "cells": [
  {
   "cell_type": "markdown",
   "id": "b5e3e4a3",
   "metadata": {},
   "source": [
    "\n",
    "my notebook"
   ]
  },
  {
   "cell_type": "markdown",
   "id": "23105285",
   "metadata": {},
   "source": [
    "1stpager\n"
   ]
  },
  {
   "cell_type": "code",
   "execution_count": null,
   "id": "758a67fa",
   "metadata": {},
   "outputs": [],
   "source": [
    "print(\"hello\")"
   ]
  }
 ],
 "metadata": {
  "kernelspec": {
   "display_name": "Python 3",
   "language": "python",
   "name": "python3"
  },
  "language_info": {
   "name": "python",
   "version": "3.10.11"
  }
 },
 "nbformat": 4,
 "nbformat_minor": 5
}
