{
 "cells": [
  {
   "cell_type": "markdown",
   "id": "b5e3e4a3",
   "metadata": {},
   "source": [
    "\n",
    "my notebook"
   ]
  },
  {
   "cell_type": "code",
   "execution_count": 2,
   "id": "575f7c90",
   "metadata": {},
   "outputs": [
    {
     "name": "stdout",
     "output_type": "stream",
     "text": [
      "hello\n"
     ]
    },
    {
     "data": {
      "text/plain": [
       "3"
      ]
     },
     "execution_count": 2,
     "metadata": {},
     "output_type": "execute_result"
    }
   ],
   "source": [
    "print(\"hello\")\n",
    "1+2"
   ]
  },
  {
   "cell_type": "markdown",
   "id": "23105285",
   "metadata": {},
   "source": [
    "1stpager\n"
   ]
  }
 ],
 "metadata": {
  "kernelspec": {
   "display_name": ".venv",
   "language": "python",
   "name": "python3"
  },
  "language_info": {
   "codemirror_mode": {
    "name": "ipython",
    "version": 3
   },
   "file_extension": ".py",
   "mimetype": "text/x-python",
   "name": "python",
   "nbconvert_exporter": "python",
   "pygments_lexer": "ipython3",
   "version": "3.12.7"
  }
 },
 "nbformat": 4,
 "nbformat_minor": 5
}
