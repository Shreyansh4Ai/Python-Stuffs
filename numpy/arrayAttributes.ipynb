{
 "cells": [
  {
   "cell_type": "markdown",
   "id": "4944a96f",
   "metadata": {},
   "source": [
    "<h1>Array Attributes\n"
   ]
  },
  {
   "cell_type": "code",
   "execution_count": 2,
   "id": "81a5eea7",
   "metadata": {},
   "outputs": [
    {
     "name": "stdout",
     "output_type": "stream",
     "text": [
      "[0 1 2 3 4 5 6 7 8 9]\n",
      "[[ 0.  1.  2.  3.]\n",
      " [ 4.  5.  6.  7.]\n",
      " [ 8.  9. 10. 11.]]\n"
     ]
    },
    {
     "data": {
      "text/plain": [
       "array([[[0, 1],\n",
       "        [2, 3]],\n",
       "\n",
       "       [[4, 5],\n",
       "        [6, 7]]])"
      ]
     },
     "execution_count": 2,
     "metadata": {},
     "output_type": "execute_result"
    }
   ],
   "source": [
    "import numpy as np\n",
    "\n",
    "a1 = np.arange(10)\n",
    "a2 = np.arange(12,dtype=float).reshape(3,4)\n",
    "a3 = np.arange(8).reshape(2,2,2)\n",
    "\n",
    "print(a1)\n",
    "print(a2)\n",
    "a3"
   ]
  },
  {
   "cell_type": "code",
   "execution_count": 3,
   "id": "4cc8c470",
   "metadata": {},
   "outputs": [
    {
     "data": {
      "text/plain": [
       "3"
      ]
     },
     "execution_count": 3,
     "metadata": {},
     "output_type": "execute_result"
    }
   ],
   "source": [
    "#ndim--->> number of dimensions \n",
    "\n",
    "a1.ndim\n",
    "a2.ndim\n",
    "a3.ndim"
   ]
  },
  {
   "cell_type": "code",
   "execution_count": 4,
   "id": "50974ad7",
   "metadata": {},
   "outputs": [
    {
     "data": {
      "text/plain": [
       "(2, 2, 2)"
      ]
     },
     "execution_count": 4,
     "metadata": {},
     "output_type": "execute_result"
    }
   ],
   "source": [
    "#shape\n",
    " ## har dimension m kitne items h ##\n",
    "\n",
    "a1.shape\n",
    "a2.shape\n",
    "a3.shape\n",
    "\n",
    "#(2,2,2)  iska mtlb h ki kitne 2d arrays h and unka kitna row kitna column h "
   ]
  },
  {
   "cell_type": "code",
   "execution_count": 5,
   "id": "ffb1a902",
   "metadata": {},
   "outputs": [
    {
     "name": "stdout",
     "output_type": "stream",
     "text": [
      "12\n"
     ]
    }
   ],
   "source": [
    "#size -->> no. of items\n",
    "\n",
    "print(a2.size)"
   ]
  },
  {
   "cell_type": "code",
   "execution_count": 6,
   "id": "2bd3e43e",
   "metadata": {},
   "outputs": [
    {
     "name": "stdout",
     "output_type": "stream",
     "text": [
      "8\n"
     ]
    }
   ],
   "source": [
    "#itemsize   -->> memory m kitte bytes h each item k \n",
    "a3.itemsize\n",
    "\n",
    "print(a2.itemsize)\n",
    "#int 32 4 byte leta h and int 64 8 byte leta h "
   ]
  },
  {
   "cell_type": "code",
   "execution_count": 7,
   "id": "d7ca6005",
   "metadata": {},
   "outputs": [
    {
     "name": "stdout",
     "output_type": "stream",
     "text": [
      "int64\n",
      "float64\n",
      "int64\n"
     ]
    }
   ],
   "source": [
    "print(a1.dtype)\n",
    "print(a2.dtype)\n",
    "print(a3.dtype)"
   ]
  },
  {
   "cell_type": "markdown",
   "id": "e076b3a6",
   "metadata": {},
   "source": [
    "Changing datatype"
   ]
  },
  {
   "cell_type": "code",
   "execution_count": 8,
   "id": "fdb738f4",
   "metadata": {},
   "outputs": [
    {
     "data": {
      "text/plain": [
       "array([[[0, 1],\n",
       "        [2, 3]],\n",
       "\n",
       "       [[4, 5],\n",
       "        [6, 7]]], dtype=int32)"
      ]
     },
     "execution_count": 8,
     "metadata": {},
     "output_type": "execute_result"
    }
   ],
   "source": [
    "#astype   --->> file size manuplation usedd fro memory optimisation\n",
    "a3.astype(np.int32) "
   ]
  },
  {
   "cell_type": "markdown",
   "id": "576cb453",
   "metadata": {},
   "source": [
    "Array ops\n"
   ]
  },
  {
   "cell_type": "code",
   "execution_count": 9,
   "id": "817ccc91",
   "metadata": {},
   "outputs": [
    {
     "name": "stdout",
     "output_type": "stream",
     "text": [
      "[[ 0  1  2  3]\n",
      " [ 4  5  6  7]\n",
      " [ 8  9 10 11]]\n"
     ]
    },
    {
     "data": {
      "text/plain": [
       "array([[12, 13, 14, 15],\n",
       "       [16, 17, 18, 19],\n",
       "       [20, 21, 22, 23]])"
      ]
     },
     "execution_count": 9,
     "metadata": {},
     "output_type": "execute_result"
    }
   ],
   "source": [
    "a1 = np.arange(12).reshape(3,4)\n",
    "a2 = np.arange(12,24).reshape(3,4)\n",
    "print(a1)\n",
    "a2"
   ]
  },
  {
   "cell_type": "code",
   "execution_count": 10,
   "id": "d7900ba4",
   "metadata": {},
   "outputs": [
    {
     "name": "stdout",
     "output_type": "stream",
     "text": [
      "[[12 14 16 18]\n",
      " [20 22 24 26]\n",
      " [28 30 32 34]]\n",
      "[[-12 -12 -12 -12]\n",
      " [-12 -12 -12 -12]\n",
      " [-12 -12 -12 -12]]\n",
      "[[  0  13  28  45]\n",
      " [ 64  85 108 133]\n",
      " [160 189 220 253]]\n",
      "[[0.         0.07692308 0.14285714 0.2       ]\n",
      " [0.25       0.29411765 0.33333333 0.36842105]\n",
      " [0.4        0.42857143 0.45454545 0.47826087]]\n"
     ]
    }
   ],
   "source": [
    "#scalar operations \n",
    "\n",
    "\n",
    "#arithmetic -->> sara ka sara apply hoga you can do that \n",
    "\n",
    "print(a1+a2)\n",
    "\n",
    "print(a1-a2)\n",
    "\n",
    "print(a1*a2)\n",
    "\n",
    "print(a1/a2)\n"
   ]
  },
  {
   "cell_type": "code",
   "execution_count": 11,
   "id": "7f6ff48a",
   "metadata": {},
   "outputs": [
    {
     "data": {
      "text/plain": [
       "array([[False, False, False, False],\n",
       "       [ True,  True,  True,  True],\n",
       "       [ True,  True,  True,  True]])"
      ]
     },
     "execution_count": 11,
     "metadata": {},
     "output_type": "execute_result"
    }
   ],
   "source": [
    "#relational \n",
    "a2>15"
   ]
  },
  {
   "cell_type": "code",
   "execution_count": 12,
   "id": "1c5873c2",
   "metadata": {},
   "outputs": [
    {
     "name": "stdout",
     "output_type": "stream",
     "text": [
      "[[12 14 16 18]\n",
      " [20 22 24 26]\n",
      " [28 30 32 34]]\n"
     ]
    },
    {
     "data": {
      "text/plain": [
       "array([[                   0,                    1,                16384,\n",
       "                    14348907],\n",
       "       [          4294967296,         762939453125,      101559956668416,\n",
       "           11398895185373143],\n",
       "       [ 1152921504606846976, -1261475310744950487,  1864712049423024128,\n",
       "         6839173302027254275]])"
      ]
     },
     "execution_count": 12,
     "metadata": {},
     "output_type": "execute_result"
    }
   ],
   "source": [
    "#vector ops \n",
    "#arithmetic\n",
    "\n",
    "\n",
    "print(a1+a2)\n",
    "\n",
    "a1**a2"
   ]
  },
  {
   "cell_type": "markdown",
   "id": "c1dd2e38",
   "metadata": {},
   "source": [
    "Array Functions"
   ]
  },
  {
   "cell_type": "code",
   "execution_count": 13,
   "id": "7f904173",
   "metadata": {},
   "outputs": [
    {
     "data": {
      "text/plain": [
       "array([[62., 65., 68.],\n",
       "       [67., 83., 11.],\n",
       "       [33., 38., 19.]])"
      ]
     },
     "execution_count": 13,
     "metadata": {},
     "output_type": "execute_result"
    }
   ],
   "source": [
    "a1 = np.random.random((3,3))\n",
    "a1 = np.round(a1*100)\n",
    "a1 "
   ]
  },
  {
   "cell_type": "code",
   "execution_count": 14,
   "id": "053c09bd",
   "metadata": {},
   "outputs": [
    {
     "data": {
      "text/plain": [
       "np.float64(399402405813840.0)"
      ]
     },
     "execution_count": 14,
     "metadata": {},
     "output_type": "execute_result"
    }
   ],
   "source": [
    "#max / min / sum / prod\n",
    "\n",
    "\n",
    "np.max(a1)\n",
    "np.min(a1)\n",
    "np.sum(a1)\n",
    "np.prod(a1)"
   ]
  },
  {
   "cell_type": "code",
   "execution_count": 15,
   "id": "c7f27204",
   "metadata": {},
   "outputs": [
    {
     "data": {
      "text/plain": [
       "array([68., 83., 38.])"
      ]
     },
     "execution_count": 15,
     "metadata": {},
     "output_type": "execute_result"
    }
   ],
   "source": [
    "# 0->>column  and 1-->>row \n",
    "\n",
    "#column-wise\n",
    "np.max(a1,axis=0)\n",
    "\n",
    "#row-wise\n",
    "np.max(a1,axis=1)\n",
    "\n",
    "\n",
    "#all other functions are applicable "
   ]
  },
  {
   "cell_type": "markdown",
   "id": "f16a442b",
   "metadata": {},
   "source": [
    "mean / median / std /var"
   ]
  },
  {
   "cell_type": "code",
   "execution_count": 16,
   "id": "8b9f3e8e",
   "metadata": {},
   "outputs": [
    {
     "data": {
      "text/plain": [
       "array([54.        , 62.        , 32.66666667])"
      ]
     },
     "execution_count": 16,
     "metadata": {},
     "output_type": "execute_result"
    }
   ],
   "source": [
    "np.mean(a1,axis=0)"
   ]
  },
  {
   "cell_type": "code",
   "execution_count": 17,
   "id": "48888e64",
   "metadata": {},
   "outputs": [
    {
     "data": {
      "text/plain": [
       "array([62., 65., 19.])"
      ]
     },
     "execution_count": 17,
     "metadata": {},
     "output_type": "execute_result"
    }
   ],
   "source": [
    "np.median(a1,axis=0)"
   ]
  },
  {
   "cell_type": "code",
   "execution_count": 18,
   "id": "7a9388c0",
   "metadata": {},
   "outputs": [
    {
     "data": {
      "text/plain": [
       "array([  6.        , 952.88888889,  64.66666667])"
      ]
     },
     "execution_count": 18,
     "metadata": {},
     "output_type": "execute_result"
    }
   ],
   "source": [
    "np.var(a1,axis=1)"
   ]
  },
  {
   "cell_type": "code",
   "execution_count": 19,
   "id": "96e03996",
   "metadata": {},
   "outputs": [
    {
     "data": {
      "text/plain": [
       "array([[-0.7391807 ,  0.82682868, -0.89792768],\n",
       "       [-0.85551998,  0.96836446, -0.99999021],\n",
       "       [ 0.99991186,  0.29636858,  0.14987721]])"
      ]
     },
     "execution_count": 19,
     "metadata": {},
     "output_type": "execute_result"
    }
   ],
   "source": [
    "#trigonometric\n",
    "np.sin(a1)  \n",
    "\n",
    "#all trigo formula valid"
   ]
  },
  {
   "cell_type": "markdown",
   "id": "87849185",
   "metadata": {},
   "source": [
    "DOt product\n"
   ]
  },
  {
   "cell_type": "code",
   "execution_count": 20,
   "id": "f7abf1a3",
   "metadata": {},
   "outputs": [
    {
     "data": {
      "text/plain": [
       "array([[114, 120, 126],\n",
       "       [378, 400, 422],\n",
       "       [642, 680, 718]])"
      ]
     },
     "execution_count": 20,
     "metadata": {},
     "output_type": "execute_result"
    }
   ],
   "source": [
    "a2=np.arange(12).reshape(3,4)\n",
    "a3=np.arange(12,24).reshape(4,3)\n",
    "\n",
    "np.dot(a2,a3)"
   ]
  },
  {
   "cell_type": "code",
   "execution_count": 21,
   "id": "6aac10c5",
   "metadata": {},
   "outputs": [
    {
     "data": {
      "text/plain": [
       "array([[4.12713439, 4.17438727, 4.21950771],\n",
       "       [4.20469262, 4.41884061, 2.39789527],\n",
       "       [3.49650756, 3.63758616, 2.94443898]])"
      ]
     },
     "execution_count": 21,
     "metadata": {},
     "output_type": "execute_result"
    }
   ],
   "source": [
    "#log and exponents\n",
    "np.log(a1)"
   ]
  },
  {
   "cell_type": "code",
   "execution_count": 22,
   "id": "c308d541",
   "metadata": {},
   "outputs": [
    {
     "data": {
      "text/plain": [
       "array([[8.43835667e+26, 1.69488924e+28, 3.40427605e+29],\n",
       "       [1.25236317e+29, 1.11286375e+36, 5.98741417e+04],\n",
       "       [2.14643580e+14, 3.18559318e+16, 1.78482301e+08]])"
      ]
     },
     "execution_count": 22,
     "metadata": {},
     "output_type": "execute_result"
    }
   ],
   "source": [
    "np.exp(a1)"
   ]
  },
  {
   "cell_type": "code",
   "execution_count": 23,
   "id": "40d4ec74",
   "metadata": {},
   "outputs": [
    {
     "data": {
      "text/plain": [
       "array([[100.,  43.,  79.],\n",
       "       [ 29.,  84.,  62.]])"
      ]
     },
     "execution_count": 23,
     "metadata": {},
     "output_type": "execute_result"
    }
   ],
   "source": [
    "#round / ceil  /floor \n",
    "\n",
    "np.round(np.random.random((2,3))*100)\n",
    "\n",
    "# floor -->> piche wale element pr phenkta h \n",
    "np.floor(np.random.random((2,3))*100)\n",
    "\n",
    "#ceil -->> aage wale element pr phenkta h \n",
    "np.ceil(np.random.random((2,3))*100)"
   ]
  },
  {
   "cell_type": "markdown",
   "id": "e04d559a",
   "metadata": {},
   "source": [
    "Indexing /slicing "
   ]
  },
  {
   "cell_type": "code",
   "execution_count": 24,
   "id": "4c931d21",
   "metadata": {},
   "outputs": [],
   "source": [
    "a1= np.arange(10)\n",
    "a2= np.arange(12).reshape(3,4)\n",
    "a3 = np.arange(8).reshape(2,2,2)\n",
    "\n"
   ]
  },
  {
   "cell_type": "code",
   "execution_count": 25,
   "id": "bc628918",
   "metadata": {},
   "outputs": [
    {
     "data": {
      "text/plain": [
       "array([0, 1, 2, 3, 4, 5, 6, 7, 8, 9])"
      ]
     },
     "execution_count": 25,
     "metadata": {},
     "output_type": "execute_result"
    }
   ],
   "source": [
    "a1"
   ]
  },
  {
   "cell_type": "code",
   "execution_count": 26,
   "id": "c080f797",
   "metadata": {},
   "outputs": [
    {
     "data": {
      "text/plain": [
       "np.int64(0)"
      ]
     },
     "execution_count": 26,
     "metadata": {},
     "output_type": "execute_result"
    }
   ],
   "source": [
    "a1[0]"
   ]
  },
  {
   "cell_type": "code",
   "execution_count": 27,
   "id": "d293b0ba",
   "metadata": {},
   "outputs": [
    {
     "data": {
      "text/plain": [
       "array([[ 0,  1,  2,  3],\n",
       "       [ 4,  5,  6,  7],\n",
       "       [ 8,  9, 10, 11]])"
      ]
     },
     "execution_count": 27,
     "metadata": {},
     "output_type": "execute_result"
    }
   ],
   "source": [
    "a2"
   ]
  },
  {
   "cell_type": "code",
   "execution_count": 28,
   "id": "c7e067b5",
   "metadata": {},
   "outputs": [
    {
     "data": {
      "text/plain": [
       "np.int64(11)"
      ]
     },
     "execution_count": 28,
     "metadata": {},
     "output_type": "execute_result"
    }
   ],
   "source": [
    "a2[1,2]  #extracting 6 \n",
    "\n",
    "a2[2,3] #11"
   ]
  },
  {
   "cell_type": "code",
   "execution_count": 29,
   "id": "6fde08ee",
   "metadata": {},
   "outputs": [
    {
     "data": {
      "text/plain": [
       "array([[[0, 1],\n",
       "        [2, 3]],\n",
       "\n",
       "       [[4, 5],\n",
       "        [6, 7]]])"
      ]
     },
     "execution_count": 29,
     "metadata": {},
     "output_type": "execute_result"
    }
   ],
   "source": [
    "a3"
   ]
  },
  {
   "cell_type": "code",
   "execution_count": 30,
   "id": "b1869d12",
   "metadata": {},
   "outputs": [
    {
     "data": {
      "text/plain": [
       "np.int64(5)"
      ]
     },
     "execution_count": 30,
     "metadata": {},
     "output_type": "execute_result"
    }
   ],
   "source": [
    "a3[0,1,0]  #extracting 2 \n",
    "\n",
    "a3[1,0,1]  # 5 \n",
    "\n",
    "#1st konsa matrix , row , column"
   ]
  },
  {
   "cell_type": "code",
   "execution_count": 31,
   "id": "105056c4",
   "metadata": {},
   "outputs": [
    {
     "data": {
      "text/plain": [
       "array([0, 1, 2, 3, 4, 5, 6, 7, 8, 9])"
      ]
     },
     "execution_count": 31,
     "metadata": {},
     "output_type": "execute_result"
    }
   ],
   "source": [
    "#slicing \n",
    "\n",
    "a1"
   ]
  },
  {
   "cell_type": "code",
   "execution_count": 32,
   "id": "0ecfb3ff",
   "metadata": {},
   "outputs": [
    {
     "data": {
      "text/plain": [
       "array([2, 3, 4])"
      ]
     },
     "execution_count": 32,
     "metadata": {},
     "output_type": "execute_result"
    }
   ],
   "source": [
    "a1[2:5]  # same as py"
   ]
  },
  {
   "cell_type": "code",
   "execution_count": 33,
   "id": "e713d46a",
   "metadata": {},
   "outputs": [
    {
     "data": {
      "text/plain": [
       "array([2, 4])"
      ]
     },
     "execution_count": 33,
     "metadata": {},
     "output_type": "execute_result"
    }
   ],
   "source": [
    "a1[2:5:2]  # 2 2 k gap me "
   ]
  },
  {
   "cell_type": "code",
   "execution_count": 34,
   "id": "271b2c31",
   "metadata": {},
   "outputs": [
    {
     "data": {
      "text/plain": [
       "array([[ 0,  1,  2,  3],\n",
       "       [ 4,  5,  6,  7],\n",
       "       [ 8,  9, 10, 11]])"
      ]
     },
     "execution_count": 34,
     "metadata": {},
     "output_type": "execute_result"
    }
   ],
   "source": [
    "#2d\n",
    "a2"
   ]
  },
  {
   "cell_type": "code",
   "execution_count": 35,
   "id": "73540ccb",
   "metadata": {},
   "outputs": [
    {
     "data": {
      "text/plain": [
       "array([0, 1, 2, 3])"
      ]
     },
     "execution_count": 35,
     "metadata": {},
     "output_type": "execute_result"
    }
   ],
   "source": [
    "a2[0,:] #extracting 1st row \n",
    "\n",
    "# 1st input index of row and for all columns use (:)"
   ]
  },
  {
   "cell_type": "code",
   "execution_count": 36,
   "id": "64af3b84",
   "metadata": {},
   "outputs": [
    {
     "data": {
      "text/plain": [
       "array([ 2,  6, 10])"
      ]
     },
     "execution_count": 36,
     "metadata": {},
     "output_type": "execute_result"
    }
   ],
   "source": [
    "a2[:,2]    #column extraction"
   ]
  },
  {
   "cell_type": "code",
   "execution_count": 37,
   "id": "e1719835",
   "metadata": {},
   "outputs": [
    {
     "data": {
      "text/plain": [
       "array([[ 5,  6],\n",
       "       [ 9, 10]])"
      ]
     },
     "execution_count": 37,
     "metadata": {},
     "output_type": "execute_result"
    }
   ],
   "source": [
    "a2[1:,1:3]  # row kha se kha tk , column kha se kha tk"
   ]
  },
  {
   "cell_type": "code",
   "execution_count": 38,
   "id": "a67f9938",
   "metadata": {},
   "outputs": [
    {
     "data": {
      "text/plain": [
       "array([[ 0,  3],\n",
       "       [ 8, 11]])"
      ]
     },
     "execution_count": 38,
     "metadata": {},
     "output_type": "execute_result"
    }
   ],
   "source": [
    "a2[::2,::3]    # 0 8 \n",
    "  # tino rows toh ::2 --->> rows alternate\n",
    "  # tino columns toh ::3 --->> columns alternate "
   ]
  },
  {
   "cell_type": "code",
   "execution_count": 40,
   "id": "e1d9a6fb",
   "metadata": {},
   "outputs": [
    {
     "data": {
      "text/plain": [
       "array([[ 1,  3],\n",
       "       [ 9, 11]])"
      ]
     },
     "execution_count": 40,
     "metadata": {},
     "output_type": "execute_result"
    }
   ],
   "source": [
    "a2[::2,1::2] "
   ]
  },
  {
   "cell_type": "code",
   "execution_count": 41,
   "id": "6429cd5f",
   "metadata": {},
   "outputs": [
    {
     "data": {
      "text/plain": [
       "array([4, 7])"
      ]
     },
     "execution_count": 41,
     "metadata": {},
     "output_type": "execute_result"
    }
   ],
   "source": [
    "a2[1,::3]"
   ]
  },
  {
   "cell_type": "code",
   "execution_count": 45,
   "id": "db67e6a5",
   "metadata": {},
   "outputs": [
    {
     "data": {
      "text/plain": [
       "array([[1, 2, 3],\n",
       "       [5, 6, 7]])"
      ]
     },
     "execution_count": 45,
     "metadata": {},
     "output_type": "execute_result"
    }
   ],
   "source": [
    "a2[0:2,1:]"
   ]
  },
  {
   "cell_type": "code",
   "execution_count": 48,
   "id": "7b10e13c",
   "metadata": {},
   "outputs": [
    {
     "data": {
      "text/plain": [
       "array([[[ 0,  1,  2],\n",
       "        [ 3,  4,  5],\n",
       "        [ 6,  7,  8]],\n",
       "\n",
       "       [[ 9, 10, 11],\n",
       "        [12, 13, 14],\n",
       "        [15, 16, 17]],\n",
       "\n",
       "       [[18, 19, 20],\n",
       "        [21, 22, 23],\n",
       "        [24, 25, 26]]])"
      ]
     },
     "execution_count": 48,
     "metadata": {},
     "output_type": "execute_result"
    }
   ],
   "source": [
    "a3 = np.arange(27).reshape(3,3,3)\n",
    "a3"
   ]
  },
  {
   "cell_type": "code",
   "execution_count": null,
   "id": "df1aef56",
   "metadata": {},
   "outputs": [
    {
     "data": {
      "text/plain": [
       "array([[[ 0,  1,  2],\n",
       "        [ 3,  4,  5],\n",
       "        [ 6,  7,  8]],\n",
       "\n",
       "       [[18, 19, 20],\n",
       "        [21, 22, 23],\n",
       "        [24, 25, 26]]])"
      ]
     },
     "execution_count": 51,
     "metadata": {},
     "output_type": "execute_result"
    }
   ],
   "source": [
    "a3[1] #bich wala \n",
    "a3[0::2]  #1st n last \n"
   ]
  },
  {
   "cell_type": "code",
   "execution_count": 53,
   "id": "46dca520",
   "metadata": {},
   "outputs": [
    {
     "data": {
      "text/plain": [
       "array([3, 4, 5])"
      ]
     },
     "execution_count": 53,
     "metadata": {},
     "output_type": "execute_result"
    }
   ],
   "source": [
    "a3[0,1,:]"
   ]
  },
  {
   "cell_type": "code",
   "execution_count": null,
   "id": "5c58241b",
   "metadata": {},
   "outputs": [
    {
     "data": {
      "text/plain": [
       "array([12, 13, 14])"
      ]
     },
     "execution_count": 54,
     "metadata": {},
     "output_type": "execute_result"
    }
   ],
   "source": [
    "a3[1,1,:]  #jb sari rows and columns chiye toh : use kro "
   ]
  },
  {
   "cell_type": "code",
   "execution_count": 61,
   "id": "d7a00d45",
   "metadata": {},
   "outputs": [
    {
     "data": {
      "text/plain": [
       "array([10, 13, 16])"
      ]
     },
     "execution_count": 61,
     "metadata": {},
     "output_type": "execute_result"
    }
   ],
   "source": [
    "a3[1,:,1]"
   ]
  },
  {
   "cell_type": "code",
   "execution_count": null,
   "id": "dbce71ea",
   "metadata": {},
   "outputs": [
    {
     "data": {
      "text/plain": [
       "array([24, 25, 26])"
      ]
     },
     "execution_count": 63,
     "metadata": {},
     "output_type": "execute_result"
    }
   ],
   "source": [
    "a3[2,1: ,1:]\n",
    "\n",
    "#1: means 1 onwards--> 1 k age k age se sb kuch \n",
    "#  and :1 means --> start up but not including index 1 "
   ]
  },
  {
   "cell_type": "code",
   "execution_count": 64,
   "id": "775a6f3c",
   "metadata": {},
   "outputs": [
    {
     "data": {
      "text/plain": [
       "array([[ 0,  2],\n",
       "       [18, 20]])"
      ]
     },
     "execution_count": 64,
     "metadata": {},
     "output_type": "execute_result"
    }
   ],
   "source": [
    "a3[::2,0,::2]"
   ]
  },
  {
   "cell_type": "markdown",
   "id": "d9f2b6fa",
   "metadata": {},
   "source": [
    "Iterating "
   ]
  },
  {
   "cell_type": "code",
   "execution_count": 65,
   "id": "2042ec85",
   "metadata": {},
   "outputs": [
    {
     "data": {
      "text/plain": [
       "array([0, 1, 2, 3, 4, 5, 6, 7, 8, 9])"
      ]
     },
     "execution_count": 65,
     "metadata": {},
     "output_type": "execute_result"
    }
   ],
   "source": [
    "a1"
   ]
  },
  {
   "cell_type": "code",
   "execution_count": 66,
   "id": "de0ac269",
   "metadata": {},
   "outputs": [
    {
     "name": "stdout",
     "output_type": "stream",
     "text": [
      "0\n",
      "1\n",
      "2\n",
      "3\n",
      "4\n",
      "5\n",
      "6\n",
      "7\n",
      "8\n",
      "9\n"
     ]
    }
   ],
   "source": [
    "for i in a1:\n",
    "    print(i)"
   ]
  },
  {
   "cell_type": "code",
   "execution_count": 67,
   "id": "bd4109a2",
   "metadata": {},
   "outputs": [
    {
     "data": {
      "text/plain": [
       "array([[ 0,  1,  2,  3],\n",
       "       [ 4,  5,  6,  7],\n",
       "       [ 8,  9, 10, 11]])"
      ]
     },
     "execution_count": 67,
     "metadata": {},
     "output_type": "execute_result"
    }
   ],
   "source": [
    "a2"
   ]
  },
  {
   "cell_type": "code",
   "execution_count": 70,
   "id": "27e163b4",
   "metadata": {},
   "outputs": [
    {
     "name": "stdout",
     "output_type": "stream",
     "text": [
      "[0 1 2 3]\n",
      "[4 5 6 7]\n",
      "[ 8  9 10 11]\n"
     ]
    }
   ],
   "source": [
    "for i in a2:\n",
    "    print (i)"
   ]
  },
  {
   "cell_type": "code",
   "execution_count": 71,
   "id": "e11fba4c",
   "metadata": {},
   "outputs": [
    {
     "data": {
      "text/plain": [
       "array([[[ 0,  1,  2],\n",
       "        [ 3,  4,  5],\n",
       "        [ 6,  7,  8]],\n",
       "\n",
       "       [[ 9, 10, 11],\n",
       "        [12, 13, 14],\n",
       "        [15, 16, 17]],\n",
       "\n",
       "       [[18, 19, 20],\n",
       "        [21, 22, 23],\n",
       "        [24, 25, 26]]])"
      ]
     },
     "execution_count": 71,
     "metadata": {},
     "output_type": "execute_result"
    }
   ],
   "source": [
    "a3"
   ]
  },
  {
   "cell_type": "code",
   "execution_count": 72,
   "id": "55cefcf1",
   "metadata": {},
   "outputs": [
    {
     "name": "stdout",
     "output_type": "stream",
     "text": [
      "[[0 1 2]\n",
      " [3 4 5]\n",
      " [6 7 8]]\n",
      "[[ 9 10 11]\n",
      " [12 13 14]\n",
      " [15 16 17]]\n",
      "[[18 19 20]\n",
      " [21 22 23]\n",
      " [24 25 26]]\n"
     ]
    }
   ],
   "source": [
    "for i in a3:\n",
    "    print(i)"
   ]
  },
  {
   "cell_type": "code",
   "execution_count": null,
   "id": "3babf47c",
   "metadata": {},
   "outputs": [
    {
     "name": "stdout",
     "output_type": "stream",
     "text": [
      "0\n",
      "1\n",
      "2\n",
      "3\n",
      "4\n",
      "5\n",
      "6\n",
      "7\n",
      "8\n",
      "9\n",
      "10\n",
      "11\n",
      "12\n",
      "13\n",
      "14\n",
      "15\n",
      "16\n",
      "17\n",
      "18\n",
      "19\n",
      "20\n",
      "21\n",
      "22\n",
      "23\n",
      "24\n",
      "25\n",
      "26\n"
     ]
    }
   ],
   "source": [
    "for i in np.nditer(a3):   #pura kholdega \n",
    "    print(i)"
   ]
  },
  {
   "cell_type": "markdown",
   "id": "92b9b401",
   "metadata": {},
   "source": [
    "RESHAPING"
   ]
  },
  {
   "cell_type": "code",
   "execution_count": null,
   "id": "6df6ed16",
   "metadata": {},
   "outputs": [],
   "source": [
    "#reshape allready done "
   ]
  },
  {
   "cell_type": "code",
   "execution_count": 75,
   "id": "3efec20b",
   "metadata": {},
   "outputs": [
    {
     "name": "stdout",
     "output_type": "stream",
     "text": [
      "[[ 0  1  2  3]\n",
      " [ 4  5  6  7]\n",
      " [ 8  9 10 11]]\n"
     ]
    },
    {
     "data": {
      "text/plain": [
       "array([[ 0,  4,  8],\n",
       "       [ 1,  5,  9],\n",
       "       [ 2,  6, 10],\n",
       "       [ 3,  7, 11]])"
      ]
     },
     "execution_count": 75,
     "metadata": {},
     "output_type": "execute_result"
    }
   ],
   "source": [
    "#transpose \n",
    "\n",
    "print(a2)\n",
    "\n",
    "np.transpose(a2)"
   ]
  },
  {
   "cell_type": "code",
   "execution_count": 76,
   "id": "1fa0c71b",
   "metadata": {},
   "outputs": [
    {
     "data": {
      "text/plain": [
       "array([[ 0,  4,  8],\n",
       "       [ 1,  5,  9],\n",
       "       [ 2,  6, 10],\n",
       "       [ 3,  7, 11]])"
      ]
     },
     "execution_count": 76,
     "metadata": {},
     "output_type": "execute_result"
    }
   ],
   "source": [
    "#simpller\n",
    "a2.T"
   ]
  },
  {
   "cell_type": "code",
   "execution_count": 81,
   "id": "190861f9",
   "metadata": {},
   "outputs": [
    {
     "name": "stdout",
     "output_type": "stream",
     "text": [
      "<built-in method ravel of numpy.ndarray object at 0x0000028C7E659770>\n"
     ]
    }
   ],
   "source": [
    "#ravel -->> n dimension to 1d array \n",
    "\n",
    "a2.ravel\n",
    "print(a3.ravel)"
   ]
  },
  {
   "cell_type": "markdown",
   "id": "1900f8e2",
   "metadata": {},
   "source": [
    "STACKING"
   ]
  },
  {
   "cell_type": "code",
   "execution_count": 93,
   "id": "ac24a9b1",
   "metadata": {},
   "outputs": [],
   "source": [
    "#horizontal stacking \n",
    "\n",
    "a4=np.arange(12).reshape(3,4)\n",
    "a5=np.arange(12,24).reshape(3,4)"
   ]
  },
  {
   "cell_type": "code",
   "execution_count": null,
   "id": "867a2808",
   "metadata": {},
   "outputs": [],
   "source": [
    "np.hstack((a4,a5))"
   ]
  },
  {
   "cell_type": "code",
   "execution_count": null,
   "id": "752d78ca",
   "metadata": {},
   "outputs": [
    {
     "data": {
      "text/plain": [
       "array([[ 0,  1,  2,  3],\n",
       "       [ 4,  5,  6,  7],\n",
       "       [ 8,  9, 10, 11],\n",
       "       [12, 13, 14, 15],\n",
       "       [16, 17, 18, 19],\n",
       "       [20, 21, 22, 23]])"
      ]
     },
     "execution_count": 86,
     "metadata": {},
     "output_type": "execute_result"
    }
   ],
   "source": [
    "#vertical stacking \n",
    "np.vstack((a4,a5)) \n",
    "\n",
    "#in stacking dono ka shape same honA CHIYE"
   ]
  },
  {
   "cell_type": "markdown",
   "id": "ee6a1eaa",
   "metadata": {},
   "source": [
    "SPLITTING"
   ]
  },
  {
   "cell_type": "code",
   "execution_count": null,
   "id": "a3f0ca2f",
   "metadata": {},
   "outputs": [
    {
     "data": {
      "text/plain": [
       "[array([[0],\n",
       "        [4],\n",
       "        [8]]),\n",
       " array([[1],\n",
       "        [5],\n",
       "        [9]]),\n",
       " array([[ 2],\n",
       "        [ 6],\n",
       "        [10]]),\n",
       " array([[ 3],\n",
       "        [ 7],\n",
       "        [11]])]"
      ]
     },
     "execution_count": 89,
     "metadata": {},
     "output_type": "execute_result"
    }
   ],
   "source": [
    "#horizontal\n",
    "a4\n",
    "\n",
    "np.hsplit(a4,4)  #2 is kitne tukde krne h equal\n",
    "# division must be equal"
   ]
  },
  {
   "cell_type": "code",
   "execution_count": 97,
   "id": "dfbc6997",
   "metadata": {},
   "outputs": [
    {
     "data": {
      "text/plain": [
       "[array([[12, 13, 14, 15]]),\n",
       " array([[16, 17, 18, 19]]),\n",
       " array([[20, 21, 22, 23]])]"
      ]
     },
     "execution_count": 97,
     "metadata": {},
     "output_type": "execute_result"
    }
   ],
   "source": [
    "#vertical splitting \n",
    "\n",
    "np.vsplit(a5,3)\n",
    "\n",
    "#print(a5)"
   ]
  }
 ],
 "metadata": {
  "kernelspec": {
   "display_name": ".venv",
   "language": "python",
   "name": "python3"
  },
  "language_info": {
   "codemirror_mode": {
    "name": "ipython",
    "version": 3
   },
   "file_extension": ".py",
   "mimetype": "text/x-python",
   "name": "python",
   "nbconvert_exporter": "python",
   "pygments_lexer": "ipython3",
   "version": "3.12.7"
  }
 },
 "nbformat": 4,
 "nbformat_minor": 5
}
