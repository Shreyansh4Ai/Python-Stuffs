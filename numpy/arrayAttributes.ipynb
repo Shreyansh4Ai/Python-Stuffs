{
 "cells": [
  {
   "cell_type": "markdown",
   "id": "4944a96f",
   "metadata": {},
   "source": [
    "<h1>Array Attributes\n"
   ]
  },
  {
   "cell_type": "code",
   "execution_count": 4,
   "id": "81a5eea7",
   "metadata": {},
   "outputs": [
    {
     "name": "stdout",
     "output_type": "stream",
     "text": [
      "[0 1 2 3 4 5 6 7 8 9]\n",
      "[[ 0.  1.  2.  3.]\n",
      " [ 4.  5.  6.  7.]\n",
      " [ 8.  9. 10. 11.]]\n"
     ]
    },
    {
     "data": {
      "text/plain": [
       "array([[[0, 1],\n",
       "        [2, 3]],\n",
       "\n",
       "       [[4, 5],\n",
       "        [6, 7]]])"
      ]
     },
     "execution_count": 4,
     "metadata": {},
     "output_type": "execute_result"
    }
   ],
   "source": [
    "import numpy as np\n",
    "\n",
    "a1 = np.arange(10)\n",
    "a2 = np.arange(12,dtype=float).reshape(3,4)\n",
    "a3 = np.arange(8).reshape(2,2,2)\n",
    "\n",
    "print(a1)\n",
    "print(a2)\n",
    "a3"
   ]
  },
  {
   "cell_type": "code",
   "execution_count": 8,
   "id": "4cc8c470",
   "metadata": {},
   "outputs": [
    {
     "data": {
      "text/plain": [
       "3"
      ]
     },
     "execution_count": 8,
     "metadata": {},
     "output_type": "execute_result"
    }
   ],
   "source": [
    "#ndim--->> number of dimensions \n",
    "\n",
    "a1.ndim\n",
    "a2.ndim\n",
    "a3.ndim"
   ]
  },
  {
   "cell_type": "code",
   "execution_count": null,
   "id": "50974ad7",
   "metadata": {},
   "outputs": [
    {
     "data": {
      "text/plain": [
       "(2, 2, 2)"
      ]
     },
     "execution_count": 11,
     "metadata": {},
     "output_type": "execute_result"
    }
   ],
   "source": [
    "#shape\n",
    " ## har dimension m kitne items h ##\n",
    "\n",
    "a1.shape\n",
    "a2.shape\n",
    "a3.shape\n",
    "\n",
    "#(2,2,2)  iska mtlb h ki kitne 2d arrays h and unka kitna row kitna column h "
   ]
  },
  {
   "cell_type": "code",
   "execution_count": 13,
   "id": "ffb1a902",
   "metadata": {},
   "outputs": [
    {
     "name": "stdout",
     "output_type": "stream",
     "text": [
      "12\n"
     ]
    }
   ],
   "source": [
    "#size -->> no. of items\n",
    "\n",
    "print(a2.size)"
   ]
  },
  {
   "cell_type": "code",
   "execution_count": null,
   "id": "2bd3e43e",
   "metadata": {},
   "outputs": [
    {
     "name": "stdout",
     "output_type": "stream",
     "text": [
      "8\n"
     ]
    },
    {
     "data": {
      "text/plain": [
       "8"
      ]
     },
     "execution_count": 17,
     "metadata": {},
     "output_type": "execute_result"
    }
   ],
   "source": [
    "#itemsize   -->> memory m kitte bytes h each item k \n",
    "a3.itemsize\n",
    "\n",
    "print(a2.itemsize)\n",
    "#int 32 4 byte leta h and int 64 8 byte leta h "
   ]
  },
  {
   "cell_type": "code",
   "execution_count": 18,
   "id": "d7ca6005",
   "metadata": {},
   "outputs": [
    {
     "name": "stdout",
     "output_type": "stream",
     "text": [
      "int64\n",
      "float64\n",
      "int64\n"
     ]
    }
   ],
   "source": [
    "print(a1.dtype)\n",
    "print(a2.dtype)\n",
    "print(a3.dtype)"
   ]
  },
  {
   "cell_type": "markdown",
   "id": "e076b3a6",
   "metadata": {},
   "source": [
    "Changing datatype"
   ]
  },
  {
   "cell_type": "code",
   "execution_count": null,
   "id": "fdb738f4",
   "metadata": {},
   "outputs": [
    {
     "data": {
      "text/plain": [
       "array([[[0, 1],\n",
       "        [2, 3]],\n",
       "\n",
       "       [[4, 5],\n",
       "        [6, 7]]], dtype=int32)"
      ]
     },
     "execution_count": 19,
     "metadata": {},
     "output_type": "execute_result"
    }
   ],
   "source": [
    "#astype   --->> file size manuplation usedd fro memory optimisation\n",
    "a3.astype(np.int32) "
   ]
  },
  {
   "cell_type": "markdown",
   "id": "576cb453",
   "metadata": {},
   "source": [
    "Array ops\n"
   ]
  },
  {
   "cell_type": "code",
   "execution_count": 22,
   "id": "817ccc91",
   "metadata": {},
   "outputs": [
    {
     "name": "stdout",
     "output_type": "stream",
     "text": [
      "[[ 0  1  2  3]\n",
      " [ 4  5  6  7]\n",
      " [ 8  9 10 11]]\n"
     ]
    },
    {
     "data": {
      "text/plain": [
       "array([[12, 13, 14, 15],\n",
       "       [16, 17, 18, 19],\n",
       "       [20, 21, 22, 23]])"
      ]
     },
     "execution_count": 22,
     "metadata": {},
     "output_type": "execute_result"
    }
   ],
   "source": [
    "a1 = np.arange(12).reshape(3,4)\n",
    "a2 = np.arange(12,24).reshape(3,4)\n",
    "print(a1)\n",
    "a2"
   ]
  },
  {
   "cell_type": "code",
   "execution_count": 24,
   "id": "d7900ba4",
   "metadata": {},
   "outputs": [
    {
     "name": "stdout",
     "output_type": "stream",
     "text": [
      "[[12 14 16 18]\n",
      " [20 22 24 26]\n",
      " [28 30 32 34]]\n",
      "[[-12 -12 -12 -12]\n",
      " [-12 -12 -12 -12]\n",
      " [-12 -12 -12 -12]]\n",
      "[[  0  13  28  45]\n",
      " [ 64  85 108 133]\n",
      " [160 189 220 253]]\n",
      "[[0.         0.07692308 0.14285714 0.2       ]\n",
      " [0.25       0.29411765 0.33333333 0.36842105]\n",
      " [0.4        0.42857143 0.45454545 0.47826087]]\n"
     ]
    }
   ],
   "source": [
    "#scalar operations \n",
    "\n",
    "\n",
    "#arithmetic -->> sara ka sara apply hoga you can do that \n",
    "\n",
    "print(a1+a2)\n",
    "\n",
    "print(a1-a2)\n",
    "\n",
    "print(a1*a2)\n",
    "\n",
    "print(a1/a2)\n"
   ]
  },
  {
   "cell_type": "code",
   "execution_count": 25,
   "id": "7f6ff48a",
   "metadata": {},
   "outputs": [
    {
     "data": {
      "text/plain": [
       "array([[False, False, False, False],\n",
       "       [ True,  True,  True,  True],\n",
       "       [ True,  True,  True,  True]])"
      ]
     },
     "execution_count": 25,
     "metadata": {},
     "output_type": "execute_result"
    }
   ],
   "source": [
    "#relational \n",
    "a2>15"
   ]
  },
  {
   "cell_type": "code",
   "execution_count": 29,
   "id": "1c5873c2",
   "metadata": {},
   "outputs": [
    {
     "name": "stdout",
     "output_type": "stream",
     "text": [
      "[[12 14 16 18]\n",
      " [20 22 24 26]\n",
      " [28 30 32 34]]\n"
     ]
    },
    {
     "data": {
      "text/plain": [
       "array([[                   0,                    1,                16384,\n",
       "                    14348907],\n",
       "       [          4294967296,         762939453125,      101559956668416,\n",
       "           11398895185373143],\n",
       "       [ 1152921504606846976, -1261475310744950487,  1864712049423024128,\n",
       "         6839173302027254275]])"
      ]
     },
     "execution_count": 29,
     "metadata": {},
     "output_type": "execute_result"
    }
   ],
   "source": [
    "#vector ops \n",
    "#arithmetic\n",
    "\n",
    "\n",
    "print(a1+a2)\n",
    "\n",
    "a1**a2"
   ]
  },
  {
   "cell_type": "markdown",
   "id": "c1dd2e38",
   "metadata": {},
   "source": [
    "Array Functions"
   ]
  },
  {
   "cell_type": "code",
   "execution_count": 30,
   "id": "7f904173",
   "metadata": {},
   "outputs": [
    {
     "data": {
      "text/plain": [
       "array([[11., 87.,  3.],\n",
       "       [22., 99., 60.],\n",
       "       [33., 70., 85.]])"
      ]
     },
     "execution_count": 30,
     "metadata": {},
     "output_type": "execute_result"
    }
   ],
   "source": [
    "a1 = np.random.random((3,3))\n",
    "a1 = np.round(a1*100)\n",
    "a1 "
   ]
  },
  {
   "cell_type": "code",
   "execution_count": 36,
   "id": "053c09bd",
   "metadata": {},
   "outputs": [
    {
     "data": {
      "text/plain": [
       "np.float64(73667040678000.0)"
      ]
     },
     "execution_count": 36,
     "metadata": {},
     "output_type": "execute_result"
    }
   ],
   "source": [
    "#max / min / sum / prod\n",
    "\n",
    "\n",
    "np.max(a1)\n",
    "np.min(a1)\n",
    "np.sum(a1)\n",
    "np.prod(a1)"
   ]
  },
  {
   "cell_type": "code",
   "execution_count": null,
   "id": "c7f27204",
   "metadata": {},
   "outputs": [
    {
     "data": {
      "text/plain": [
       "array([87., 99., 85.])"
      ]
     },
     "execution_count": 39,
     "metadata": {},
     "output_type": "execute_result"
    }
   ],
   "source": [
    "# 0->>column  and 1-->>row \n",
    "\n",
    "#column-wise\n",
    "np.max(a1,axis=0)\n",
    "\n",
    "#row-wise\n",
    "np.max(a1,axis=1)\n",
    "\n",
    "\n",
    "#all other functions are applicable "
   ]
  },
  {
   "cell_type": "markdown",
   "id": "f16a442b",
   "metadata": {},
   "source": [
    "mean / median / std /var"
   ]
  },
  {
   "cell_type": "code",
   "execution_count": 41,
   "id": "8b9f3e8e",
   "metadata": {},
   "outputs": [
    {
     "data": {
      "text/plain": [
       "array([22.        , 85.33333333, 49.33333333])"
      ]
     },
     "execution_count": 41,
     "metadata": {},
     "output_type": "execute_result"
    }
   ],
   "source": [
    "np.mean(a1,axis=0)"
   ]
  },
  {
   "cell_type": "code",
   "execution_count": 42,
   "id": "48888e64",
   "metadata": {},
   "outputs": [
    {
     "data": {
      "text/plain": [
       "array([22., 87., 60.])"
      ]
     },
     "execution_count": 42,
     "metadata": {},
     "output_type": "execute_result"
    }
   ],
   "source": [
    "np.median(a1,axis=0)"
   ]
  },
  {
   "cell_type": "code",
   "execution_count": 43,
   "id": "7a9388c0",
   "metadata": {},
   "outputs": [
    {
     "data": {
      "text/plain": [
       "array([1432.88888889,  988.22222222,  477.55555556])"
      ]
     },
     "execution_count": 43,
     "metadata": {},
     "output_type": "execute_result"
    }
   ],
   "source": [
    "np.var(a1,axis=1)"
   ]
  },
  {
   "cell_type": "code",
   "execution_count": null,
   "id": "96e03996",
   "metadata": {},
   "outputs": [
    {
     "data": {
      "text/plain": [
       "array([[-0.99999021, -0.82181784,  0.14112001],\n",
       "       [-0.00885131, -0.99920683, -0.30481062],\n",
       "       [ 0.99991186,  0.77389068, -0.17607562]])"
      ]
     },
     "execution_count": 44,
     "metadata": {},
     "output_type": "execute_result"
    }
   ],
   "source": [
    "#trigonometric\n",
    "np.sin(a1)  \n",
    "\n",
    "#all trigo formula valid"
   ]
  },
  {
   "cell_type": "markdown",
   "id": "87849185",
   "metadata": {},
   "source": [
    "DOt product\n"
   ]
  },
  {
   "cell_type": "code",
   "execution_count": 46,
   "id": "f7abf1a3",
   "metadata": {},
   "outputs": [
    {
     "data": {
      "text/plain": [
       "array([[114, 120, 126],\n",
       "       [378, 400, 422],\n",
       "       [642, 680, 718]])"
      ]
     },
     "execution_count": 46,
     "metadata": {},
     "output_type": "execute_result"
    }
   ],
   "source": [
    "a2=np.arange(12).reshape(3,4)\n",
    "a3=np.arange(12,24).reshape(4,3)\n",
    "\n",
    "np.dot(a2,a3)"
   ]
  },
  {
   "cell_type": "code",
   "execution_count": 47,
   "id": "6aac10c5",
   "metadata": {},
   "outputs": [
    {
     "data": {
      "text/plain": [
       "array([[2.39789527, 4.46590812, 1.09861229],\n",
       "       [3.09104245, 4.59511985, 4.09434456],\n",
       "       [3.49650756, 4.24849524, 4.44265126]])"
      ]
     },
     "execution_count": 47,
     "metadata": {},
     "output_type": "execute_result"
    }
   ],
   "source": [
    "#log and exponents\n",
    "np.log(a1)"
   ]
  },
  {
   "cell_type": "code",
   "execution_count": 48,
   "id": "c308d541",
   "metadata": {},
   "outputs": [
    {
     "data": {
      "text/plain": [
       "array([[5.98741417e+04, 6.07603023e+37, 2.00855369e+01],\n",
       "       [3.58491285e+09, 9.88903032e+42, 1.14200739e+26],\n",
       "       [2.14643580e+14, 2.51543867e+30, 8.22301271e+36]])"
      ]
     },
     "execution_count": 48,
     "metadata": {},
     "output_type": "execute_result"
    }
   ],
   "source": [
    "np.exp(a1)"
   ]
  },
  {
   "cell_type": "code",
   "execution_count": 53,
   "id": "40d4ec74",
   "metadata": {},
   "outputs": [
    {
     "data": {
      "text/plain": [
       "array([[ 53.,  47.,  78.],\n",
       "       [100.,  12.,   8.]])"
      ]
     },
     "execution_count": 53,
     "metadata": {},
     "output_type": "execute_result"
    }
   ],
   "source": [
    "#round / ceil  /floor \n",
    "\n",
    "np.round(np.random.random((2,3))*100)\n",
    "\n",
    "# floor -->> piche wale element pr phenkta h \n",
    "np.floor(np.random.random((2,3))*100)\n",
    "\n",
    "#ceil -->> aage wale element pr phenkta h \n",
    "np.ceil(np.random.random((2,3))*100)"
   ]
  },
  {
   "cell_type": "markdown",
   "id": "e04d559a",
   "metadata": {},
   "source": [
    "Indexing /slicing "
   ]
  },
  {
   "cell_type": "code",
   "execution_count": 59,
   "id": "4c931d21",
   "metadata": {},
   "outputs": [],
   "source": [
    "a1= np.arange(10)\n",
    "a2= np.arange(12).reshape(3,4)\n",
    "a3 = np.arange(8).reshape(2,2,2)\n",
    "\n"
   ]
  },
  {
   "cell_type": "code",
   "execution_count": 60,
   "id": "bc628918",
   "metadata": {},
   "outputs": [
    {
     "data": {
      "text/plain": [
       "array([0, 1, 2, 3, 4, 5, 6, 7, 8, 9])"
      ]
     },
     "execution_count": 60,
     "metadata": {},
     "output_type": "execute_result"
    }
   ],
   "source": [
    "a1"
   ]
  },
  {
   "cell_type": "code",
   "execution_count": 61,
   "id": "c080f797",
   "metadata": {},
   "outputs": [
    {
     "data": {
      "text/plain": [
       "np.int64(0)"
      ]
     },
     "execution_count": 61,
     "metadata": {},
     "output_type": "execute_result"
    }
   ],
   "source": [
    "a1[0]"
   ]
  },
  {
   "cell_type": "code",
   "execution_count": 62,
   "id": "d293b0ba",
   "metadata": {},
   "outputs": [
    {
     "data": {
      "text/plain": [
       "array([[ 0,  1,  2,  3],\n",
       "       [ 4,  5,  6,  7],\n",
       "       [ 8,  9, 10, 11]])"
      ]
     },
     "execution_count": 62,
     "metadata": {},
     "output_type": "execute_result"
    }
   ],
   "source": [
    "a2"
   ]
  },
  {
   "cell_type": "code",
   "execution_count": 64,
   "id": "c7e067b5",
   "metadata": {},
   "outputs": [
    {
     "data": {
      "text/plain": [
       "np.int64(11)"
      ]
     },
     "execution_count": 64,
     "metadata": {},
     "output_type": "execute_result"
    }
   ],
   "source": [
    "a2[1,2]  #extracting 6 \n",
    "\n",
    "a2[2,3] #11"
   ]
  },
  {
   "cell_type": "code",
   "execution_count": 65,
   "id": "6fde08ee",
   "metadata": {},
   "outputs": [
    {
     "data": {
      "text/plain": [
       "array([[[0, 1],\n",
       "        [2, 3]],\n",
       "\n",
       "       [[4, 5],\n",
       "        [6, 7]]])"
      ]
     },
     "execution_count": 65,
     "metadata": {},
     "output_type": "execute_result"
    }
   ],
   "source": [
    "a3"
   ]
  },
  {
   "cell_type": "code",
   "execution_count": null,
   "id": "b1869d12",
   "metadata": {},
   "outputs": [
    {
     "data": {
      "text/plain": [
       "np.int64(5)"
      ]
     },
     "execution_count": 68,
     "metadata": {},
     "output_type": "execute_result"
    }
   ],
   "source": [
    "a3[0,1,0]  #extracting 2 \n",
    "\n",
    "a3[1,0,1]  # 5 \n",
    "\n",
    "#1st konsa matrix , row , column"
   ]
  },
  {
   "cell_type": "code",
   "execution_count": 69,
   "id": "105056c4",
   "metadata": {},
   "outputs": [
    {
     "data": {
      "text/plain": [
       "array([0, 1, 2, 3, 4, 5, 6, 7, 8, 9])"
      ]
     },
     "execution_count": 69,
     "metadata": {},
     "output_type": "execute_result"
    }
   ],
   "source": [
    "#slicing \n",
    "\n",
    "a1"
   ]
  },
  {
   "cell_type": "code",
   "execution_count": null,
   "id": "0ecfb3ff",
   "metadata": {},
   "outputs": [
    {
     "data": {
      "text/plain": [
       "array([2, 3, 4])"
      ]
     },
     "execution_count": 70,
     "metadata": {},
     "output_type": "execute_result"
    }
   ],
   "source": [
    "a1[2:5]  # same as py"
   ]
  },
  {
   "cell_type": "code",
   "execution_count": null,
   "id": "e713d46a",
   "metadata": {},
   "outputs": [
    {
     "data": {
      "text/plain": [
       "array([2, 4])"
      ]
     },
     "execution_count": 71,
     "metadata": {},
     "output_type": "execute_result"
    }
   ],
   "source": [
    "a1[2:5:2]  # 2 2 k gap me "
   ]
  },
  {
   "cell_type": "code",
   "execution_count": 74,
   "id": "271b2c31",
   "metadata": {},
   "outputs": [
    {
     "data": {
      "text/plain": [
       "array([[ 0,  1,  2,  3],\n",
       "       [ 4,  5,  6,  7],\n",
       "       [ 8,  9, 10, 11]])"
      ]
     },
     "execution_count": 74,
     "metadata": {},
     "output_type": "execute_result"
    }
   ],
   "source": [
    "#2d\n",
    "a2"
   ]
  },
  {
   "cell_type": "code",
   "execution_count": null,
   "id": "73540ccb",
   "metadata": {},
   "outputs": [
    {
     "data": {
      "text/plain": [
       "array([0, 1, 2, 3])"
      ]
     },
     "execution_count": 72,
     "metadata": {},
     "output_type": "execute_result"
    }
   ],
   "source": [
    "a2[0,:] #extracting 1st row \n",
    "\n",
    "# 1st input index of row and for all columns use (:)"
   ]
  },
  {
   "cell_type": "code",
   "execution_count": null,
   "id": "64af3b84",
   "metadata": {},
   "outputs": [
    {
     "data": {
      "text/plain": [
       "array([ 2,  6, 10])"
      ]
     },
     "execution_count": 73,
     "metadata": {},
     "output_type": "execute_result"
    }
   ],
   "source": [
    "a2[:,2]    #column extraction"
   ]
  },
  {
   "cell_type": "code",
   "execution_count": null,
   "id": "e1719835",
   "metadata": {},
   "outputs": [
    {
     "data": {
      "text/plain": [
       "array([[ 5,  6],\n",
       "       [ 9, 10]])"
      ]
     },
     "execution_count": 75,
     "metadata": {},
     "output_type": "execute_result"
    }
   ],
   "source": [
    "a2[1:,1:3]  # row kha se kha tk , column kha se kha tk"
   ]
  },
  {
   "cell_type": "code",
   "execution_count": null,
   "id": "a67f9938",
   "metadata": {},
   "outputs": [],
   "source": []
  }
 ],
 "metadata": {
  "kernelspec": {
   "display_name": ".venv",
   "language": "python",
   "name": "python3"
  },
  "language_info": {
   "codemirror_mode": {
    "name": "ipython",
    "version": 3
   },
   "file_extension": ".py",
   "mimetype": "text/x-python",
   "name": "python",
   "nbconvert_exporter": "python",
   "pygments_lexer": "ipython3",
   "version": "3.12.7"
  }
 },
 "nbformat": 4,
 "nbformat_minor": 5
}
