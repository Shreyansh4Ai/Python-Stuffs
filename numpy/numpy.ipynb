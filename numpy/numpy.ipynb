{
 "cells": [
  {
   "cell_type": "markdown",
   "id": "0df5709c",
   "metadata": {},
   "source": [
    "<h1>Numpy </h1>\n",
    " library for scientific calculations and data science and ml aswell\n",
    "\n",
    "\n",
    "why numpy ??\n",
    "different people from different domains came together during the time when data science was developing and python was a easy to learn language and numpy is created in c so its fast .\n",
    "\n",
    "\n",
    "\n",
    "\n"
   ]
  },
  {
   "cell_type": "markdown",
   "id": "0901032b",
   "metadata": {},
   "source": [
    "<h3>ndArrays</h3>"
   ]
  },
  {
   "cell_type": "markdown",
   "id": "bec68bae",
   "metadata": {},
   "source": [
    "<h3> all the below methods are used to create nd array and their initiallisations"
   ]
  },
  {
   "cell_type": "code",
   "execution_count": 2,
   "id": "92b58d38",
   "metadata": {},
   "outputs": [
    {
     "name": "stdout",
     "output_type": "stream",
     "text": [
      "[1 2 3 4]\n"
     ]
    },
    {
     "data": {
      "text/plain": [
       "array([1., 2., 3.])"
      ]
     },
     "execution_count": 2,
     "metadata": {},
     "output_type": "execute_result"
    }
   ],
   "source": [
    "import numpy as np\n",
    "\n",
    "a= np.array([1,2,3,4])\n",
    "print(a)\n",
    "#dtype \n",
    "np.array([1,2,3],dtype=float)\n"
   ]
  },
  {
   "cell_type": "code",
   "execution_count": 3,
   "id": "ed5753b2",
   "metadata": {},
   "outputs": [
    {
     "data": {
      "text/plain": [
       "array([1, 2, 3, 4, 5, 6, 7, 8, 9])"
      ]
     },
     "execution_count": 3,
     "metadata": {},
     "output_type": "execute_result"
    }
   ],
   "source": [
    "#np.arange\n",
    "\n",
    "np.arange(1,10)  #phela included dusra excluded"
   ]
  },
  {
   "cell_type": "code",
   "execution_count": 4,
   "id": "190352e4",
   "metadata": {},
   "outputs": [
    {
     "data": {
      "text/plain": [
       "array([[ 1,  2,  3,  4],\n",
       "       [ 5,  6,  7,  8],\n",
       "       [ 9, 10, 11, 12]])"
      ]
     },
     "execution_count": 4,
     "metadata": {},
     "output_type": "execute_result"
    }
   ],
   "source": [
    "#with reshape\n",
    "np.arange(1,13).reshape(3,4)"
   ]
  },
  {
   "cell_type": "code",
   "execution_count": 5,
   "id": "381f0109",
   "metadata": {},
   "outputs": [
    {
     "name": "stdout",
     "output_type": "stream",
     "text": [
      "[[1. 1. 1. 1.]\n",
      " [1. 1. 1. 1.]\n",
      " [1. 1. 1. 1.]]\n"
     ]
    },
    {
     "data": {
      "text/plain": [
       "array([1., 1., 1., 1., 1., 1., 1., 1., 1.])"
      ]
     },
     "execution_count": 5,
     "metadata": {},
     "output_type": "execute_result"
    }
   ],
   "source": [
    "#np.ones and np.zeros\n",
    "\n",
    "print(np.ones((3,4)))          #har item is 1 \n",
    "np.ones((9))\n"
   ]
  },
  {
   "cell_type": "code",
   "execution_count": 6,
   "id": "01be61c0",
   "metadata": {},
   "outputs": [
    {
     "data": {
      "text/plain": [
       "array([[0.33115793, 0.09882423, 0.30094728, 0.00795205],\n",
       "       [0.27523573, 0.81346389, 0.14607135, 0.31006189],\n",
       "       [0.67090368, 0.48597036, 0.88544357, 0.9221142 ]])"
      ]
     },
     "execution_count": 6,
     "metadata": {},
     "output_type": "execute_result"
    }
   ],
   "source": [
    "# np.rand0m\n",
    "\n",
    "np.random.random((3,4))"
   ]
  },
  {
   "cell_type": "code",
   "execution_count": 7,
   "id": "8e8023b1",
   "metadata": {},
   "outputs": [
    {
     "data": {
      "text/plain": [
       "array([-10.        ,  -7.77777778,  -5.55555556,  -3.33333333,\n",
       "        -1.11111111,   1.11111111,   3.33333333,   5.55555556,\n",
       "         7.77777778,  10.        ])"
      ]
     },
     "execution_count": 7,
     "metadata": {},
     "output_type": "execute_result"
    }
   ],
   "source": [
    "#np.linspace  -- >> linearly space \n",
    "\n",
    "np.linspace(-10,10,10)  #first two range and last no. of items\n",
    "\n",
    "#equal distance pr points bnayega"
   ]
  },
  {
   "cell_type": "code",
   "execution_count": 8,
   "id": "d40527a2",
   "metadata": {},
   "outputs": [
    {
     "data": {
      "text/plain": [
       "array([[1., 0., 0.],\n",
       "       [0., 1., 0.],\n",
       "       [0., 0., 1.]])"
      ]
     },
     "execution_count": 8,
     "metadata": {},
     "output_type": "execute_result"
    }
   ],
   "source": [
    "#np.identity\n",
    "\n",
    "np.identity(3)"
   ]
  }
 ],
 "metadata": {
  "kernelspec": {
   "display_name": ".venv",
   "language": "python",
   "name": "python3"
  },
  "language_info": {
   "codemirror_mode": {
    "name": "ipython",
    "version": 3
   },
   "file_extension": ".py",
   "mimetype": "text/x-python",
   "name": "python",
   "nbconvert_exporter": "python",
   "pygments_lexer": "ipython3",
   "version": "3.12.7"
  }
 },
 "nbformat": 4,
 "nbformat_minor": 5
}
