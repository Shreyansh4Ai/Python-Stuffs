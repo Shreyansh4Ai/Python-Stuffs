{
 "cells": [
  {
   "cell_type": "markdown",
   "id": "0df5709c",
   "metadata": {},
   "source": [
    "<h1>Numpy </h1>\n",
    " library for scientific calculations and data science and ml aswell\n",
    "\n",
    "\n",
    "why numpy ??\n",
    "different people from different domains came together during the time when data science was developing and python was a easy to learn language and numpy is created in c so its fast .\n",
    "\n",
    "\n",
    "\n",
    "\n"
   ]
  },
  {
   "cell_type": "markdown",
   "id": "0901032b",
   "metadata": {},
   "source": [
    "<h3>ndArrays</h3>"
   ]
  },
  {
   "cell_type": "markdown",
   "id": "bec68bae",
   "metadata": {},
   "source": [
    "<h3> all the below methods are used to create nd array and their initiallisations"
   ]
  },
  {
   "cell_type": "code",
   "execution_count": 7,
   "id": "92b58d38",
   "metadata": {},
   "outputs": [
    {
     "name": "stdout",
     "output_type": "stream",
     "text": [
      "[1 2 3 4]\n"
     ]
    },
    {
     "data": {
      "text/plain": [
       "array([1., 2., 3.])"
      ]
     },
     "execution_count": 7,
     "metadata": {},
     "output_type": "execute_result"
    }
   ],
   "source": [
    "import numpy as np\n",
    "\n",
    "a= np.array([1,2,3,4])\n",
    "print(a)\n",
    "#dtype \n",
    "np.array([1,2,3],dtype=float)\n"
   ]
  },
  {
   "cell_type": "code",
   "execution_count": 14,
   "id": "ed5753b2",
   "metadata": {},
   "outputs": [
    {
     "data": {
      "text/plain": [
       "array([1, 2, 3, 4, 5, 6, 7, 8, 9])"
      ]
     },
     "execution_count": 14,
     "metadata": {},
     "output_type": "execute_result"
    }
   ],
   "source": [
    "#np.arange\n",
    "\n",
    "np.arange(1,10)  #phela included dusra excluded"
   ]
  },
  {
   "cell_type": "code",
   "execution_count": 12,
   "id": "190352e4",
   "metadata": {},
   "outputs": [
    {
     "data": {
      "text/plain": [
       "array([[ 1,  2,  3,  4],\n",
       "       [ 5,  6,  7,  8],\n",
       "       [ 9, 10, 11, 12]])"
      ]
     },
     "execution_count": 12,
     "metadata": {},
     "output_type": "execute_result"
    }
   ],
   "source": [
    "#with reshape\n",
    "np.arange(1,13).reshape(3,4)"
   ]
  },
  {
   "cell_type": "code",
   "execution_count": null,
   "id": "381f0109",
   "metadata": {},
   "outputs": [
    {
     "data": {
      "text/plain": [
       "array([1., 1., 1., 1., 1., 1., 1., 1., 1.])"
      ]
     },
     "execution_count": 19,
     "metadata": {},
     "output_type": "execute_result"
    }
   ],
   "source": [
    "#np.ones and np.zeros\n",
    "\n",
    "np.ones((3,4))             #har item is 1 \n",
    "np.ones((9))\n"
   ]
  },
  {
   "cell_type": "code",
   "execution_count": 20,
   "id": "01be61c0",
   "metadata": {},
   "outputs": [
    {
     "data": {
      "text/plain": [
       "array([[0.61852993, 0.68880192, 0.20163193, 0.52335811],\n",
       "       [0.95026748, 0.42699523, 0.8060199 , 0.34708194],\n",
       "       [0.88117182, 0.64646826, 0.76764829, 0.89888091]])"
      ]
     },
     "execution_count": 20,
     "metadata": {},
     "output_type": "execute_result"
    }
   ],
   "source": [
    "# np.rand0m\n",
    "\n",
    "np.random.random((3,4))"
   ]
  },
  {
   "cell_type": "code",
   "execution_count": null,
   "id": "8e8023b1",
   "metadata": {},
   "outputs": [
    {
     "data": {
      "text/plain": [
       "array([-10.        ,  -7.77777778,  -5.55555556,  -3.33333333,\n",
       "        -1.11111111,   1.11111111,   3.33333333,   5.55555556,\n",
       "         7.77777778,  10.        ])"
      ]
     },
     "execution_count": 21,
     "metadata": {},
     "output_type": "execute_result"
    }
   ],
   "source": [
    "#np.linspace  -- >> linearly space \n",
    "\n",
    "np.linspace(-10,10,10)  #first two range and last no. of items\n",
    "\n",
    "#equal distance pr points bnayega"
   ]
  },
  {
   "cell_type": "code",
   "execution_count": 26,
   "id": "d40527a2",
   "metadata": {},
   "outputs": [
    {
     "data": {
      "text/plain": [
       "array([[1., 0., 0.],\n",
       "       [0., 1., 0.],\n",
       "       [0., 0., 1.]])"
      ]
     },
     "execution_count": 26,
     "metadata": {},
     "output_type": "execute_result"
    }
   ],
   "source": [
    "#np.identity\n",
    "\n",
    "np.identity(3)"
   ]
  }
 ],
 "metadata": {
  "kernelspec": {
   "display_name": ".venv",
   "language": "python",
   "name": "python3"
  },
  "language_info": {
   "codemirror_mode": {
    "name": "ipython",
    "version": 3
   },
   "file_extension": ".py",
   "mimetype": "text/x-python",
   "name": "python",
   "nbconvert_exporter": "python",
   "pygments_lexer": "ipython3",
   "version": "3.12.7"
  }
 },
 "nbformat": 4,
 "nbformat_minor": 5
}
