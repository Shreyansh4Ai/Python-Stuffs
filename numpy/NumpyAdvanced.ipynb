{
 "cells": [
  {
   "cell_type": "markdown",
   "id": "04679d32",
   "metadata": {},
   "source": [
    "<h4> NUMPY array VS Python Lists"
   ]
  },
  {
   "cell_type": "code",
   "execution_count": 1,
   "id": "166fead3",
   "metadata": {},
   "outputs": [
    {
     "name": "stdout",
     "output_type": "stream",
     "text": [
      "2.1665990352630615\n"
     ]
    }
   ],
   "source": [
    "#speed \n",
    "\n",
    "#list \n",
    "\n",
    "a=[i for i in range(10000000)]\n",
    "b=[i for i in range(10000000,20000000)]\n",
    "\n",
    "c =[ ]\n",
    "import time\n",
    "start = time.time() \n",
    "for i in range(len(a)):\n",
    "   c.append(a[i] + b[i])\n",
    "\n",
    "print(time.time()-start)"
   ]
  },
  {
   "cell_type": "code",
   "execution_count": 2,
   "id": "6677da9e",
   "metadata": {},
   "outputs": [
    {
     "name": "stdout",
     "output_type": "stream",
     "text": [
      "0.19951725006103516\n"
     ]
    }
   ],
   "source": [
    "#numpy\n",
    "import numpy as np \n",
    "a=np.arange(10000000)\n",
    "\n",
    "b=np.arange(10000000,20000000)\n",
    "\n",
    "start = time.time() \n",
    "c=a+b\n",
    "\n",
    "print(time.time()-start)"
   ]
  },
  {
   "cell_type": "code",
   "execution_count": 5,
   "id": "324d5678",
   "metadata": {},
   "outputs": [
    {
     "data": {
      "text/plain": [
       "10.859206582890794"
      ]
     },
     "execution_count": 5,
     "metadata": {},
     "output_type": "execute_result"
    }
   ],
   "source": [
    "2.1665990352630615/0.19951725006103516"
   ]
  },
  {
   "cell_type": "code",
   "execution_count": 7,
   "id": "212da668",
   "metadata": {},
   "outputs": [
    {
     "data": {
      "text/plain": [
       "89095160"
      ]
     },
     "execution_count": 7,
     "metadata": {},
     "output_type": "execute_result"
    }
   ],
   "source": [
    "#memory \n",
    "\n",
    "a = [i for i in range (10000000)]\n",
    "import sys \n",
    "\n",
    "sys.getsizeof(a)"
   ]
  },
  {
   "cell_type": "code",
   "execution_count": 8,
   "id": "d6d67d2f",
   "metadata": {},
   "outputs": [
    {
     "data": {
      "text/plain": [
       "80000112"
      ]
     },
     "execution_count": 8,
     "metadata": {},
     "output_type": "execute_result"
    }
   ],
   "source": [
    "a = np.arange(10000000)\n",
    "sys.getsizeof(a)"
   ]
  },
  {
   "cell_type": "markdown",
   "id": "01eb734e",
   "metadata": {},
   "source": [
    "convinence you have seen the above cells "
   ]
  },
  {
   "cell_type": "markdown",
   "id": "9b46a042",
   "metadata": {},
   "source": [
    "HENCE NUMPY IS FASTER AND BETTER "
   ]
  },
  {
   "cell_type": "markdown",
   "id": "9f5b9120",
   "metadata": {},
   "source": [
    "<h1>Advanced indexing "
   ]
  },
  {
   "cell_type": "code",
   "execution_count": 19,
   "id": "850a474a",
   "metadata": {},
   "outputs": [
    {
     "data": {
      "text/plain": [
       "array([[ 0,  1,  2,  3],\n",
       "       [ 4,  5,  6,  7],\n",
       "       [ 8,  9, 10, 11],\n",
       "       [12, 13, 14, 15],\n",
       "       [16, 17, 18, 19],\n",
       "       [20, 21, 22, 23]])"
      ]
     },
     "execution_count": 19,
     "metadata": {},
     "output_type": "execute_result"
    }
   ],
   "source": [
    "#normal indexing and slicing \n",
    "\n",
    "a = np.arange(24).reshape(6,4)\n",
    "a"
   ]
  },
  {
   "cell_type": "code",
   "execution_count": 11,
   "id": "0063795f",
   "metadata": {},
   "outputs": [
    {
     "data": {
      "text/plain": [
       "array([[ 0,  1,  2],\n",
       "       [ 6,  7,  8],\n",
       "       [ 9, 10, 11]])"
      ]
     },
     "execution_count": 11,
     "metadata": {},
     "output_type": "execute_result"
    }
   ],
   "source": [
    "#fancy indexing \n",
    "\n",
    "# jb normal tarike se kaam na nikle then hum use krte  h fancy indexing \n",
    "\n",
    "a[[0,2,3]]"
   ]
  },
  {
   "cell_type": "code",
   "execution_count": null,
   "id": "0aeaed8d",
   "metadata": {},
   "outputs": [
    {
     "data": {
      "text/plain": [
       "array([[ 0,  1,  2],\n",
       "       [ 6,  7,  8],\n",
       "       [ 9, 10, 11],\n",
       "       [15, 16, 17]])"
      ]
     },
     "execution_count": 18,
     "metadata": {},
     "output_type": "execute_result"
    }
   ],
   "source": [
    "a[[0,2,3,5]]  # ist k andar jo chiye usse sidhe sidhe dal  do "
   ]
  },
  {
   "cell_type": "code",
   "execution_count": 22,
   "id": "0796fbbf",
   "metadata": {},
   "outputs": [
    {
     "data": {
      "text/plain": [
       "array([[ 0,  2,  3],\n",
       "       [ 4,  6,  7],\n",
       "       [ 8, 10, 11],\n",
       "       [12, 14, 15],\n",
       "       [16, 18, 19],\n",
       "       [20, 22, 23]])"
      ]
     },
     "execution_count": 22,
     "metadata": {},
     "output_type": "execute_result"
    }
   ],
   "source": [
    "a[: ,[0,2,3]]"
   ]
  },
  {
   "cell_type": "code",
   "execution_count": null,
   "id": "c9d240da",
   "metadata": {},
   "outputs": [
    {
     "data": {
      "text/plain": [
       "array([[13, 80, 33, 87],\n",
       "       [30, 96, 99,  2],\n",
       "       [ 7, 21, 77, 41],\n",
       "       [89, 17, 68,  2],\n",
       "       [81, 68, 35, 96],\n",
       "       [80,  7, 76, 17]], dtype=int32)"
      ]
     },
     "execution_count": 24,
     "metadata": {},
     "output_type": "execute_result"
    }
   ],
   "source": [
    "#boolean indexing \n",
    "import numpy as np\n",
    "a = np.random.randint(1,100,24).reshape(6,4)\n",
    "\n",
    " #randint(no. kha se kha tk and kitne chiye ) . kesa shape ka arrayb chiye \n",
    "a"
   ]
  }
 ],
 "metadata": {
  "kernelspec": {
   "display_name": ".venv",
   "language": "python",
   "name": "python3"
  },
  "language_info": {
   "codemirror_mode": {
    "name": "ipython",
    "version": 3
   },
   "file_extension": ".py",
   "mimetype": "text/x-python",
   "name": "python",
   "nbconvert_exporter": "python",
   "pygments_lexer": "ipython3",
   "version": "3.12.7"
  }
 },
 "nbformat": 4,
 "nbformat_minor": 5
}
