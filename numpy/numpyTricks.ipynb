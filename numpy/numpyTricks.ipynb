{
 "cells": [
  {
   "cell_type": "markdown",
   "id": "093317af",
   "metadata": {},
   "source": [
    "<h3>np.sort</h3>"
   ]
  },
  {
   "cell_type": "markdown",
   "id": "84573e36",
   "metadata": {},
   "source": [
    "return a sorted copy of an array"
   ]
  },
  {
   "cell_type": "code",
   "execution_count": 1,
   "id": "cd012e5d",
   "metadata": {},
   "outputs": [
    {
     "data": {
      "text/plain": [
       "array([58, 76, 88, 81, 93,  6, 10, 59, 31, 31, 70, 29, 46, 78, 13],\n",
       "      dtype=int32)"
      ]
     },
     "execution_count": 1,
     "metadata": {},
     "output_type": "execute_result"
    }
   ],
   "source": [
    "#code \n",
    "import numpy as np\n",
    "a= np.random.randint(1,100,15)\n",
    "a"
   ]
  },
  {
   "cell_type": "code",
   "execution_count": 2,
   "id": "964faa63",
   "metadata": {},
   "outputs": [],
   "source": [
    "b = np.random.randint(1,100,24).reshape(6,4)"
   ]
  },
  {
   "cell_type": "code",
   "execution_count": null,
   "id": "b11e6033",
   "metadata": {},
   "outputs": [
    {
     "data": {
      "text/plain": [
       "array([ 6, 10, 13, 29, 31, 31, 46, 58, 59, 70, 76, 78, 81, 88, 93],\n",
       "      dtype=int32)"
      ]
     },
     "execution_count": 3,
     "metadata": {},
     "output_type": "execute_result"
    }
   ],
   "source": [
    "np.sort(a)"
   ]
  },
  {
   "cell_type": "code",
   "execution_count": 10,
   "id": "4d65eed9",
   "metadata": {},
   "outputs": [
    {
     "data": {
      "text/plain": [
       "array([[59, 72, 76, 99],\n",
       "       [ 9, 40, 47, 74],\n",
       "       [20, 62, 74, 84],\n",
       "       [ 7, 10, 16, 77],\n",
       "       [27, 39, 41, 53],\n",
       "       [ 5,  8,  9, 70]], dtype=int32)"
      ]
     },
     "execution_count": 10,
     "metadata": {},
     "output_type": "execute_result"
    }
   ],
   "source": [
    "np.sort(b,axis=0)   #column wise when axis =0\n",
    "np.sort(b,axis=1)   #row wise when axis is = 1 "
   ]
  },
  {
   "cell_type": "code",
   "execution_count": null,
   "id": "8946f7ae",
   "metadata": {},
   "outputs": [
    {
     "data": {
      "text/plain": [
       "array([93, 88, 81, 78, 76, 70, 59, 58, 46, 31, 31, 29, 13, 10,  6],\n",
       "      dtype=int32)"
      ]
     },
     "execution_count": 7,
     "metadata": {},
     "output_type": "execute_result"
    }
   ],
   "source": [
    "np.sort(a)[::-1]  # reverse"
   ]
  },
  {
   "cell_type": "markdown",
   "id": "2058d591",
   "metadata": {},
   "source": [
    "np.append"
   ]
  },
  {
   "cell_type": "markdown",
   "id": "66add785",
   "metadata": {},
   "source": [
    "the append appends values along the mentioned axis at the end of the array "
   ]
  },
  {
   "cell_type": "code",
   "execution_count": 11,
   "id": "c01e756d",
   "metadata": {},
   "outputs": [
    {
     "data": {
      "text/plain": [
       "array([ 58,  76,  88,  81,  93,   6,  10,  59,  31,  31,  70,  29,  46,\n",
       "        78,  13, 200])"
      ]
     },
     "execution_count": 11,
     "metadata": {},
     "output_type": "execute_result"
    }
   ],
   "source": [
    "#code\n",
    "np.append(a,200)  # 200 append hogya "
   ]
  },
  {
   "cell_type": "code",
   "execution_count": 16,
   "id": "5d669cc9",
   "metadata": {},
   "outputs": [
    {
     "data": {
      "text/plain": [
       "array([[99., 72., 59., 76.,  1.],\n",
       "       [74., 40.,  9., 47.,  1.],\n",
       "       [84., 74., 62., 20.,  1.],\n",
       "       [10., 77., 16.,  7.,  1.],\n",
       "       [27., 39., 53., 41.,  1.],\n",
       "       [ 9.,  8., 70.,  5.,  1.]])"
      ]
     },
     "execution_count": 16,
     "metadata": {},
     "output_type": "execute_result"
    }
   ],
   "source": [
    "np.append(b,np.ones((b.shape[0],1)),axis=1) \n",
    "#append( b , syntax to add column of ones ( shape to be kept ),axis)\n"
   ]
  },
  {
   "cell_type": "markdown",
   "id": "542b7a33",
   "metadata": {},
   "source": [
    "np.concatenate"
   ]
  },
  {
   "cell_type": "markdown",
   "id": "e7b0c8fd",
   "metadata": {},
   "source": [
    "numpy.concatenate() function concatenate a sequence of arrays along an existing axis .\n"
   ]
  },
  {
   "cell_type": "code",
   "execution_count": 17,
   "id": "0256484b",
   "metadata": {},
   "outputs": [
    {
     "name": "stdout",
     "output_type": "stream",
     "text": [
      "[[0 1 2]\n",
      " [3 4 5]]\n",
      "[[ 6  7  8]\n",
      " [ 9 10 11]]\n"
     ]
    }
   ],
   "source": [
    "#code\n",
    "c = np.arange(6).reshape(2,3)\n",
    "d = np.arange(6,12).reshape(2,3)\n",
    "\n",
    "print(c)\n",
    "print(d)"
   ]
  },
  {
   "cell_type": "code",
   "execution_count": null,
   "id": "1b9a4a94",
   "metadata": {},
   "outputs": [
    {
     "data": {
      "text/plain": [
       "array([[ 0,  1,  2],\n",
       "       [ 3,  4,  5],\n",
       "       [ 6,  7,  8],\n",
       "       [ 9, 10, 11]])"
      ]
     },
     "execution_count": 18,
     "metadata": {},
     "output_type": "execute_result"
    }
   ],
   "source": [
    "np.concatenate((c,d),axis = 0) # rowwise "
   ]
  },
  {
   "cell_type": "code",
   "execution_count": null,
   "id": "f9fb9d54",
   "metadata": {},
   "outputs": [
    {
     "data": {
      "text/plain": [
       "array([[ 0,  1,  2,  6,  7,  8],\n",
       "       [ 3,  4,  5,  9, 10, 11]])"
      ]
     },
     "execution_count": 19,
     "metadata": {},
     "output_type": "execute_result"
    }
   ],
   "source": [
    "np.concatenate((c,d),axis=1) #columnwise"
   ]
  },
  {
   "cell_type": "markdown",
   "id": "901c30da",
   "metadata": {},
   "source": [
    "np.unique"
   ]
  },
  {
   "cell_type": "markdown",
   "id": "8919564e",
   "metadata": {},
   "source": [
    "with the help of np.unique method we can get the unique values from a given parameter "
   ]
  },
  {
   "cell_type": "code",
   "execution_count": 22,
   "id": "105525e1",
   "metadata": {},
   "outputs": [
    {
     "data": {
      "text/plain": [
       "array([1, 2, 3, 4, 5, 6])"
      ]
     },
     "execution_count": 22,
     "metadata": {},
     "output_type": "execute_result"
    }
   ],
   "source": [
    "e = np.array([1,2,1,2,3,3,4,4,5,5,6,6])\n",
    "\n",
    "np.unique(e)"
   ]
  },
  {
   "cell_type": "markdown",
   "id": "fdbfbfa6",
   "metadata": {},
   "source": [
    "np.expand_dims\n",
    "\n",
    "\n",
    "\n",
    "with the help of numpy.expand_dims() method , we can get the expanded dimensions of an array"
   ]
  },
  {
   "cell_type": "code",
   "execution_count": 26,
   "id": "cff1e0d1",
   "metadata": {},
   "outputs": [
    {
     "data": {
      "text/plain": [
       "(15,)"
      ]
     },
     "execution_count": 26,
     "metadata": {},
     "output_type": "execute_result"
    }
   ],
   "source": [
    "a\n",
    "a.shape"
   ]
  },
  {
   "cell_type": "code",
   "execution_count": 27,
   "id": "ad036714",
   "metadata": {},
   "outputs": [
    {
     "data": {
      "text/plain": [
       "(15,)"
      ]
     },
     "execution_count": 27,
     "metadata": {},
     "output_type": "execute_result"
    }
   ],
   "source": [
    "np.expand_dims(a,axis=0)  #2d bna diya \n",
    "\n",
    "a.shape"
   ]
  },
  {
   "cell_type": "code",
   "execution_count": 28,
   "id": "11f06779",
   "metadata": {},
   "outputs": [
    {
     "data": {
      "text/plain": [
       "(15,)"
      ]
     },
     "execution_count": 28,
     "metadata": {},
     "output_type": "execute_result"
    }
   ],
   "source": [
    "np.expand_dims(a,axis=1)  \n",
    "\n",
    "a.shape"
   ]
  },
  {
   "cell_type": "markdown",
   "id": "004401a1",
   "metadata": {},
   "source": [
    "np.where \n",
    "\n",
    "\n",
    "\n",
    "the numpy.where() function returns the indices of elements in an input array where the given condition is satisfied "
   ]
  },
  {
   "cell_type": "code",
   "execution_count": null,
   "id": "0706106c",
   "metadata": {},
   "outputs": [
    {
     "data": {
      "text/plain": [
       "array([58, 76, 88, 81, 93,  6, 10, 59, 31, 31, 70, 29, 46, 78, 13],\n",
       "      dtype=int32)"
      ]
     },
     "execution_count": 29,
     "metadata": {},
     "output_type": "execute_result"
    }
   ],
   "source": [
    "a\n"
   ]
  },
  {
   "cell_type": "code",
   "execution_count": null,
   "id": "f889a262",
   "metadata": {},
   "outputs": [
    {
     "data": {
      "text/plain": [
       "(array([ 0,  1,  2,  3,  4,  7, 10, 13]),)"
      ]
     },
     "execution_count": 30,
     "metadata": {},
     "output_type": "execute_result"
    }
   ],
   "source": [
    "# find all the indices with value greater than 50\n",
    "\n",
    "np.where(a>50)  #  outputs are the index positions "
   ]
  },
  {
   "cell_type": "code",
   "execution_count": 31,
   "id": "80878898",
   "metadata": {},
   "outputs": [
    {
     "data": {
      "text/plain": [
       "array([ 0,  0,  0,  0,  0,  6, 10,  0, 31, 31,  0, 29, 46,  0, 13],\n",
       "      dtype=int32)"
      ]
     },
     "execution_count": 31,
     "metadata": {},
     "output_type": "execute_result"
    }
   ],
   "source": [
    "# replace all values > 50 with 0\n",
    "\n",
    "np.where(a> 50 , 0 ,a )  \n",
    "# np.where( a > 50 , jo hain unhe 0 kr do , jo nhi h unhe vese hi chor do )"
   ]
  },
  {
   "cell_type": "code",
   "execution_count": 34,
   "id": "977264bc",
   "metadata": {},
   "outputs": [
    {
     "data": {
      "text/plain": [
       "array([2, 2, 2, 3, 3, 2, 2, 3, 3, 3, 2, 3, 2, 2, 3])"
      ]
     },
     "execution_count": 34,
     "metadata": {},
     "output_type": "execute_result"
    }
   ],
   "source": [
    "np.where(a%2 == 0 , 2 ,3 )"
   ]
  },
  {
   "cell_type": "markdown",
   "id": "d35bff77",
   "metadata": {},
   "source": [
    "np.argmax\n",
    "\n",
    "the numpy.argmax() function returns indices of the max element of the array in aparticular axis ."
   ]
  },
  {
   "cell_type": "code",
   "execution_count": 35,
   "id": "ccf6d58e",
   "metadata": {},
   "outputs": [
    {
     "data": {
      "text/plain": [
       "np.int64(4)"
      ]
     },
     "execution_count": 35,
     "metadata": {},
     "output_type": "execute_result"
    }
   ],
   "source": [
    "a\n",
    "np.argmax(a)"
   ]
  },
  {
   "cell_type": "code",
   "execution_count": 39,
   "id": "ce7ae6ae",
   "metadata": {},
   "outputs": [
    {
     "data": {
      "text/plain": [
       "array([0, 0, 0, 1, 2, 2])"
      ]
     },
     "execution_count": 39,
     "metadata": {},
     "output_type": "execute_result"
    }
   ],
   "source": [
    "np.argmax(b,axis=0) #column wise max\n",
    "np.argmax(b,axis=1) #rowise"
   ]
  },
  {
   "cell_type": "code",
   "execution_count": 42,
   "id": "97449ff8",
   "metadata": {},
   "outputs": [
    {
     "data": {
      "text/plain": [
       "np.int64(5)"
      ]
     },
     "execution_count": 42,
     "metadata": {},
     "output_type": "execute_result"
    }
   ],
   "source": [
    "#np.argmin\n",
    "\n",
    "np.argmin(a)\n"
   ]
  },
  {
   "cell_type": "markdown",
   "id": "55f63c8a",
   "metadata": {},
   "source": [
    "<h2> cumsum\n"
   ]
  },
  {
   "cell_type": "markdown",
   "id": "29f958b1",
   "metadata": {},
   "source": [
    "numpy.cumsum() func is useddd when we want to compute the cumulative sum of array elements over a given axis."
   ]
  },
  {
   "cell_type": "code",
   "execution_count": 44,
   "id": "44d2dbe4",
   "metadata": {},
   "outputs": [
    {
     "data": {
      "text/plain": [
       "array([58, 76, 88, 81, 93,  6, 10, 59, 31, 31, 70, 29, 46, 78, 13],\n",
       "      dtype=int32)"
      ]
     },
     "execution_count": 44,
     "metadata": {},
     "output_type": "execute_result"
    }
   ],
   "source": [
    "a"
   ]
  },
  {
   "cell_type": "code",
   "execution_count": 45,
   "id": "d91f3f0d",
   "metadata": {},
   "outputs": [
    {
     "data": {
      "text/plain": [
       "array([ 58, 134, 222, 303, 396, 402, 412, 471, 502, 533, 603, 632, 678,\n",
       "       756, 769])"
      ]
     },
     "execution_count": 45,
     "metadata": {},
     "output_type": "execute_result"
    }
   ],
   "source": [
    "np.cumsum(a)"
   ]
  },
  {
   "cell_type": "code",
   "execution_count": 46,
   "id": "e34b62b4",
   "metadata": {},
   "outputs": [
    {
     "data": {
      "text/plain": [
       "array([[99, 72, 59, 76],\n",
       "       [74, 40,  9, 47],\n",
       "       [84, 74, 62, 20],\n",
       "       [10, 77, 16,  7],\n",
       "       [27, 39, 53, 41],\n",
       "       [ 9,  8, 70,  5]], dtype=int32)"
      ]
     },
     "execution_count": 46,
     "metadata": {},
     "output_type": "execute_result"
    }
   ],
   "source": [
    "b"
   ]
  },
  {
   "cell_type": "code",
   "execution_count": 49,
   "id": "c2b33fb6",
   "metadata": {},
   "outputs": [
    {
     "data": {
      "text/plain": [
       "array([[ 99, 171, 230, 306],\n",
       "       [ 74, 114, 123, 170],\n",
       "       [ 84, 158, 220, 240],\n",
       "       [ 10,  87, 103, 110],\n",
       "       [ 27,  66, 119, 160],\n",
       "       [  9,  17,  87,  92]])"
      ]
     },
     "execution_count": 49,
     "metadata": {},
     "output_type": "execute_result"
    }
   ],
   "source": [
    "np.cumsum(b,axis=0) #column wise\n",
    "np.cumsum(b,axis=1) #row wise"
   ]
  },
  {
   "cell_type": "markdown",
   "id": "3185cfe4",
   "metadata": {},
   "source": [
    "<h3>cumprod \n",
    "\n",
    "cummilative product "
   ]
  },
  {
   "cell_type": "code",
   "execution_count": 50,
   "id": "36e39420",
   "metadata": {},
   "outputs": [
    {
     "data": {
      "text/plain": [
       "array([                  58,                 4408,               387904,\n",
       "                   31420224,           2922080832,          17532484992,\n",
       "               175324849920,       10344166145280,      320669150503680,\n",
       "           9940743665614080,   695852056592985600,  1732965567487030784,\n",
       "        5929439809565209600,  1327703303347558400, -1186601130191292416])"
      ]
     },
     "execution_count": 50,
     "metadata": {},
     "output_type": "execute_result"
    }
   ],
   "source": [
    "a\n",
    "np.cumprod(a)"
   ]
  },
  {
   "cell_type": "markdown",
   "id": "7fefe6a6",
   "metadata": {},
   "source": [
    "<h3>percentile"
   ]
  },
  {
   "cell_type": "markdown",
   "id": "8233331f",
   "metadata": {},
   "source": [
    "numpy.percentile()function used to compute the nth percentile of the given data along a specific line "
   ]
  },
  {
   "cell_type": "code",
   "execution_count": 55,
   "id": "1aec961c",
   "metadata": {},
   "outputs": [
    {
     "data": {
      "text/plain": [
       "np.float64(78.60000000000001)"
      ]
     },
     "execution_count": 55,
     "metadata": {},
     "output_type": "execute_result"
    }
   ],
   "source": [
    "a\n",
    "\n",
    "np.percentile(a,80)  #kitna chiye 100 is for 100percentile"
   ]
  },
  {
   "cell_type": "code",
   "execution_count": 56,
   "id": "7d9ec62f",
   "metadata": {},
   "outputs": [
    {
     "data": {
      "text/plain": [
       "np.float64(58.0)"
      ]
     },
     "execution_count": 56,
     "metadata": {},
     "output_type": "execute_result"
    }
   ],
   "source": [
    "np.median(a)"
   ]
  },
  {
   "cell_type": "markdown",
   "id": "ea07fc96",
   "metadata": {},
   "source": [
    "histogram\n",
    "\n",
    "\n",
    "\n",
    "freq. chart "
   ]
  },
  {
   "cell_type": "code",
   "execution_count": 57,
   "id": "9cd8c763",
   "metadata": {},
   "outputs": [
    {
     "data": {
      "text/plain": [
       "(array([1, 2, 1, 2, 1, 2, 0, 3, 2, 1]),\n",
       " array([  0,  10,  20,  30,  40,  50,  60,  70,  80,  90, 100]))"
      ]
     },
     "execution_count": 57,
     "metadata": {},
     "output_type": "execute_result"
    }
   ],
   "source": [
    "np.histogram(a,bins=[0,10,20,30,40,50,60,70,80,90,100])  #bins == spaces"
   ]
  },
  {
   "cell_type": "code",
   "execution_count": 58,
   "id": "306b7531",
   "metadata": {},
   "outputs": [
    {
     "data": {
      "text/plain": [
       "(array([7, 8]), array([  0,  50, 100]))"
      ]
     },
     "execution_count": 58,
     "metadata": {},
     "output_type": "execute_result"
    }
   ],
   "source": [
    "np.histogram(a,bins=[0,50,100])"
   ]
  },
  {
   "cell_type": "markdown",
   "id": "e44a2f8b",
   "metadata": {},
   "source": [
    "\n",
    "<h3>np.corrcoef</h3>\n",
    "\n",
    "return pearson product moment correlation coefficients.\n",
    "\n",
    "\n",
    "\n",
    "kisi k bdlne pr kisi  dusre pr kitta frk pdega "
   ]
  },
  {
   "cell_type": "code",
   "execution_count": 60,
   "id": "9e6e9ad8",
   "metadata": {},
   "outputs": [
    {
     "data": {
      "text/plain": [
       "array([[1.        , 0.25849551],\n",
       "       [0.25849551, 1.        ]])"
      ]
     },
     "execution_count": 60,
     "metadata": {},
     "output_type": "execute_result"
    }
   ],
   "source": [
    "salary = np.array([20000,40000,23000,35000,60000])\n",
    "\n",
    "experience = np.array([1,3,2,4,2])\n",
    "\n",
    "np.corrcoef(salary,experience)\n",
    "\n",
    "# phele salary ka salary k sath then experience ka and then same process for experience"
   ]
  },
  {
   "cell_type": "markdown",
   "id": "e4dd0510",
   "metadata": {},
   "source": [
    "np.isin()\n",
    "\n",
    "\n",
    "with the help of numpy isin() method , we can see that one array having values are checked in a different numpy array having different elements with different sizes."
   ]
  },
  {
   "cell_type": "code",
   "execution_count": 61,
   "id": "aa3e8d59",
   "metadata": {},
   "outputs": [
    {
     "data": {
      "text/plain": [
       "array([10, 70], dtype=int32)"
      ]
     },
     "execution_count": 61,
     "metadata": {},
     "output_type": "execute_result"
    }
   ],
   "source": [
    "items = [10,20,30,40,50,60,70,80,90,100]\n",
    "\n",
    "a[np.isin(a,items)]"
   ]
  },
  {
   "cell_type": "markdown",
   "id": "0f32111e",
   "metadata": {},
   "source": [
    "np.flip\n",
    "\n",
    "\n",
    "function reverses the order of array elemts along the specified axis , preserving the shape of the array "
   ]
  },
  {
   "cell_type": "code",
   "execution_count": 63,
   "id": "9b26fa18",
   "metadata": {},
   "outputs": [
    {
     "data": {
      "text/plain": [
       "array([58, 76, 88, 81, 93,  6, 10, 59, 31, 31, 70, 29, 46, 78, 13],\n",
       "      dtype=int32)"
      ]
     },
     "execution_count": 63,
     "metadata": {},
     "output_type": "execute_result"
    }
   ],
   "source": [
    "a"
   ]
  },
  {
   "cell_type": "code",
   "execution_count": 62,
   "id": "da0ab5cb",
   "metadata": {},
   "outputs": [
    {
     "data": {
      "text/plain": [
       "array([13, 78, 46, 29, 70, 31, 31, 59, 10,  6, 93, 81, 88, 76, 58],\n",
       "      dtype=int32)"
      ]
     },
     "execution_count": 62,
     "metadata": {},
     "output_type": "execute_result"
    }
   ],
   "source": [
    "np.flip(a)"
   ]
  },
  {
   "cell_type": "code",
   "execution_count": 64,
   "id": "7a7f7bf0",
   "metadata": {},
   "outputs": [
    {
     "data": {
      "text/plain": [
       "array([[99, 72, 59, 76],\n",
       "       [74, 40,  9, 47],\n",
       "       [84, 74, 62, 20],\n",
       "       [10, 77, 16,  7],\n",
       "       [27, 39, 53, 41],\n",
       "       [ 9,  8, 70,  5]], dtype=int32)"
      ]
     },
     "execution_count": 64,
     "metadata": {},
     "output_type": "execute_result"
    }
   ],
   "source": [
    "b"
   ]
  },
  {
   "cell_type": "code",
   "execution_count": null,
   "id": "8180ae1c",
   "metadata": {},
   "outputs": [
    {
     "data": {
      "text/plain": [
       "array([[ 5, 70,  8,  9],\n",
       "       [41, 53, 39, 27],\n",
       "       [ 7, 16, 77, 10],\n",
       "       [20, 62, 74, 84],\n",
       "       [47,  9, 40, 74],\n",
       "       [76, 59, 72, 99]], dtype=int32)"
      ]
     },
     "execution_count": 65,
     "metadata": {},
     "output_type": "execute_result"
    }
   ],
   "source": [
    "np.flip(b)  #columnn and row dono flip hota h "
   ]
  },
  {
   "cell_type": "code",
   "execution_count": null,
   "id": "7dba9e87",
   "metadata": {},
   "outputs": [
    {
     "data": {
      "text/plain": [
       "array([[ 9,  8, 70,  5],\n",
       "       [27, 39, 53, 41],\n",
       "       [10, 77, 16,  7],\n",
       "       [84, 74, 62, 20],\n",
       "       [74, 40,  9, 47],\n",
       "       [99, 72, 59, 76]], dtype=int32)"
      ]
     },
     "execution_count": 67,
     "metadata": {},
     "output_type": "execute_result"
    }
   ],
   "source": [
    "np.flip(b,axis=0)  #only row"
   ]
  },
  {
   "cell_type": "markdown",
   "id": "a3d3d6c3",
   "metadata": {},
   "source": [
    "np.put"
   ]
  },
  {
   "cell_type": "markdown",
   "id": "d95ff1b5",
   "metadata": {},
   "source": [
    "replaces specific elements of a new array with given values of p_array.array indexed works on flattened array."
   ]
  },
  {
   "cell_type": "code",
   "execution_count": null,
   "id": "6eb761b0",
   "metadata": {},
   "outputs": [],
   "source": [
    "\n",
    "\n",
    "np.put(a,[0,1],[110,530])  # array dalo [ kha pr changes krne h ] , [ ky changes krne  h]\n",
    "\n",
    "# permanent changes "
   ]
  },
  {
   "cell_type": "code",
   "execution_count": 69,
   "id": "15fa92ab",
   "metadata": {},
   "outputs": [
    {
     "name": "stdout",
     "output_type": "stream",
     "text": [
      "[110 530  88  81  93   6  10  59  31  31  70  29  46  78  13]\n"
     ]
    }
   ],
   "source": [
    "print(a)"
   ]
  },
  {
   "cell_type": "markdown",
   "id": "49d16e87",
   "metadata": {},
   "source": [
    "np.delete\n",
    "\n",
    "\n",
    "\n",
    "returns a new array with the deletion of sub arrays along with the mentioned axis"
   ]
  },
  {
   "cell_type": "code",
   "execution_count": 71,
   "id": "76284111",
   "metadata": {},
   "outputs": [
    {
     "data": {
      "text/plain": [
       "array([530,  88,  81,  93,   6,  10,  59,  31,  31,  70,  29,  46,  78,\n",
       "        13], dtype=int32)"
      ]
     },
     "execution_count": 71,
     "metadata": {},
     "output_type": "execute_result"
    }
   ],
   "source": [
    "np.delete(a,0)\n",
    "\n",
    "#given index ka item delete ho jayega"
   ]
  },
  {
   "cell_type": "code",
   "execution_count": 75,
   "id": "0dccba32",
   "metadata": {},
   "outputs": [
    {
     "data": {
      "text/plain": [
       "array([530,  81,   6,  10,  59,  31,  31,  70,  29,  46,  78,  13],\n",
       "      dtype=int32)"
      ]
     },
     "execution_count": 75,
     "metadata": {},
     "output_type": "execute_result"
    }
   ],
   "source": [
    "np.delete(a,[2,0,4])"
   ]
  },
  {
   "cell_type": "markdown",
   "id": "e38611bc",
   "metadata": {},
   "source": [
    "SET FUNCTIONS \n",
    "\n",
    "np.union1d\n",
    "\n",
    "np.intersection1d\n",
    "\n",
    "np.setdiff1d\n",
    "\n",
    "np.setxor1d\n",
    "\n",
    "np.in1d"
   ]
  },
  {
   "cell_type": "code",
   "execution_count": null,
   "id": "990e93f2",
   "metadata": {},
   "outputs": [
    {
     "data": {
      "text/plain": [
       "array([1, 2, 3, 4, 5, 6, 7])"
      ]
     },
     "execution_count": 76,
     "metadata": {},
     "output_type": "execute_result"
    }
   ],
   "source": [
    "m = np.array([1,2,3,4,5])\n",
    "n = np.array([3,4,5,6,7])  #union\n",
    "\n",
    "np.union1d(m,n)"
   ]
  },
  {
   "cell_type": "code",
   "execution_count": null,
   "id": "64711602",
   "metadata": {},
   "outputs": [
    {
     "data": {
      "text/plain": [
       "array([3, 4, 5])"
      ]
     },
     "execution_count": 77,
     "metadata": {},
     "output_type": "execute_result"
    }
   ],
   "source": [
    "np.intersect1d(m,n)  # intersection"
   ]
  },
  {
   "cell_type": "code",
   "execution_count": null,
   "id": "8a4ca82f",
   "metadata": {},
   "outputs": [
    {
     "data": {
      "text/plain": [
       "array([1, 2])"
      ]
     },
     "execution_count": 78,
     "metadata": {},
     "output_type": "execute_result"
    }
   ],
   "source": [
    "np.setdiff1d(m,n) #uniques"
   ]
  },
  {
   "cell_type": "code",
   "execution_count": 79,
   "id": "d73f5e42",
   "metadata": {},
   "outputs": [
    {
     "data": {
      "text/plain": [
       "array([1, 2, 6, 7])"
      ]
     },
     "execution_count": 79,
     "metadata": {},
     "output_type": "execute_result"
    }
   ],
   "source": [
    "np.setxor1d(m,n)  # common hta dega"
   ]
  },
  {
   "cell_type": "code",
   "execution_count": null,
   "id": "26029b44",
   "metadata": {},
   "outputs": [
    {
     "name": "stderr",
     "output_type": "stream",
     "text": [
      "C:\\Users\\goswa\\AppData\\Local\\Temp\\ipykernel_28012\\3930963099.py:1: DeprecationWarning: `in1d` is deprecated. Use `np.isin` instead.\n",
      "  np.in1d(m,1)\n"
     ]
    },
    {
     "data": {
      "text/plain": [
       "array([ True, False, False, False, False])"
      ]
     },
     "execution_count": 80,
     "metadata": {},
     "output_type": "execute_result"
    }
   ],
   "source": [
    "np.in1d(m,1)  "
   ]
  },
  {
   "cell_type": "markdown",
   "id": "307e9da5",
   "metadata": {},
   "source": [
    "np.clip"
   ]
  },
  {
   "cell_type": "markdown",
   "id": "04641fa8",
   "metadata": {},
   "source": [
    "is used to clip (limit) the vlues in an array"
   ]
  },
  {
   "cell_type": "code",
   "execution_count": null,
   "id": "9f2df0c4",
   "metadata": {},
   "outputs": [
    {
     "data": {
      "text/plain": [
       "array([34, 34, 34, 34, 34, 25, 25, 34, 31, 31, 34, 29, 34, 34, 25],\n",
       "      dtype=int32)"
      ]
     },
     "execution_count": 82,
     "metadata": {},
     "output_type": "execute_result"
    }
   ],
   "source": [
    "np.clip(a,a_min = 25 , a_max = 34)\n",
    "\n",
    "#limiting values in a certain range "
   ]
  }
 ],
 "metadata": {
  "kernelspec": {
   "display_name": ".venv",
   "language": "python",
   "name": "python3"
  },
  "language_info": {
   "codemirror_mode": {
    "name": "ipython",
    "version": 3
   },
   "file_extension": ".py",
   "mimetype": "text/x-python",
   "name": "python",
   "nbconvert_exporter": "python",
   "pygments_lexer": "ipython3",
   "version": "3.12.7"
  }
 },
 "nbformat": 4,
 "nbformat_minor": 5
}
