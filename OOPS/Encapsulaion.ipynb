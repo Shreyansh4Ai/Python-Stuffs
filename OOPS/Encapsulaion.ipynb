{
 "cells": [
  {
   "cell_type": "markdown",
   "id": "b1272200",
   "metadata": {},
   "source": [
    "<h1>ENCAPSULATION</h1>"
   ]
  },
  {
   "cell_type": "markdown",
   "id": "8f33b120",
   "metadata": {},
   "source": [
    "data+methods = encapsulation"
   ]
  },
  {
   "cell_type": "markdown",
   "id": "2cf39668",
   "metadata": {},
   "source": [
    "private in py ===>> __subject \n",
    "\n",
    "\n",
    "\n",
    "\n",
    "memory m y kuch esa dikhelga==>> _class__subject"
   ]
  },
  {
   "cell_type": "markdown",
   "id": "1200edcd",
   "metadata": {},
   "source": [
    "nothing in python is truly private : reason --> pyhon is made for adults"
   ]
  },
  {
   "cell_type": "markdown",
   "id": "0f0ddd71",
   "metadata": {},
   "source": [
    "Collection of objects \n"
   ]
  },
  {
   "cell_type": "code",
   "execution_count": 4,
   "id": "10565c43",
   "metadata": {},
   "outputs": [
    {
     "name": "stdout",
     "output_type": "stream",
     "text": [
      "vini jr. male\n",
      "luka doncic male\n",
      "angelena female\n"
     ]
    }
   ],
   "source": [
    "# list of objects\n",
    "\n",
    "class person:\n",
    "\n",
    "    def __init__(self,name,gender):\n",
    "        self.name = name\n",
    "        self.gender = gender\n",
    "\n",
    "\n",
    "p1= person ('vini jr.','male')\n",
    "p2= person ('luka doncic','male')\n",
    "p3= person ('angelena','female')\n",
    "\n",
    "l=[p1,p2,p3]\n",
    "\n",
    "for i in l:\n",
    " print(i.name,i.gender)"
   ]
  }
 ],
 "metadata": {
  "kernelspec": {
   "display_name": ".venv",
   "language": "python",
   "name": "python3"
  },
  "language_info": {
   "codemirror_mode": {
    "name": "ipython",
    "version": 3
   },
   "file_extension": ".py",
   "mimetype": "text/x-python",
   "name": "python",
   "nbconvert_exporter": "python",
   "pygments_lexer": "ipython3",
   "version": "3.12.7"
  }
 },
 "nbformat": 4,
 "nbformat_minor": 5
}
