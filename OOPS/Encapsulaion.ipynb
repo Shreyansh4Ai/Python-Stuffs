{
 "cells": [
  {
   "cell_type": "markdown",
   "id": "b1272200",
   "metadata": {},
   "source": [
    "<h1>ENCAPSULATION</h1>"
   ]
  },
  {
   "cell_type": "markdown",
   "id": "2cf39668",
   "metadata": {},
   "source": []
  }
 ],
 "metadata": {
  "language_info": {
   "name": "python"
  }
 },
 "nbformat": 4,
 "nbformat_minor": 5
}
