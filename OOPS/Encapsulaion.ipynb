{
 "cells": [
  {
   "cell_type": "markdown",
   "id": "b1272200",
   "metadata": {},
   "source": [
    "<h1>ENCAPSULATION</h1>"
   ]
  },
  {
   "cell_type": "markdown",
   "id": "8f33b120",
   "metadata": {},
   "source": [
    "data+methods = encapsulation"
   ]
  },
  {
   "cell_type": "markdown",
   "id": "2cf39668",
   "metadata": {},
   "source": [
    "private in py ===>> __subject \n",
    "\n",
    "\n",
    "\n",
    "\n",
    "memory m y kuch esa dikhelga==>> _class__subject"
   ]
  },
  {
   "cell_type": "markdown",
   "id": "1200edcd",
   "metadata": {},
   "source": [
    "nothing in python is truly private : reason --> pyhon is made for adults"
   ]
  },
  {
   "cell_type": "markdown",
   "id": "0f0ddd71",
   "metadata": {},
   "source": [
    "Collection of objects \n"
   ]
  },
  {
   "cell_type": "code",
   "execution_count": 4,
   "id": "10565c43",
   "metadata": {},
   "outputs": [
    {
     "name": "stdout",
     "output_type": "stream",
     "text": [
      "vini jr. male\n",
      "luka doncic male\n",
      "angelena female\n"
     ]
    }
   ],
   "source": [
    "# list of objects\n",
    "\n",
    "class person:\n",
    "\n",
    "    def __init__(self,name,gender):\n",
    "        self.name = name\n",
    "        self.gender = gender\n",
    "\n",
    "\n",
    "p1= person ('vini jr.','male')\n",
    "p2= person ('luka doncic','male')\n",
    "p3= person ('angelena','female')\n",
    "\n",
    "l=[p1,p2,p3]\n",
    "\n",
    "for i in l:\n",
    " print(i.name,i.gender)"
   ]
  },
  {
   "cell_type": "markdown",
   "id": "7f48f4bf",
   "metadata": {},
   "source": [
    "Static variable"
   ]
  },
  {
   "cell_type": "code",
   "execution_count": 26,
   "id": "c958aebe",
   "metadata": {},
   "outputs": [],
   "source": [
    "class ATM:\n",
    "\n",
    "    __counter =1 #static var\n",
    "\n",
    "    def __init__(self):  # constructor\n",
    "        self.pin = ''\n",
    "        self.balance = 0\n",
    "        self.cid = ATM.__counter\n",
    "        ATM.__counter+=1\n",
    "        #self.menu()\n",
    "\n",
    "    @staticmethod   #utility function -->> chota mota kaam krne wale \n",
    "    def get_counter():\n",
    "        return ATM.__counter \n",
    "\n",
    "    def menu(self):\n",
    "        user_input = input(\"\"\"\n",
    "Hi how can I help you?\n",
    "1. press 1 to create pin \n",
    "2. press 2 to change pin \n",
    "3. press 3 to check balance\n",
    "4. press 4 to withdraw \n",
    "5. anything else to exit \n",
    "\"\"\")\n",
    "        if user_input == '1':\n",
    "            # create pin\n",
    "            self.create_pin()\n",
    "        elif user_input == '2':\n",
    "            # change pin\n",
    "            self.change_pin()\n",
    "        elif user_input == '3':\n",
    "            # check balance\n",
    "            self.check_balance()\n",
    "            pass\n",
    "        elif user_input == '4':\n",
    "            self.withdraw()\n",
    "            pass\n",
    "        else:\n",
    "            # anything else exit\n",
    "            pass\n",
    "\n",
    "    def create_pin(self):\n",
    "        user_pin = input('enter your pin')\n",
    "        self.pin = user_pin\n",
    "\n",
    "        user_balance = int(input(\"enter balance\"))\n",
    "        self.balance = user_balance\n",
    "\n",
    "        print(\"Pin created successfully\")\n",
    "        self.menu()\n",
    "\n",
    "    def change_pin(self):\n",
    "        old_pin = input('enter old pin')\n",
    "\n",
    "        if old_pin == self.pin:\n",
    "            #  let him change pin\n",
    "            new_pin = input('enter new pin')\n",
    "            self.pin = new_pin\n",
    "            print('pin change success')\n",
    "            self.menu()\n",
    "        else:\n",
    "            print(\"nai krne dunga\") \n",
    "            self.menu()\n",
    "\n",
    "    def check_balance(self):\n",
    "        user_pin=input('enter pin')\n",
    "        if user_pin == self.pin:\n",
    "            print('your balance is',self.balance)\n",
    "        else:\n",
    "            print(\"khali h gareeb\")\n",
    "    \n",
    "    def withdraw(self):\n",
    "        user_pin=input(\"enter the pin\")\n",
    "\n",
    "        if user_pin ==self.pin:\n",
    "            amount=int(input('enter the amount'))\n",
    "            if amount <=self.balance:\n",
    "                self.balamce=self.balance - amount\n",
    "                print(\"remaining balance :\",self.balance)\n",
    "        else:\n",
    "            print(\"Aukaat h be \")\n",
    "   \n",
    "            self.menu()\n",
    "obj = ATM()\n",
    "\n"
   ]
  },
  {
   "cell_type": "code",
   "execution_count": 15,
   "id": "d3a184cc",
   "metadata": {},
   "outputs": [
    {
     "name": "stdout",
     "output_type": "stream",
     "text": [
      "<__main__.ATM object at 0x0000024A74237DA0>\n"
     ]
    }
   ],
   "source": [
    "c1=ATM()\n",
    "print(c1)"
   ]
  },
  {
   "cell_type": "code",
   "execution_count": 16,
   "id": "7e572183",
   "metadata": {},
   "outputs": [
    {
     "name": "stdout",
     "output_type": "stream",
     "text": [
      "<__main__.ATM object at 0x0000024A740FE330>\n"
     ]
    }
   ],
   "source": [
    "c2=ATM() \n",
    "print(c2)"
   ]
  },
  {
   "cell_type": "code",
   "execution_count": 17,
   "id": "4eb23f0e",
   "metadata": {},
   "outputs": [
    {
     "name": "stdout",
     "output_type": "stream",
     "text": [
      "<__main__.ATM object at 0x0000024A74257E60>\n"
     ]
    }
   ],
   "source": [
    "c3=ATM()\n",
    "print(c3)"
   ]
  },
  {
   "cell_type": "code",
   "execution_count": 21,
   "id": "12336105",
   "metadata": {},
   "outputs": [
    {
     "data": {
      "text/plain": [
       "2"
      ]
     },
     "execution_count": 21,
     "metadata": {},
     "output_type": "execute_result"
    }
   ],
   "source": [
    "c1.cid"
   ]
  },
  {
   "cell_type": "code",
   "execution_count": 18,
   "id": "43f33bdd",
   "metadata": {},
   "outputs": [
    {
     "data": {
      "text/plain": [
       "3"
      ]
     },
     "execution_count": 18,
     "metadata": {},
     "output_type": "execute_result"
    }
   ],
   "source": [
    "c2.cid"
   ]
  },
  {
   "cell_type": "code",
   "execution_count": 20,
   "id": "18dfc5a5",
   "metadata": {},
   "outputs": [
    {
     "data": {
      "text/plain": [
       "4"
      ]
     },
     "execution_count": 20,
     "metadata": {},
     "output_type": "execute_result"
    }
   ],
   "source": [
    "c3.cid"
   ]
  },
  {
   "cell_type": "code",
   "execution_count": 27,
   "id": "ed999439",
   "metadata": {},
   "outputs": [
    {
     "data": {
      "text/plain": [
       "2"
      ]
     },
     "execution_count": 27,
     "metadata": {},
     "output_type": "execute_result"
    }
   ],
   "source": [
    "ATM.get_counter()"
   ]
  },
  {
   "cell_type": "markdown",
   "id": "7a2d06c6",
   "metadata": {},
   "source": [
    "instance variable ka value har object k liye alag hota h \n",
    "\n",
    "static variable ka value har object k liye same hota h and vo class k liye hota ."
   ]
  }
 ],
 "metadata": {
  "kernelspec": {
   "display_name": ".venv",
   "language": "python",
   "name": "python3"
  },
  "language_info": {
   "codemirror_mode": {
    "name": "ipython",
    "version": 3
   },
   "file_extension": ".py",
   "mimetype": "text/x-python",
   "name": "python",
   "nbconvert_exporter": "python",
   "pygments_lexer": "ipython3",
   "version": "3.12.7"
  }
 },
 "nbformat": 4,
 "nbformat_minor": 5
}
