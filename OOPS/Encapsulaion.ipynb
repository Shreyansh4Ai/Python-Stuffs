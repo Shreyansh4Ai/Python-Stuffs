{
 "cells": [
  {
   "cell_type": "markdown",
   "id": "b1272200",
   "metadata": {},
   "source": [
    "<h1>ENCAPSULATION</h1>"
   ]
  }
 ],
 "metadata": {
  "language_info": {
   "name": "python"
  }
 },
 "nbformat": 4,
 "nbformat_minor": 5
}
