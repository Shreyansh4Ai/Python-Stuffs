{
 "cells": [
  {
   "cell_type": "markdown",
   "id": "14a3f674",
   "metadata": {},
   "source": [
    "<h1>Class Relationships</h1>"
   ]
  },
  {
   "cell_type": "markdown",
   "id": "6f03b391",
   "metadata": {},
   "source": [
    "Aggregation\n",
    "\n",
    "inheritance\n"
   ]
  },
  {
   "cell_type": "markdown",
   "id": "31728917",
   "metadata": {},
   "source": [
    "when one class owns the other class this type of relation is called aggregation"
   ]
  },
  {
   "cell_type": "code",
   "execution_count": null,
   "id": "801e61ef",
   "metadata": {},
   "outputs": [],
   "source": [
    "#example \n",
    "\n",
    "class customer:\n",
    "    def __init__(self,name,gender,address):\n",
    "        self.name = name \n",
    "        self.gender = gender \n",
    "        self.address = address\n",
    "    \n",
    "\n",
    "    def print_address(self):\n",
    "        print(self.address._address__city,self.address.pin,self.address.state)\n",
    " \n",
    "    def edit_profile(self,new_name,new_pin,new_state):\n",
    "        self.name=new_name\n",
    "        self.address.edit_address(new_city,new_pin,new_state)\n",
    "\n",
    "class address:\n",
    "    def __init__(self,city,pin,state):\n",
    "        self.__city = city\n",
    "        self.pin = pin \n",
    "        self.state=state\n",
    "\n",
    "    def get_city(self):\n",
    "        return self.city\n",
    "    \n",
    "    def edit_address(self,new_city,new_pin,new_state):\n",
    "        self.__city=new_city\n",
    "        self.pin=new_pin\n",
    "        self.state=new_state\n",
    " \n",
    "add1=address('bilaspur',495001,'himachal')         \n",
    "cust=customer('lalu','male',add1)      # we have passed a object (aggregation)\n",
    "\n",
    "cust.print_address()\n",
    " \n",
    "cust.edit_profile('nanu','chicago',1110111,'wakanda')\n",
    "cust.print_address()\n",
    "  "
   ]
  },
  {
   "cell_type": "markdown",
   "id": "f78a5039",
   "metadata": {},
   "source": [
    "you cannot accesss directly the private var in aggregation "
   ]
  },
  {
   "cell_type": "markdown",
   "id": "30a7e7ac",
   "metadata": {},
   "source": [
    "<h1>Inheritance</h1\n",
    ">"
   ]
  },
  {
   "cell_type": "markdown",
   "id": "1c1d3c6c",
   "metadata": {},
   "source": [
    "code reusability key advantage"
   ]
  },
  {
   "cell_type": "code",
   "execution_count": null,
   "id": "a92243ca",
   "metadata": {},
   "outputs": [
    {
     "name": "stdout",
     "output_type": "stream",
     "text": [
      "billy\n",
      "login\n",
      "enroll into the course\n"
     ]
    }
   ],
   "source": [
    "class user :  #parent class\n",
    "    def __init__(self):\n",
    "        self.name='billy'\n",
    "\n",
    "    def login(self):\n",
    "        print('login')\n",
    "#child class\n",
    "class student(user) : #inheritance\n",
    "\n",
    "    \n",
    "\n",
    "    def enroll(self):\n",
    "        print('enroll into the course')\n",
    "\n",
    "\n",
    "u=user()\n",
    "s=student()\n",
    "\n",
    "print(s.name)\n",
    "\n",
    "s.login()\n",
    "s.enroll()"
   ]
  },
  {
   "cell_type": "markdown",
   "id": "d0831b83",
   "metadata": {},
   "source": [
    "what constructor can inherit \n",
    "\n",
    "\n",
    "1.constructor \n",
    "\n",
    "2.non private attributes\n",
    "\n",
    "3.non private methods"
   ]
  },
  {
   "cell_type": "code",
   "execution_count": null,
   "id": "08f04495",
   "metadata": {},
   "outputs": [
    {
     "name": "stdout",
     "output_type": "stream",
     "text": [
      "buying a phone \n"
     ]
    }
   ],
   "source": [
    "class phone :\n",
    "    def __init__(self,price,brand,camera):\n",
    "        self.price=price\n",
    "        self.brand=brand\n",
    "        self.camera=camera\n",
    "\n",
    "    def buy(self):\n",
    "        print(\"buying a phone \")\n",
    "\n",
    "\n",
    "class smartphone(phone):\n",
    "    pass\n",
    "\n",
    "s=smartphone(2000,'appile',30) #inside phone constructor\n",
    "s.buy() "
   ]
  },
  {
   "cell_type": "code",
   "execution_count": null,
   "id": "04be0436",
   "metadata": {},
   "outputs": [
    {
     "name": "stdout",
     "output_type": "stream",
     "text": [
      "inside smartphone constructor \n"
     ]
    }
   ],
   "source": [
    "#example -2 \n",
    "\n",
    "class phone :\n",
    "    def __init__(self,price,brand ,camera):\n",
    "        print(\"Inside phone constructor\")\n",
    "\n",
    "        self.__price = price\n",
    "        self.brand = brand\n",
    "        self.camera = camera\n",
    "\n",
    "\n",
    "class smartphone(phone):\n",
    "    def __init__(self,os,ram):\n",
    "        self.os =os\n",
    "        self.ram = ram \n",
    "        print(\"inside smartphone constructor \")\n",
    "\n",
    "s=smartphone('Android',2) \n",
    "s.brand #ispar error ayega kyunki parent ka constructor call hoga hi nhi                 "
   ]
  },
  {
   "cell_type": "markdown",
   "id": "83121498",
   "metadata": {},
   "source": [
    "full funda \n",
    "\n",
    "agar child k pass alag se constructor h toh parent ka constructor call hi nhi hoga and vo parent k attributes kbi bnenge hio nhi in this case humme error dekhne milega "
   ]
  },
  {
   "cell_type": "markdown",
   "id": "98852161",
   "metadata": {},
   "source": [
    " #child can not access private variables / members of the class\n"
   ]
  },
  {
   "cell_type": "code",
   "execution_count": null,
   "id": "c1b1547f",
   "metadata": {},
   "outputs": [
    {
     "name": "stdout",
     "output_type": "stream",
     "text": [
      "2000\n"
     ]
    },
    {
     "ename": "TypeError",
     "evalue": "'str' object is not callable",
     "output_type": "error",
     "traceback": [
      "\u001b[31m---------------------------------------------------------------------------\u001b[39m",
      "\u001b[31mTypeError\u001b[39m                                 Traceback (most recent call last)",
      "\u001b[36mCell\u001b[39m\u001b[36m \u001b[39m\u001b[32mIn[15]\u001b[39m\u001b[32m, line 20\u001b[39m\n\u001b[32m     17\u001b[39m \u001b[38;5;66;03m#s.check()\u001b[39;00m\n\u001b[32m     18\u001b[39m \u001b[38;5;66;03m#print(s.brand())\u001b[39;00m\n\u001b[32m     19\u001b[39m s.show()\n\u001b[32m---> \u001b[39m\u001b[32m20\u001b[39m \u001b[43ms\u001b[49m\u001b[43m.\u001b[49m\u001b[43mbrand\u001b[49m\u001b[43m(\u001b[49m\u001b[43m)\u001b[49m\n",
      "\u001b[31mTypeError\u001b[39m: 'str' object is not callable"
     ]
    }
   ],
   "source": [
    "class phone:\n",
    "    def __init__(self,price,brand,camera):\n",
    "        self.__price = price\n",
    "        self.brand = brand\n",
    "        self.camera = camera\n",
    "\n",
    "    def show(self):\n",
    "        print(self.__price)\n",
    "\n",
    "class smartphone(phone):\n",
    "    def check(self):\n",
    "        print(self.__price)\n",
    "\n",
    "\n",
    "\n",
    "s=smartphone(2000,'appel',13)\n",
    "#s.check()\n",
    "#print(s.brand())\n",
    "s.show()\n",
    "\n"
   ]
  },
  {
   "cell_type": "code",
   "execution_count": 16,
   "id": "f906410d",
   "metadata": {},
   "outputs": [
    {
     "name": "stdout",
     "output_type": "stream",
     "text": [
      "100\n",
      "This is in child class \n"
     ]
    }
   ],
   "source": [
    "class parent :\n",
    "    def __init__(self,num):\n",
    "        self.__num=num\n",
    "\n",
    "\n",
    "    def get_num(self):\n",
    "        return self.__num    \n",
    "    \n",
    "class child(parent):\n",
    "\n",
    "    def show(self):\n",
    "        print(\"This is in child class \")\n",
    "\n",
    "\n",
    "son=child(100)\n",
    "print(son.get_num())\n",
    "son.show()        "
   ]
  },
  {
   "cell_type": "code",
   "execution_count": null,
   "id": "b1bd2c74",
   "metadata": {},
   "outputs": [
    {
     "name": "stdout",
     "output_type": "stream",
     "text": [
      "Class A : 100\n"
     ]
    }
   ],
   "source": [
    "class a:                 #tricky example  \n",
    "\n",
    "    def __init__(self):\n",
    "        self.var1=100\n",
    "\n",
    "\n",
    "    def display(self,var1):  #this var1 are completely different from each other \n",
    "            #self.var1=var1 -----?>>> y agr code m hota then output 200 hota but y nhi h toh humara bheja hua 200 utilise hi nhi uha je !!!    \n",
    "        print(\"Class A :\",self.var1)\n",
    "\n",
    "class b(a) :\n",
    "       \n",
    "    def display2(self,var1):\n",
    "        print(\"Class B :\",self.var1)\n",
    "\n",
    "\n",
    "obj=b()    \n",
    "\n",
    "obj.display(200)\n"
   ]
  },
  {
   "cell_type": "code",
   "execution_count": null,
   "id": "35fb5846",
   "metadata": {},
   "outputs": [],
   "source": [
    "#METHOD OVERRIDING\n",
    "\n",
    "class phone:\n",
    "    def __init__(self,price , brand , camera ):\n",
    "        self.price=price\n",
    "        self.brand=brand\n",
    "        self.camera=camera\n",
    "\n",
    "\n",
    "    def buy(self):\n",
    "        print(\"Buying a smartphone\")\n",
    "\n",
    "\n",
    "class smartphone(phone):\n",
    "    def buy(self):\n",
    "        print(\"buying a smartphone\")   #ye execute hoga\n",
    "\n",
    "\n",
    "s=smartphone(200000,'apple',15)        \n",
    "\n",
    "s.buy()\n"
   ]
  },
  {
   "cell_type": "markdown",
   "id": "308c1698",
   "metadata": {},
   "source": [
    "method overriding --> agar parent and child dono pr same method h then humesha child hi execute hota h \n",
    "\n",
    "\n",
    "this is like constructor overriding \n"
   ]
  },
  {
   "cell_type": "markdown",
   "id": "7085614c",
   "metadata": {},
   "source": [
    "<h2>Super Keyword </h2>"
   ]
  },
  {
   "cell_type": "code",
   "execution_count": 20,
   "id": "2bdcf463",
   "metadata": {},
   "outputs": [
    {
     "name": "stdout",
     "output_type": "stream",
     "text": [
      "inside the phone constructor \n",
      "buying a smartphone\n"
     ]
    },
    {
     "ename": "AttributeError",
     "evalue": "type object 'super' has no attribute 'buy'",
     "output_type": "error",
     "traceback": [
      "\u001b[31m---------------------------------------------------------------------------\u001b[39m",
      "\u001b[31mAttributeError\u001b[39m                            Traceback (most recent call last)",
      "\u001b[36mCell\u001b[39m\u001b[36m \u001b[39m\u001b[32mIn[20]\u001b[39m\u001b[32m, line 22\u001b[39m\n\u001b[32m     18\u001b[39m           \u001b[38;5;28msuper\u001b[39m.buy()        \u001b[38;5;66;03m# way to access parent ka method       \u001b[39;00m\n\u001b[32m     20\u001b[39m s=smartphone(\u001b[32m20000\u001b[39m,\u001b[33m'\u001b[39m\u001b[33msamsung\u001b[39m\u001b[33m'\u001b[39m,\u001b[32m13\u001b[39m)\n\u001b[32m---> \u001b[39m\u001b[32m22\u001b[39m \u001b[43ms\u001b[49m\u001b[43m.\u001b[49m\u001b[43mbuy\u001b[49m\u001b[43m(\u001b[49m\u001b[43m)\u001b[49m\n",
      "\u001b[36mCell\u001b[39m\u001b[36m \u001b[39m\u001b[32mIn[20]\u001b[39m\u001b[32m, line 18\u001b[39m, in \u001b[36msmartphone.buy\u001b[39m\u001b[34m(self)\u001b[39m\n\u001b[32m     16\u001b[39m \u001b[38;5;28mprint\u001b[39m(\u001b[33m\"\u001b[39m\u001b[33mbuying a smartphone\u001b[39m\u001b[33m\"\u001b[39m)\n\u001b[32m     17\u001b[39m \u001b[38;5;66;03m#syntax to call parent ka buy method \u001b[39;00m\n\u001b[32m---> \u001b[39m\u001b[32m18\u001b[39m \u001b[38;5;28;43msuper\u001b[39;49m\u001b[43m.\u001b[49m\u001b[43mbuy\u001b[49m()\n",
      "\u001b[31mAttributeError\u001b[39m: type object 'super' has no attribute 'buy'"
     ]
    }
   ],
   "source": [
    "class phone:\n",
    "    def __init__(self,price,brand,camera):\n",
    "          print(\"inside the phone constructor \")\n",
    "\n",
    "          self.__price = price\n",
    "          self.brand = brand \n",
    "          self.camera = camera\n",
    "\n",
    "\n",
    "\n",
    "    def buy(self):\n",
    "         print(\"buying a phone\")\n",
    "\n",
    "class smartphone(phone):\n",
    "     def buy(self):\n",
    "          print(\"buying a smartphone\")\n",
    "          #syntax to call parent ka buy method \n",
    "          super.buy()        # way to access parent ka method       \n",
    "\n",
    "s=smartphone(20000,'samsung',13)\n",
    "\n",
    "s.buy()"
   ]
  },
  {
   "cell_type": "code",
   "execution_count": 21,
   "id": "50836da2",
   "metadata": {},
   "outputs": [
    {
     "name": "stdout",
     "output_type": "stream",
     "text": [
      "inside smartphone constructor\n",
      "inside phone constructor\n",
      "inside smartphone constructor \n",
      "xinpin\n",
      "china\n"
     ]
    }
   ],
   "source": [
    "#super -->> constructor \n",
    "\n",
    "class phone:\n",
    "    def __init__(self,price , brand , camera ):\n",
    "        print(\"inside phone constructor\")\n",
    "\n",
    "        self.__price = price \n",
    "        self.brand = brand \n",
    "        self.camera = camera \n",
    "\n",
    "\n",
    "class smartphone(phone):\n",
    "    def __init__(self,price,brand , camera ,os , ram):\n",
    "        print('inside smartphone constructor')\n",
    "        super().__init__(price , brand , camera)\n",
    "        self.os = os \n",
    "        self.ram = ram \n",
    "        print(\"inside smartphone constructor \")\n",
    "\n",
    "\n",
    "s=smartphone(2000,'china',12 , 'xinpin',3)\n",
    "\n",
    "print(s.os)\n",
    "print(s.brand)"
   ]
  },
  {
   "cell_type": "markdown",
   "id": "d32f7c44",
   "metadata": {},
   "source": [
    "super ko class k inside hi use krte h humesha and usse child class m  hi krte h \n",
    "\n",
    "super cannot access variables it can access methods "
   ]
  },
  {
   "cell_type": "markdown",
   "id": "2cdb0cf0",
   "metadata": {},
   "source": [
    "Inheritance in summary \n",
    "\n",
    "\n",
    "a class can inherit from another class\n",
    "\n",
    "inheritance enhances code reusability\n",
    "\n",
    "constructor , attributes , methods get inherited to the child class \n",
    "\n",
    "\n",
    "the parent has no acess to the child class \n",
    "\n",
    "private properties of parent are not accessible direclty in child class \n",
    "\n",
    "\n",
    "child class can override the attributes or methods . this is called method overriding \n",
    "\n",
    "super() is an inbuilt function which is used to invoke the parent class method and constructor "
   ]
  },
  {
   "cell_type": "code",
   "execution_count": 22,
   "id": "67782bb8",
   "metadata": {},
   "outputs": [
    {
     "name": "stdout",
     "output_type": "stream",
     "text": [
      "100\n",
      "200\n"
     ]
    }
   ],
   "source": [
    "class parent:\n",
    "    def __init__(self,num):\n",
    "        self.__num=num\n",
    "\n",
    "    def get_num(self):\n",
    "        return self.__num\n",
    "\n",
    "\n",
    "class child(parent):\n",
    "    def __init__(self,num,val):\n",
    "        super().__init__(num) \n",
    "        self.__val=val\n",
    "    \n",
    "    def get_val(self):\n",
    "        return self.__val\n",
    "    \n",
    "\n",
    "son=child(100,200)\n",
    "print(son.get_num())\n",
    "print(son.get_val())\n",
    "\n",
    "\n",
    "          "
   ]
  },
  {
   "cell_type": "markdown",
   "id": "efa8c669",
   "metadata": {},
   "source": [
    "TYPES OF INHERITANCE \n",
    "\n",
    "> single inheritance \n",
    "\n",
    ">multilevel inheritance \n",
    "\n",
    "\n",
    ">hierarchial inheritance\n",
    "\n",
    ">multiple inheritance \n",
    "\n",
    ">hybrid inheritance \n"
   ]
  },
  {
   "cell_type": "code",
   "execution_count": 24,
   "id": "d827c7ff",
   "metadata": {},
   "outputs": [
    {
     "name": "stdout",
     "output_type": "stream",
     "text": [
      "inside phone costructor\n",
      "buying a phone\n"
     ]
    }
   ],
   "source": [
    "#single inheritance \n",
    "\n",
    "class phone:\n",
    "    def __init__(self,price , brand , camera ):\n",
    "        print(\"inside phone costructor\")\n",
    "        self.__price = price \n",
    "        self.brand = brand \n",
    "        self.camera = camera \n",
    "\n",
    "\n",
    "    def buy(self):\n",
    "        print(\"buying a phone\")\n",
    "\n",
    "class smartphone(phone):\n",
    "    pass\n",
    "\n",
    "\n",
    "smartphone(1000,'vivo',50).buy()"
   ]
  },
  {
   "cell_type": "code",
   "execution_count": 25,
   "id": "86725fca",
   "metadata": {},
   "outputs": [
    {
     "name": "stdout",
     "output_type": "stream",
     "text": [
      "inside phone constructor\n",
      "buying a phone\n",
      "product customer review\n"
     ]
    }
   ],
   "source": [
    "#multilevel inheritance\n",
    "class product:\n",
    "    def review(self):\n",
    "        print(\"product customer review\")\n",
    "\n",
    "\n",
    "class phone(product):\n",
    "    def __init__(self,price , brand ,camera):\n",
    "        print(\"inside phone constructor\")\n",
    "\n",
    "        self.__price = price\n",
    "        self.brand = brand \n",
    "        self.camera = camera\n",
    "\n",
    "    def buy(self):\n",
    "        print(\"buying a phone\")    \n",
    "\n",
    "class smartphone(phone):\n",
    "    pass\n",
    "\n",
    "\n",
    "s=smartphone(20000,'vivo',12)\n",
    "s.buy()\n",
    "s.review()"
   ]
  },
  {
   "cell_type": "code",
   "execution_count": 27,
   "id": "fc514400",
   "metadata": {},
   "outputs": [
    {
     "name": "stdout",
     "output_type": "stream",
     "text": [
      "inside phone constructor\n",
      "inside phone constructor\n",
      "<__main__.smartphone object at 0x00000231C82B92B0> <__main__.featurephone object at 0x00000231C7D18560>\n",
      "buying a phone\n",
      "product customer review\n"
     ]
    }
   ],
   "source": [
    "#hierarchical \n",
    "class product:\n",
    "    def review(self):\n",
    "        print(\"product customer review\")\n",
    "\n",
    "\n",
    "class phone(product):\n",
    "    def __init__(self,price , brand ,camera):\n",
    "        print(\"inside phone constructor\")\n",
    "\n",
    "        self.__price = price\n",
    "        self.brand = brand \n",
    "        self.camera = camera\n",
    "\n",
    "    def buy(self):\n",
    "        print(\"buying a phone\")    \n",
    "\n",
    "class smartphone(phone):\n",
    "    pass\n",
    "\n",
    "class featurephone(phone):\n",
    "    pass\n",
    "\n",
    "\n",
    "s=smartphone(20000,'vivo',12)\n",
    "s1=featurephone(10000,'google',12)\n",
    "print(s,s1)\n",
    "s.buy()\n",
    "s.review()\n"
   ]
  },
  {
   "cell_type": "code",
   "execution_count": 28,
   "id": "8055be83",
   "metadata": {},
   "outputs": [
    {
     "name": "stdout",
     "output_type": "stream",
     "text": [
      "buying a phone \n",
      "coustumer review \n",
      "90000 pixel8 100\n"
     ]
    }
   ],
   "source": [
    "#Multiple\n",
    " \n",
    "\n",
    "class phone :\n",
    "    def __init__(self,price ,brand ,camera ):\n",
    "        self.price=price \n",
    "        self.brand = brand \n",
    "        self.camera = camera\n",
    "\n",
    "    def buy(self):\n",
    "        print(\"buying a phone \")\n",
    "\n",
    "class product:\n",
    "    def review(self):\n",
    "        print(\"coustumer review \")\n",
    "\n",
    "\n",
    "class smartphone(phone,product):\n",
    "    pass\n",
    "\n",
    "\n",
    "s=smartphone(90000,'pixel8',100)\n",
    "s.buy()\n",
    "s.review()\n",
    "print(s.price,s.brand , s.camera)\n"
   ]
  },
  {
   "cell_type": "code",
   "execution_count": null,
   "id": "b5842fc4",
   "metadata": {},
   "outputs": [
    {
     "name": "stdout",
     "output_type": "stream",
     "text": [
      "games are love \n",
      "buying a laptop\n"
     ]
    }
   ],
   "source": [
    "#GOOD PROBLEM\n",
    "class phone:\n",
    "    def __init__(self,price , brand , camera):\n",
    "        self.price = price \n",
    "        self.brand = brand \n",
    "        self.camera = camera\n",
    "\n",
    "\n",
    "    def buy(self):\n",
    "        print(\"buying a phone\")\n",
    "\n",
    "class laptop:\n",
    "    def __init__(self,price , brand ,graphics):\n",
    "        self.price=price \n",
    "        self.brand = brand\n",
    "        self.graphics =graphics \n",
    "\n",
    "    def buy(self):\n",
    "            print(\"buying a laptop\")\n",
    "\n",
    "class games(laptop , phone):  #MRO-method resolution order \n",
    "    print(\"games are love \")\n",
    "    def __init__(self, price,graphics):\n",
    "        self.price = price \n",
    "        self.graphics=graphics \n",
    "\n",
    "\n",
    "\n",
    "\n",
    "g = games(1000,2050)\n",
    "g.buy()               #1st parent ki jadda sunnega isliye laaptop"
   ]
  },
  {
   "cell_type": "code",
   "execution_count": 34,
   "id": "bc5a9c25",
   "metadata": {},
   "outputs": [
    {
     "name": "stdout",
     "output_type": "stream",
     "text": [
      "70\n"
     ]
    }
   ],
   "source": [
    "class a :\n",
    "     def m1(self):\n",
    "          return 20\n",
    "\n",
    "class b(a):\n",
    "    def m1(self):\n",
    "          return 30\n",
    "    \n",
    "    def m2(self):\n",
    "     return 40\n",
    "\n",
    "class c(b):\n",
    "     def m2(self):\n",
    "          return 20    \n",
    "\n",
    "obj1 = a()\n",
    "obj2 = b()\n",
    "obj3 = c()\n",
    "print(obj1.m1( ) + obj3.m1() + obj3.m2())          "
   ]
  },
  {
   "cell_type": "code",
   "execution_count": null,
   "id": "446a5b3b",
   "metadata": {},
   "outputs": [
    {
     "ename": "RecursionError",
     "evalue": "maximum recursion depth exceeded",
     "output_type": "error",
     "traceback": [
      "\u001b[31m---------------------------------------------------------------------------\u001b[39m",
      "\u001b[31mRecursionError\u001b[39m                            Traceback (most recent call last)",
      "\u001b[36mCell\u001b[39m\u001b[36m \u001b[39m\u001b[32mIn[35]\u001b[39m\u001b[32m, line 21\u001b[39m\n\u001b[32m     16\u001b[39m         \u001b[38;5;28;01mreturn\u001b[39;00m val\n\u001b[32m     19\u001b[39m obj = c()\n\u001b[32m---> \u001b[39m\u001b[32m21\u001b[39m \u001b[38;5;28mprint\u001b[39m(\u001b[43mobj\u001b[49m\u001b[43m.\u001b[49m\u001b[43mm1\u001b[49m\u001b[43m(\u001b[49m\u001b[43m)\u001b[49m)\n",
      "\u001b[36mCell\u001b[39m\u001b[36m \u001b[39m\u001b[32mIn[35]\u001b[39m\u001b[32m, line 15\u001b[39m, in \u001b[36mc.m1\u001b[39m\u001b[34m(self)\u001b[39m\n\u001b[32m     14\u001b[39m \u001b[38;5;28;01mdef\u001b[39;00m\u001b[38;5;250m \u001b[39m\u001b[34mm1\u001b[39m(\u001b[38;5;28mself\u001b[39m):\n\u001b[32m---> \u001b[39m\u001b[32m15\u001b[39m     val = \u001b[38;5;28;43mself\u001b[39;49m\u001b[43m.\u001b[49m\u001b[43mm1\u001b[49m\u001b[43m(\u001b[49m\u001b[43m)\u001b[49m+\u001b[32m20\u001b[39m\n\u001b[32m     16\u001b[39m     \u001b[38;5;28;01mreturn\u001b[39;00m val\n",
      "\u001b[36mCell\u001b[39m\u001b[36m \u001b[39m\u001b[32mIn[35]\u001b[39m\u001b[32m, line 15\u001b[39m, in \u001b[36mc.m1\u001b[39m\u001b[34m(self)\u001b[39m\n\u001b[32m     14\u001b[39m \u001b[38;5;28;01mdef\u001b[39;00m\u001b[38;5;250m \u001b[39m\u001b[34mm1\u001b[39m(\u001b[38;5;28mself\u001b[39m):\n\u001b[32m---> \u001b[39m\u001b[32m15\u001b[39m     val = \u001b[38;5;28;43mself\u001b[39;49m\u001b[43m.\u001b[49m\u001b[43mm1\u001b[49m\u001b[43m(\u001b[49m\u001b[43m)\u001b[49m+\u001b[32m20\u001b[39m\n\u001b[32m     16\u001b[39m     \u001b[38;5;28;01mreturn\u001b[39;00m val\n",
      "    \u001b[31m[... skipping similar frames: c.m1 at line 15 (2974 times)]\u001b[39m\n",
      "\u001b[36mCell\u001b[39m\u001b[36m \u001b[39m\u001b[32mIn[35]\u001b[39m\u001b[32m, line 15\u001b[39m, in \u001b[36mc.m1\u001b[39m\u001b[34m(self)\u001b[39m\n\u001b[32m     14\u001b[39m \u001b[38;5;28;01mdef\u001b[39;00m\u001b[38;5;250m \u001b[39m\u001b[34mm1\u001b[39m(\u001b[38;5;28mself\u001b[39m):\n\u001b[32m---> \u001b[39m\u001b[32m15\u001b[39m     val = \u001b[38;5;28;43mself\u001b[39;49m\u001b[43m.\u001b[49m\u001b[43mm1\u001b[49m\u001b[43m(\u001b[49m\u001b[43m)\u001b[49m+\u001b[32m20\u001b[39m\n\u001b[32m     16\u001b[39m     \u001b[38;5;28;01mreturn\u001b[39;00m val\n",
      "\u001b[31mRecursionError\u001b[39m: maximum recursion depth exceeded"
     ]
    }
   ],
   "source": [
    "class a :\n",
    "\n",
    "    def m1(self):\n",
    "        return 20\n",
    "    \n",
    "class b(a):\n",
    "    def m1(self):\n",
    "        val = super().m1+30\n",
    "        return val\n",
    "\n",
    "\n",
    "class c(b):\n",
    "\n",
    "    def m1(self):\n",
    "        val = self.m1()+20\n",
    "        return val\n",
    "    \n",
    "\n",
    "obj = c()\n",
    "\n",
    "print(obj.m1())\n",
    "\n",
    "#explanation -->> khudi ko call krte rhoge \n",
    "            #    method overriding parent kbhi call nhi hoga \n"
   ]
  },
  {
   "cell_type": "markdown",
   "id": "36b71795",
   "metadata": {},
   "source": [
    "POLYMORPHISM\n",
    "\n",
    "\n",
    "same chiz alag alag situation m alag trh se kaam "
   ]
  },
  {
   "cell_type": "markdown",
   "id": "bad989a4",
   "metadata": {},
   "source": [
    "Method overriding\n",
    "\n",
    "\n",
    "method overloading \n",
    "\n",
    "operator overloading "
   ]
  },
  {
   "cell_type": "code",
   "execution_count": null,
   "id": "d75e8b93",
   "metadata": {},
   "outputs": [
    {
     "ename": "TypeError",
     "evalue": "shape.area() missing 1 required positional argument: 'b'",
     "output_type": "error",
     "traceback": [
      "\u001b[31m---------------------------------------------------------------------------\u001b[39m",
      "\u001b[31mTypeError\u001b[39m                                 Traceback (most recent call last)",
      "\u001b[36mCell\u001b[39m\u001b[36m \u001b[39m\u001b[32mIn[39]\u001b[39m\u001b[32m, line 17\u001b[39m\n\u001b[32m     11\u001b[39m     \u001b[38;5;66;03m#use -->> code is more clean and enhances readability\u001b[39;00m\n\u001b[32m     15\u001b[39m s = shape()\n\u001b[32m---> \u001b[39m\u001b[32m17\u001b[39m \u001b[43ms\u001b[49m\u001b[43m.\u001b[49m\u001b[43marea\u001b[49m\u001b[43m(\u001b[49m\u001b[32;43m2\u001b[39;49m\u001b[43m)\u001b[49m\n\u001b[32m     19\u001b[39m \u001b[38;5;66;03m#s.area(2,3)\u001b[39;00m\n",
      "\u001b[31mTypeError\u001b[39m: shape.area() missing 1 required positional argument: 'b'"
     ]
    }
   ],
   "source": [
    "#method overriding \n",
    "\n",
    "class shape :\n",
    "\n",
    "    def area (self,radius ):\n",
    "        return 3.14*(radius**2)\n",
    "    \n",
    "    def area(self,l,b):\n",
    "        return l*b\n",
    "    \n",
    "    #use -->> code is more clean and enhances readability\n",
    "\n",
    "\n",
    "\n",
    "s = shape()\n",
    "\n",
    "s.area(2)\n",
    "\n",
    "s.area(2,3)\n",
    "     \n",
    "#nahi chalega "
   ]
  },
  {
   "cell_type": "code",
   "execution_count": 41,
   "id": "c98739b1",
   "metadata": {},
   "outputs": [
    {
     "data": {
      "text/plain": [
       "6"
      ]
     },
     "execution_count": 41,
     "metadata": {},
     "output_type": "execute_result"
    }
   ],
   "source": [
    "class shape :\n",
    "    def area(self,a , b=0):\n",
    "        if b==0:\n",
    "            return 3.14*a*a\n",
    "        else :\n",
    "            return a*b\n",
    "        \n",
    "\n",
    "s=shape()\n",
    "\n",
    "s.area(2)\n",
    "\n",
    "s.area(2,3)"
   ]
  }
 ],
 "metadata": {
  "kernelspec": {
   "display_name": ".venv",
   "language": "python",
   "name": "python3"
  },
  "language_info": {
   "codemirror_mode": {
    "name": "ipython",
    "version": 3
   },
   "file_extension": ".py",
   "mimetype": "text/x-python",
   "name": "python",
   "nbconvert_exporter": "python",
   "pygments_lexer": "ipython3",
   "version": "3.12.7"
  }
 },
 "nbformat": 4,
 "nbformat_minor": 5
}
