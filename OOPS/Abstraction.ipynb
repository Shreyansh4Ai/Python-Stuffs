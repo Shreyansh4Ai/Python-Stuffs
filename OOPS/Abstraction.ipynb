{
 "cells": [
  {
   "cell_type": "markdown",
   "id": "af661e0c",
   "metadata": {},
   "source": [
    "<h1>Abstraction</h1>\n",
    "\n",
    "chuppa hua ya hidden "
   ]
  },
  {
   "cell_type": "code",
   "execution_count": 14,
   "id": "e2ac6d2a",
   "metadata": {},
   "outputs": [],
   "source": [
    "from abc import ABC,abstractmethod  ##abc == abstract class methods \n",
    "\n",
    "class bankapp(ABC):\n",
    "    def database(self):\n",
    "        print('connected to database')\n",
    "\n",
    "    \n",
    "    @abstractmethod #koi bhi method abstract method bn jata h (iske andar koi code nhi hota h )\n",
    "    def security (self):\n",
    "        pass\n",
    "    \n",
    "    @abstractmethod\n",
    "    def display(self):\n",
    "        print('display')"
   ]
  },
  {
   "cell_type": "code",
   "execution_count": 17,
   "id": "6c04bcd5",
   "metadata": {},
   "outputs": [],
   "source": [
    "class mobileapp(bankapp):\n",
    "\n",
    "    def mobile_login(self):\n",
    "        print(\"login into mobile banking \")\n",
    "\n",
    "    def security(self):\n",
    "        print('mobile security') \n",
    "\n",
    "    def display(self):\n",
    "        print('display')       \n"
   ]
  },
  {
   "cell_type": "code",
   "execution_count": 18,
   "id": "526b3cb5",
   "metadata": {},
   "outputs": [
    {
     "name": "stdout",
     "output_type": "stream",
     "text": [
      "connected to database\n"
     ]
    }
   ],
   "source": [
    "mob = mobileapp()\n",
    "mob.database()"
   ]
  },
  {
   "cell_type": "markdown",
   "id": "56ab6456",
   "metadata": {},
   "source": [
    "in crux it s kindda do this to get this thing \n",
    "and one of the least used concept of oop"
   ]
  }
 ],
 "metadata": {
  "kernelspec": {
   "display_name": ".venv",
   "language": "python",
   "name": "python3"
  },
  "language_info": {
   "codemirror_mode": {
    "name": "ipython",
    "version": 3
   },
   "file_extension": ".py",
   "mimetype": "text/x-python",
   "name": "python",
   "nbconvert_exporter": "python",
   "pygments_lexer": "ipython3",
   "version": "3.12.7"
  }
 },
 "nbformat": 4,
 "nbformat_minor": 5
}
