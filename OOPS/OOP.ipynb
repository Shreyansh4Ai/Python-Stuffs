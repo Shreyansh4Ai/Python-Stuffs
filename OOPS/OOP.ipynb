{
 "cells": [
  {
   "cell_type": "markdown",
   "id": "f73719e2",
   "metadata": {},
   "source": [
    "<h1>GENERALITY TO SPECIFICITY</h1>\n"
   ]
  },
  {
   "cell_type": "markdown",
   "id": "ccb7d9c0",
   "metadata": {},
   "source": [
    "CLASSES AND OBJECTS"
   ]
  },
  {
   "cell_type": "markdown",
   "id": "26a4ebc8",
   "metadata": {},
   "source": [
    "class is a blueprint to build objects \n",
    ":- data or property\n",
    ":- function or behavior\n",
    "\n",
    "\n",
    "object is an instance of class "
   ]
  },
  {
   "cell_type": "markdown",
   "id": "1df67429",
   "metadata": {},
   "source": [
    "pascal case \n",
    "example -- >> HelloWorld\n",
    "            "
   ]
  },
  {
   "cell_type": "code",
   "execution_count": 4,
   "id": "a2bcca49",
   "metadata": {},
   "outputs": [
    {
     "name": "stdout",
     "output_type": "stream",
     "text": [
      "Aukaat h be \n",
      "Aukaat h be \n",
      "Pin created successfully\n"
     ]
    }
   ],
   "source": [
    "class ATM:\n",
    "    def __init__(self):  # constructor\n",
    "        self.pin = ''\n",
    "        self.balance = 0\n",
    "        self.menu()\n",
    "\n",
    "    def menu(self):\n",
    "        user_input = input(\"\"\"\n",
    "Hi how can I help you?\n",
    "1. press 1 to create pin \n",
    "2. press 2 to change pin \n",
    "3. press 3 to check balance\n",
    "4. press 4 to withdraw \n",
    "5. anything else to exit \n",
    "\"\"\")\n",
    "        if user_input == '1':\n",
    "            # create pin\n",
    "            self.create_pin()\n",
    "        elif user_input == '2':\n",
    "            # change pin\n",
    "            self.change_pin()\n",
    "        elif user_input == '3':\n",
    "            # check balance\n",
    "            self.check_balance()\n",
    "            pass\n",
    "        elif user_input == '4':\n",
    "            self.withdraw()\n",
    "            pass\n",
    "        else:\n",
    "            # anything else exit\n",
    "            pass\n",
    "\n",
    "    def create_pin(self):\n",
    "        user_pin = input('enter your pin')\n",
    "        self.pin = user_pin\n",
    "\n",
    "        user_balance = int(input(\"enter balance\"))\n",
    "        self.balance = user_balance\n",
    "\n",
    "        print(\"Pin created successfully\")\n",
    "        self.menu()\n",
    "\n",
    "    def change_pin(self):\n",
    "        old_pin = input('enter old pin')\n",
    "\n",
    "        if old_pin == self.pin:\n",
    "            #  let him change pin\n",
    "            new_pin = input('enter new pin')\n",
    "            self.pin = new_pin\n",
    "            print('pin change success')\n",
    "            self.menu()\n",
    "        else:\n",
    "            print(\"nai krne dunga\") \n",
    "            self.menu()\n",
    "\n",
    "    def check_balance(self):\n",
    "        user_pin=input('enter pin')\n",
    "        if user_pin == self.pin:\n",
    "            print('your balance is',self.balance)\n",
    "        else:\n",
    "            print(\"khali h gareeb\")\n",
    "    \n",
    "    def withdraw(self):\n",
    "        user_pin=input(\"enter the pin\")\n",
    "\n",
    "        if user_pin ==self.pin:\n",
    "            amount=int(input('enter the amount'))\n",
    "            if amount <=self.balance:\n",
    "                self.balamce=self.balance - amount\n",
    "                print(\"remaining balance :\",self.balance)\n",
    "        else:\n",
    "            print(\"Aukaat h be \")\n",
    "   \n",
    "            self.menu()\n",
    "obj = ATM()\n",
    "\n"
   ]
  },
  {
   "cell_type": "markdown",
   "id": "f5261523",
   "metadata": {},
   "source": [
    "function and method \n",
    "function we know that previously studied\n",
    "\n",
    "\n",
    "\n",
    "\n",
    "method-->> function inside the class "
   ]
  },
  {
   "cell_type": "code",
   "execution_count": null,
   "id": "09bb579f",
   "metadata": {},
   "outputs": [],
   "source": [
    "l=[1,2,3]\n",
    "len(l)  # len is a function cuz its outside the list class\n",
    "l.append(0) # append is a method because its inside the class "
   ]
  },
  {
   "cell_type": "markdown",
   "id": "03df7467",
   "metadata": {},
   "source": [
    "<h1> Magic methods </h1>\n",
    "AKA DUNDER METHODS"
   ]
  },
  {
   "cell_type": "markdown",
   "id": "a04179f7",
   "metadata": {},
   "source": [
    "magic methodds are special methods and has its own sumper power \n",
    "__name__ this is a magic method and constructor is also a magic method \n",
    "\n",
    "superpower-> you dont need to call them they are self active automatically triggers when object is made "
   ]
  },
  {
   "cell_type": "markdown",
   "id": "5e8bcdec",
   "metadata": {},
   "source": [
    "constructor ka true use h ki hum usse configuration related code likhe jiska control user k pass  nhi h "
   ]
  },
  {
   "cell_type": "markdown",
   "id": "175c3db7",
   "metadata": {},
   "source": [
    "SELF \n",
    "so self is nothing but an object inside the class which helps in communication within the class functions  inside the class and acts a parameter whenever the class function is called outside the class \n",
    "\n",
    "eg, obj.withdraw() by default it passes a parameter object that is recieved by the swlf object ."
   ]
  },
  {
   "cell_type": "code",
   "execution_count": 9,
   "id": "54422874",
   "metadata": {},
   "outputs": [],
   "source": [
    "class fraction:\n",
    "    def __init__(self,x,y): # parameterised \n",
    "        self.num = x \n",
    "        self.den =y \n",
    "\n",
    "    def __str__(self):\n",
    "        return '{}/{}'.format(self.num,self.den)\n",
    "    \n",
    "    def __add__(self,other):\n",
    "        new_num=self.num*other.den + other.num*self.den\n",
    "        new_den=self.den*other.den\n",
    "        return'{}/{}'.format(new_num,new_den)\n"
   ]
  },
  {
   "cell_type": "code",
   "execution_count": 10,
   "id": "07147850",
   "metadata": {},
   "outputs": [
    {
     "name": "stdout",
     "output_type": "stream",
     "text": [
      "3/4\n",
      "1/2\n",
      "10/8\n"
     ]
    }
   ],
   "source": [
    "fr1=fraction(3,4)  \n",
    "print(fr1)    \n",
    "fr2=fraction(1,2)\n",
    "print(fr2)    \n",
    "\n",
    "print(fr1 + fr2)"
   ]
  }
 ],
 "metadata": {
  "kernelspec": {
   "display_name": ".venv",
   "language": "python",
   "name": "python3"
  },
  "language_info": {
   "codemirror_mode": {
    "name": "ipython",
    "version": 3
   },
   "file_extension": ".py",
   "mimetype": "text/x-python",
   "name": "python",
   "nbconvert_exporter": "python",
   "pygments_lexer": "ipython3",
   "version": "3.12.7"
  }
 },
 "nbformat": 4,
 "nbformat_minor": 5
}
