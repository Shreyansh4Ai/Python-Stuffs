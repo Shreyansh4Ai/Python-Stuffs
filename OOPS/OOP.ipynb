{
 "cells": [
  {
   "cell_type": "markdown",
   "id": "f73719e2",
   "metadata": {},
   "source": [
    "<h1>GENERALITY TO SPECIFICITY</h1>\n"
   ]
  },
  {
   "cell_type": "markdown",
   "id": "ccb7d9c0",
   "metadata": {},
   "source": [
    "CLASSES AND OBJECTS"
   ]
  },
  {
   "cell_type": "markdown",
   "id": "26a4ebc8",
   "metadata": {},
   "source": [
    "class is a blueprint to build objects \n",
    ":- data or property\n",
    ":- function or behavior\n",
    "\n",
    "\n",
    "object is an instance of class "
   ]
  },
  {
   "cell_type": "markdown",
   "id": "1df67429",
   "metadata": {},
   "source": [
    "pascal case \n",
    "example -- >> HelloWorld\n",
    "            "
   ]
  },
  {
   "cell_type": "code",
   "execution_count": 4,
   "id": "a2bcca49",
   "metadata": {},
   "outputs": [
    {
     "name": "stdout",
     "output_type": "stream",
     "text": [
      "Aukaat h be \n",
      "Aukaat h be \n",
      "Pin created successfully\n"
     ]
    }
   ],
   "source": [
    "class ATM:\n",
    "    def __init__(self):  # constructor\n",
    "        self.pin = ''\n",
    "        self.balance = 0\n",
    "        self.menu()\n",
    "\n",
    "    def menu(self):\n",
    "        user_input = input(\"\"\"\n",
    "Hi how can I help you?\n",
    "1. press 1 to create pin \n",
    "2. press 2 to change pin \n",
    "3. press 3 to check balance\n",
    "4. press 4 to withdraw \n",
    "5. anything else to exit \n",
    "\"\"\")\n",
    "        if user_input == '1':\n",
    "            # create pin\n",
    "            self.create_pin()\n",
    "        elif user_input == '2':\n",
    "            # change pin\n",
    "            self.change_pin()\n",
    "        elif user_input == '3':\n",
    "            # check balance\n",
    "            self.check_balance()\n",
    "            pass\n",
    "        elif user_input == '4':\n",
    "            self.withdraw()\n",
    "            pass\n",
    "        else:\n",
    "            # anything else exit\n",
    "            pass\n",
    "\n",
    "    def create_pin(self):\n",
    "        user_pin = input('enter your pin')\n",
    "        self.pin = user_pin\n",
    "\n",
    "        user_balance = int(input(\"enter balance\"))\n",
    "        self.balance = user_balance\n",
    "\n",
    "        print(\"Pin created successfully\")\n",
    "        self.menu()\n",
    "\n",
    "    def change_pin(self):\n",
    "        old_pin = input('enter old pin')\n",
    "\n",
    "        if old_pin == self.pin:\n",
    "            #  let him change pin\n",
    "            new_pin = input('enter new pin')\n",
    "            self.pin = new_pin\n",
    "            print('pin change success')\n",
    "            self.menu()\n",
    "        else:\n",
    "            print(\"nai krne dunga\") \n",
    "            self.menu()\n",
    "\n",
    "    def check_balance(self):\n",
    "        user_pin=input('enter pin')\n",
    "        if user_pin == self.pin:\n",
    "            print('your balance is',self.balance)\n",
    "        else:\n",
    "            print(\"khali h gareeb\")\n",
    "    \n",
    "    def withdraw(self):\n",
    "        user_pin=input(\"enter the pin\")\n",
    "\n",
    "        if user_pin ==self.pin:\n",
    "            amount=int(input('enter the amount'))\n",
    "            if amount <=self.balance:\n",
    "                self.balamce=self.balance - amount\n",
    "                print(\"remaining balance :\",self.balance)\n",
    "        else:\n",
    "            print(\"Aukaat h be \")\n",
    "   \n",
    "            self.menu()\n",
    "obj = ATM()\n",
    "\n"
   ]
  },
  {
   "cell_type": "markdown",
   "id": "f5261523",
   "metadata": {},
   "source": [
    "function and method \n",
    "function we know that previously studied\n",
    "\n",
    "\n",
    "\n",
    "\n",
    "method-->> function inside the class "
   ]
  },
  {
   "cell_type": "code",
   "execution_count": null,
   "id": "09bb579f",
   "metadata": {},
   "outputs": [],
   "source": [
    "l=[1,2,3]\n",
    "len(l)  # len is a function cuz its outside the list class\n",
    "l.append(0) # append is a method because its inside the class "
   ]
  },
  {
   "cell_type": "markdown",
   "id": "03df7467",
   "metadata": {},
   "source": [
    "<h1> Magic methods </h1>\n",
    "AKA DUNDER METHODS"
   ]
  },
  {
   "cell_type": "markdown",
   "id": "a04179f7",
   "metadata": {},
   "source": [
    "magic methodds are special methods and has its own sumper power \n",
    "__name__ this is a magic method and constructor is also a magic method \n",
    "\n",
    "superpower-> you dont need to call them they are self active automatically triggers when object is made "
   ]
  },
  {
   "cell_type": "markdown",
   "id": "5e8bcdec",
   "metadata": {},
   "source": [
    "constructor ka true use h ki hum usse configuration related code likhe jiska control user k pass  nhi h "
   ]
  },
  {
   "cell_type": "markdown",
   "id": "175c3db7",
   "metadata": {},
   "source": [
    "SELF \n",
    "so self is nothing but an object inside the class which helps in communication within the class functions  inside the class and acts a parameter whenever the class function is called outside the class \n",
    "\n",
    "eg, obj.withdraw() by default it passes a parameter object that is recieved by the swlf object ."
   ]
  },
  {
   "cell_type": "code",
   "execution_count": 8,
   "id": "54422874",
   "metadata": {},
   "outputs": [],
   "source": [
    "class fraction:\n",
    "    def __init__(self,x,y): # parameterised \n",
    "        self.num = x \n",
    "        self.den =y \n",
    "\n",
    "    def __str__(self):  #magic methods \n",
    "        return '{}/{}'.format(self.num,self.den)\n",
    "    \n",
    "    def __add__(self,other):\n",
    "        new_num=self.num*other.den + other.num*self.den\n",
    "        new_den=self.den*other.den\n",
    "        return'{}/{}'.format(new_num,new_den)\n",
    "    \n",
    "    def __sub__(self,other):\n",
    "        new_num=self.num*other.den - other.num*self.den\n",
    "        new_den=self.den*other.den\n",
    "        return'{}/{}'.format(new_num,new_den)\n",
    "    \n",
    "    def __mul__(self,other):\n",
    "        new_num=self.num*other.num\n",
    "        new_den=self.den*other.den\n",
    "        return '{}/{}'.format(new_num,new_den)\n",
    "    \n",
    "\n",
    "    def __truediv__(self,other):\n",
    "        new_num=self.num*other.den\n",
    "        new_den=self.den*other.num\n",
    "        return '{}/{}'.format(new_num,new_den) \n",
    "    \n",
    "    #made by me \n",
    "    def convert_to_decimal(self):\n",
    "         return self.num/self.den\n",
    "         \n"
   ]
  },
  {
   "cell_type": "code",
   "execution_count": 9,
   "id": "07147850",
   "metadata": {},
   "outputs": [
    {
     "name": "stdout",
     "output_type": "stream",
     "text": [
      "3/4\n",
      "1/2\n",
      "10/8\n",
      "2/8\n",
      "3/8\n",
      "6/4\n"
     ]
    },
    {
     "data": {
      "text/plain": [
       "0.75"
      ]
     },
     "execution_count": 9,
     "metadata": {},
     "output_type": "execute_result"
    }
   ],
   "source": [
    "fr1=fraction(3,4)  \n",
    "print(fr1)    \n",
    "fr2=fraction(1,2)\n",
    "print(fr2)    \n",
    "\n",
    "print(fr1 + fr2)\n",
    "\n",
    "print(fr1 - fr2)\n",
    "\n",
    "print(fr1 * fr2)\n",
    "\n",
    "print(fr1 / fr2)\n",
    "\n",
    "fr1.convert_to_decimal()\n"
   ]
  },
  {
   "cell_type": "markdown",
   "id": "47444a2c",
   "metadata": {},
   "source": [
    "Question\n"
   ]
  },
  {
   "cell_type": "code",
   "execution_count": null,
   "id": "def19af1",
   "metadata": {},
   "outputs": [],
   "source": [
    "class point:\n",
    "\n",
    "    def __init__(self,x,y): #parameterised\n",
    "        self.xcord = x \n",
    "        self.ycord = y\n",
    "\n",
    "    def __str__(self):\n",
    "        return '<{},{}>'.format(self.xcord,self.ycord)  \n",
    "\n",
    "    def euclidian_distance(self,other):\n",
    "        return((self.xcord - other.xcord)**2 + (self.ycord-other.ycord)**2)**0.5\n",
    "    \n",
    "    def distance_from_origin(self):\n",
    "        return self.euclidian_distance(point(0,0))  # galti prone dobara self nhi likhna h \n",
    "\n",
    "\n",
    "class line :\n",
    "    def __init__(self,a,b,c):\n",
    "        self.a=a\n",
    "        self.b=b\n",
    "        self.c=c\n",
    "\n",
    "    def __str__(self):\n",
    "        return '{}x + {}y + {} = 0'.format(self.a,self.b ,self.c)\n",
    "\n",
    "        \n",
    "    def point_on_line(line,point):\n",
    "        if line.a*point.xcord + line.b*point.ycord + line.c ==0 :\n",
    "            return \"lies on the line \"\n",
    "        else:\n",
    "            return \"does not lie in line \"\n",
    "\n",
    "\n",
    "    def shortest_distance(line,point):\n",
    "       return  abs(line.a*point.xcord + line.b*point.ycord +line.c) / (line.a**2 + line.b**2)\n",
    "\n",
    "# abs is a modulus function\n",
    "\n",
    "    \n",
    "\n",
    "\n"
   ]
  },
  {
   "cell_type": "code",
   "execution_count": 18,
   "id": "9f35396e",
   "metadata": {},
   "outputs": [
    {
     "name": "stdout",
     "output_type": "stream",
     "text": [
      "<0,0>\n",
      "<1,1>\n",
      "<1,1>\n",
      "1x + 1y + -2 = 0\n"
     ]
    },
    {
     "data": {
      "text/plain": [
       "0.0"
      ]
     },
     "execution_count": 18,
     "metadata": {},
     "output_type": "execute_result"
    }
   ],
   "source": [
    "p1=point(0,0)\n",
    "print(p1)\n",
    "\n",
    "p2=point(1,1)\n",
    "print(p2)\n",
    "\n",
    "p1.euclidian_distance(p2) #p1. h toh p1 khud ba khud chl dega\n",
    "\n",
    "p2.distance_from_origin() \n",
    "\n",
    "l1=line(1,1,-2)\n",
    "p3=point(1,1)\n",
    "print(p3)\n",
    "print(l1)\n",
    "l1.point_on_line(p1)\n",
    "\n",
    "l1.shortest_distance(p3)"
   ]
  },
  {
   "cell_type": "markdown",
   "id": "b06fda63",
   "metadata": {},
   "source": [
    "<h3> How objects access atteibutes</h3>"
   ]
  },
  {
   "cell_type": "code",
   "execution_count": 36,
   "id": "1c3e3d5f",
   "metadata": {},
   "outputs": [],
   "source": [
    "class person:\n",
    "    \n",
    "    def __init__(self,name ,nationality):\n",
    "        self.name=name\n",
    "        self.nationality = nationality\n",
    "       \n",
    "\n",
    "    def greet(self):\n",
    "        if (self.nationality =='india'):\n",
    "          return  print('namaste',self.name)\n",
    "        else:\n",
    "         return    print('hello',self.name)   \n",
    "    \n",
    "    \n",
    "\n",
    "\n",
    "\n",
    "\n"
   ]
  },
  {
   "cell_type": "code",
   "execution_count": 42,
   "id": "093f2def",
   "metadata": {},
   "outputs": [
    {
     "name": "stdout",
     "output_type": "stream",
     "text": [
      "india\n",
      "nik khan\n",
      "namaste tyler rake\n",
      "hello nik khan\n"
     ]
    }
   ],
   "source": [
    "#accessing the attributes \n",
    "\n",
    "p1=person('tyler rake','india')\n",
    "p2=person('nik khan','abu dhabi')\n",
    "\n",
    "print(p1.nationality)\n",
    "print(p2.name)\n",
    "\n",
    "p1.greet()\n",
    "p2.greet()"
   ]
  },
  {
   "cell_type": "code",
   "execution_count": null,
   "id": "e0d1f4cc",
   "metadata": {},
   "outputs": [
    {
     "name": "stdout",
     "output_type": "stream",
     "text": [
      "male\n"
     ]
    }
   ],
   "source": [
    "#trying to access non ecxisting attributee\n",
    "\n",
    "p1.gender ='male'  #class k bhar se attribute bna diya \n",
    "print(p1.gender)"
   ]
  },
  {
   "cell_type": "markdown",
   "id": "0fc7eec5",
   "metadata": {},
   "source": [
    "<h1>REFRENCE VARIABLE</h1>"
   ]
  },
  {
   "cell_type": "markdown",
   "id": "556b6ceb",
   "metadata": {},
   "source": [
    "reference variable holds the object \n",
    "\n",
    "\n",
    "we can create objects without reference variable aswell\n",
    "\n",
    "an object can have multiple reference variable \n",
    "\n",
    "\n",
    "\n",
    "assigning a new reference variable to an existing object does not create a new object "
   ]
  },
  {
   "cell_type": "code",
   "execution_count": 50,
   "id": "48c78d8a",
   "metadata": {},
   "outputs": [
    {
     "name": "stdout",
     "output_type": "stream",
     "text": [
      "1519977491120\n",
      "1519977491120\n",
      "baba yaga\n",
      "baba yaga\n",
      "baba tillu\n",
      "baba tillu\n"
     ]
    }
   ],
   "source": [
    "p= person('baba yaga','french')  #p is the <refernce variable> which has the adderss of object \n",
    "\n",
    "q = p       # this is valid \n",
    "\n",
    "#multiple reference \n",
    "print(id(p))      \n",
    "print(id(q))\n",
    " # both the adderss are exactly same cuz the are pointing to the same object \n",
    "\n",
    "\n",
    "print(p.name)\n",
    "print(q.name)\n",
    "\n",
    "q.name='baba tillu'\n",
    "print(q.name)\n",
    "\n",
    "print(p.name)\n",
    "\n"
   ]
  },
  {
   "cell_type": "code",
   "execution_count": null,
   "id": "cf9ffe83",
   "metadata": {},
   "outputs": [
    {
     "name": "stdout",
     "output_type": "stream",
     "text": [
      "hi my name is  ethan hunt and i a  male\n"
     ]
    },
    {
     "ename": "NameError",
     "evalue": "name 'People' is not defined",
     "output_type": "error",
     "traceback": [
      "\u001b[31m---------------------------------------------------------------------------\u001b[39m",
      "\u001b[31mNameError\u001b[39m                                 Traceback (most recent call last)",
      "\u001b[36mCell\u001b[39m\u001b[36m \u001b[39m\u001b[32mIn[61]\u001b[39m\u001b[32m, line 16\u001b[39m\n\u001b[32m     13\u001b[39m     \u001b[38;5;28;01mreturn\u001b[39;00m p1\n\u001b[32m     15\u001b[39m p=people(\u001b[33m'\u001b[39m\u001b[33methan hunt\u001b[39m\u001b[33m'\u001b[39m,\u001b[33m'\u001b[39m\u001b[33mmale\u001b[39m\u001b[33m'\u001b[39m) \n\u001b[32m---> \u001b[39m\u001b[32m16\u001b[39m x = \u001b[43mgreet\u001b[49m\u001b[43m(\u001b[49m\u001b[43mp\u001b[49m\u001b[43m)\u001b[49m\n\u001b[32m     17\u001b[39m \u001b[38;5;28mprint\u001b[39m(x.name,x.gender)\n",
      "\u001b[36mCell\u001b[39m\u001b[36m \u001b[39m\u001b[32mIn[61]\u001b[39m\u001b[32m, line 12\u001b[39m, in \u001b[36mgreet\u001b[39m\u001b[34m(people)\u001b[39m\n\u001b[32m     10\u001b[39m \u001b[38;5;28;01mdef\u001b[39;00m\u001b[38;5;250m \u001b[39m\u001b[34mgreet\u001b[39m(people):  \u001b[38;5;66;03m#object as a input to a function\u001b[39;00m\n\u001b[32m     11\u001b[39m     \u001b[38;5;28mprint\u001b[39m(\u001b[33m'\u001b[39m\u001b[33mhi my name is \u001b[39m\u001b[33m'\u001b[39m,people.name, \u001b[33m'\u001b[39m\u001b[33mand i a \u001b[39m\u001b[33m'\u001b[39m,people.gender)\n\u001b[32m---> \u001b[39m\u001b[32m12\u001b[39m     p1 = \u001b[43mPeople\u001b[49m(\u001b[33m'\u001b[39m\u001b[33mkirti kharbanda\u001b[39m\u001b[33m'\u001b[39m,\u001b[33m'\u001b[39m\u001b[33mfemale\u001b[39m\u001b[33m'\u001b[39m)\n\u001b[32m     13\u001b[39m     \u001b[38;5;28;01mreturn\u001b[39;00m p1\n",
      "\u001b[31mNameError\u001b[39m: name 'People' is not defined"
     ]
    }
   ],
   "source": [
    "#pass by reference \n",
    "\n",
    "class people:\n",
    "\n",
    "    def __init__(self,name,gender):\n",
    "        self.name=name \n",
    "        self.gender= gender\n",
    "#outside the class\n",
    "\n",
    "def greet(people):  #object as a input to a function\n",
    "    print('hi my name is ',people.name, 'and i a ',people.gender)\n",
    "    p1 = People('kirti kharbanda','female')\n",
    "    return p1\n",
    "\n",
    "p=people('ethan hunt','male') \n",
    "x = greet(p)\n",
    "print(x.name,x.gender)\n"
   ]
  }
 ],
 "metadata": {
  "kernelspec": {
   "display_name": ".venv",
   "language": "python",
   "name": "python3"
  },
  "language_info": {
   "codemirror_mode": {
    "name": "ipython",
    "version": 3
   },
   "file_extension": ".py",
   "mimetype": "text/x-python",
   "name": "python",
   "nbconvert_exporter": "python",
   "pygments_lexer": "ipython3",
   "version": "3.12.7"
  }
 },
 "nbformat": 4,
 "nbformat_minor": 5
}
