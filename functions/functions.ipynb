{
 "cells": [
  {
   "cell_type": "markdown",
   "id": "a4f1e4b9",
   "metadata": {},
   "source": [
    "lets create a function\n"
   ]
  },
  {
   "cell_type": "code",
   "execution_count": 3,
   "id": "907617f3",
   "metadata": {},
   "outputs": [
    {
     "name": "stdout",
     "output_type": "stream",
     "text": [
      "False\n"
     ]
    }
   ],
   "source": [
    "def is_even(i):  #function\n",
    "    x=i%2==0\n",
    "    return x \n",
    "\n",
    "\n",
    "a=is_even(5)   #calling\n",
    "print(a)\n",
    " "
   ]
  },
  {
   "cell_type": "markdown",
   "id": "9622cb05",
   "metadata": {},
   "source": [
    "function with docstring\n"
   ]
  },
  {
   "cell_type": "code",
   "execution_count": 4,
   "id": "9dfced3b",
   "metadata": {},
   "outputs": [
    {
     "name": "stdout",
     "output_type": "stream",
     "text": [
      "True\n"
     ]
    }
   ],
   "source": [
    "def is_odd(j):\n",
    "    \"\"\" this function checks for odd number \n",
    "    input - any valid integer\n",
    "    output -odd\n",
    "    date-27may25\n",
    "    \"\"\"\n",
    "    x=j%2!=0\n",
    "    return x\n",
    "\n",
    "\n",
    "b=is_odd(11)\n",
    "print(b)"
   ]
  }
 ],
 "metadata": {
  "kernelspec": {
   "display_name": ".venv",
   "language": "python",
   "name": "python3"
  },
  "language_info": {
   "codemirror_mode": {
    "name": "ipython",
    "version": 3
   },
   "file_extension": ".py",
   "mimetype": "text/x-python",
   "name": "python",
   "nbconvert_exporter": "python",
   "pygments_lexer": "ipython3",
   "version": "3.12.7"
  }
 },
 "nbformat": 4,
 "nbformat_minor": 5
}
