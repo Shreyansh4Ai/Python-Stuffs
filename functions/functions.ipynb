{
 "cells": [
  {
   "cell_type": "markdown",
   "id": "a4f1e4b9",
   "metadata": {},
   "source": [
    "lets create a function\n"
   ]
  },
  {
   "cell_type": "code",
   "execution_count": 57,
   "id": "907617f3",
   "metadata": {},
   "outputs": [
    {
     "name": "stdout",
     "output_type": "stream",
     "text": [
      "False\n"
     ]
    }
   ],
   "source": [
    "def is_even(i):  #function\n",
    "    x=i%2==0\n",
    "    return x \n",
    "\n",
    "\n",
    "a=is_even(5)   #calling\n",
    "print(a)\n",
    " "
   ]
  },
  {
   "cell_type": "markdown",
   "id": "9622cb05",
   "metadata": {},
   "source": [
    "function with docstring\n"
   ]
  },
  {
   "cell_type": "code",
   "execution_count": 58,
   "id": "9dfced3b",
   "metadata": {},
   "outputs": [
    {
     "name": "stdout",
     "output_type": "stream",
     "text": [
      "True\n"
     ]
    }
   ],
   "source": [
    "def is_odd(j):\n",
    "    \"\"\" this function checks for odd number \n",
    "    input - any valid integer\n",
    "    output -odd\n",
    "    date-27may25\n",
    "    \"\"\"\n",
    "    x=j%2!=0\n",
    "    return x\n",
    "\n",
    "\n",
    "b=is_odd(11)\n",
    "print(b)"
   ]
  },
  {
   "cell_type": "code",
   "execution_count": 59,
   "id": "b4b608b0",
   "metadata": {},
   "outputs": [
    {
     "data": {
      "text/plain": [
       "' this function checks for odd number \\n    input - any valid integer\\n    output -odd\\n    date-27may25\\n    '"
      ]
     },
     "execution_count": 59,
     "metadata": {},
     "output_type": "execute_result"
    }
   ],
   "source": [
    "is_odd.__doc__   #documentation ka access"
   ]
  },
  {
   "cell_type": "markdown",
   "id": "0ceaa208",
   "metadata": {},
   "source": [
    "parameter vs argument\n"
   ]
  },
  {
   "cell_type": "markdown",
   "id": "b77bc9c5",
   "metadata": {},
   "source": [
    "Default\n",
    "positional\n",
    "keyword"
   ]
  },
  {
   "cell_type": "code",
   "execution_count": 60,
   "id": "1d37de1b",
   "metadata": {},
   "outputs": [
    {
     "data": {
      "text/plain": [
       "3"
      ]
     },
     "execution_count": 60,
     "metadata": {},
     "output_type": "execute_result"
    }
   ],
   "source": [
    "def power(a=1,b=1):#default arg is ek hi parameter diya ho toh second waale k liye usme 1 h \n",
    "    return a**b\n",
    "                     \n",
    "\n",
    "power(3)"
   ]
  },
  {
   "cell_type": "code",
   "execution_count": 61,
   "id": "26bacc86",
   "metadata": {},
   "outputs": [
    {
     "data": {
      "text/plain": [
       "8"
      ]
     },
     "execution_count": 61,
     "metadata": {},
     "output_type": "execute_result"
    }
   ],
   "source": [
    "#keyword argument \n",
    "power(b=3,a=2)"
   ]
  },
  {
   "cell_type": "code",
   "execution_count": 62,
   "id": "dd7d57f6",
   "metadata": {},
   "outputs": [
    {
     "data": {
      "text/plain": [
       "8"
      ]
     },
     "execution_count": 62,
     "metadata": {},
     "output_type": "execute_result"
    }
   ],
   "source": [
    "#positional \n",
    "power(2,3)"
   ]
  },
  {
   "cell_type": "markdown",
   "id": "a57b4d15",
   "metadata": {},
   "source": [
    "*args and **kwargs  \n",
    "are special py keywords that are used to pass the variable length of arguments to  a function\n",
    "\n",
    "*args---->>> allows us to pass a variable number of non keyword arguments to a function.\n"
   ]
  },
  {
   "cell_type": "code",
   "execution_count": 63,
   "id": "46a19b48",
   "metadata": {},
   "outputs": [
    {
     "name": "stdout",
     "output_type": "stream",
     "text": [
      "(2, 4, 5, 7, 6, 9, 10)\n"
     ]
    },
    {
     "data": {
      "text/plain": [
       "151200"
      ]
     },
     "execution_count": 63,
     "metadata": {},
     "output_type": "execute_result"
    }
   ],
   "source": [
    "def multiply(*args):   #can use any word in place of args\n",
    "    product=1\n",
    "    for i in args:\n",
    "        product =product*i; \n",
    "        \n",
    "    print(args)     #python makes this into a tupple and operate \n",
    "    return product \n",
    "\n",
    "multiply(2,4,5,7,6,9,10)"
   ]
  },
  {
   "cell_type": "markdown",
   "id": "27e4645b",
   "metadata": {},
   "source": [
    "**kwargs--->> allows us to pass any number of keyword  arguments.\n",
    "keyword arguments means that they contain  a key-value pair,like a python dictionary ."
   ]
  },
  {
   "cell_type": "code",
   "execution_count": 64,
   "id": "6600aa93",
   "metadata": {},
   "outputs": [
    {
     "name": "stdout",
     "output_type": "stream",
     "text": [
      "india -> bilaspur\n",
      "usa -> virginia\n",
      "nepal -> momos\n",
      "japan -> beauties\n",
      "pakistan -> international bhikhari\n"
     ]
    }
   ],
   "source": [
    "def display(**kwargs):\n",
    "    for(key,value) in kwargs.items():\n",
    "         print(key,'->',value)\n",
    "\n",
    "display(india='bilaspur',usa='virginia',nepal='momos',japan='beauties',pakistan='international bhikhari')"
   ]
  },
  {
   "cell_type": "markdown",
   "id": "dcd12537",
   "metadata": {},
   "source": [
    "IMP POINTS \n",
    "order of arguments matter (normal-> *args -> **kwargs)\n",
    "args and kwargs is only a convention you can write any thing in place of it "
   ]
  },
  {
   "cell_type": "markdown",
   "id": "045f57f4",
   "metadata": {},
   "source": [
    "HOW functions are executed in a memory\n"
   ]
  },
  {
   "cell_type": "markdown",
   "id": "3fbd98da",
   "metadata": {},
   "source": [
    "life span of variable of a function is === life span of fumnction\n",
    "\n",
    "lifespan of function = calling to return statement \n",
    "function act as a separate program "
   ]
  },
  {
   "cell_type": "code",
   "execution_count": 65,
   "id": "72c9683a",
   "metadata": {},
   "outputs": [
    {
     "name": "stdout",
     "output_type": "stream",
     "text": [
      "None\n",
      "[1, 2, 4, 3, 5]\n"
     ]
    }
   ],
   "source": [
    "#function without a return statement--->> then python none bheje ga\n",
    "\n",
    "\n",
    "l=[1,2,4,3]\n",
    "print(l.append(5))\n",
    "print(l)"
   ]
  },
  {
   "cell_type": "code",
   "execution_count": null,
   "id": "719aa142",
   "metadata": {},
   "outputs": [],
   "source": []
  },
  {
   "cell_type": "markdown",
   "id": "312cacef",
   "metadata": {},
   "source": [
    "VAriable scope"
   ]
  },
  {
   "cell_type": "code",
   "execution_count": 66,
   "id": "323cb6b4",
   "metadata": {},
   "outputs": [
    {
     "name": "stdout",
     "output_type": "stream",
     "text": [
      "5\n",
      "6\n",
      "5\n"
     ]
    }
   ],
   "source": [
    "def g(y):    #y=local\n",
    "    print(x)\n",
    "    print(x+1)\n",
    "\n",
    "x=5\n",
    "g(x)     #x=global\n",
    "print(x)  "
   ]
  },
  {
   "cell_type": "code",
   "execution_count": 67,
   "id": "d94ac421",
   "metadata": {},
   "outputs": [
    {
     "name": "stdout",
     "output_type": "stream",
     "text": [
      "6\n"
     ]
    }
   ],
   "source": [
    "def h(y):\n",
    "    global x # this is a help to do the sin\n",
    "    x +=1   #we cannot manipulate global variables in functions \n",
    "\n",
    "x=5    \n",
    "h(x)  \n",
    "print(x)"
   ]
  },
  {
   "cell_type": "markdown",
   "id": "01a33525",
   "metadata": {},
   "source": [
    "NESTED FUNCTIONS"
   ]
  },
  {
   "cell_type": "code",
   "execution_count": 68,
   "id": "85b9b819",
   "metadata": {},
   "outputs": [
    {
     "name": "stdout",
     "output_type": "stream",
     "text": [
      "inside function g \n",
      "inside function f \n",
      "None\n"
     ]
    }
   ],
   "source": [
    "def f():\n",
    "    def g():\n",
    "        print(\"inside function g \")\n",
    "    g()\n",
    "    print(\"inside function f \")\n",
    "\n",
    "a=f() \n",
    "print(a)  \n",
    "#g()  y nhi kr skte     "
   ]
  },
  {
   "cell_type": "code",
   "execution_count": 69,
   "id": "3f31ea9f",
   "metadata": {},
   "outputs": [
    {
     "name": "stdout",
     "output_type": "stream",
     "text": [
      "in g(x): x= 4\n"
     ]
    }
   ],
   "source": [
    "def g(x):    #good question\n",
    "    def h():\n",
    "        x='abc'\n",
    "    x=x+1\n",
    "    print('in g(x): x=',x)\n",
    "    h()\n",
    "    return x \n",
    "\n",
    "x=3\n",
    "x=g(x)    "
   ]
  },
  {
   "cell_type": "markdown",
   "id": "bb84b65d",
   "metadata": {},
   "source": [
    "everything in python is a refrence "
   ]
  },
  {
   "cell_type": "markdown",
   "id": "4eac06bd",
   "metadata": {},
   "source": [
    "<h1> functions in python are first class citizen </h1>\n",
    " "
   ]
  },
  {
   "cell_type": "markdown",
   "id": "6f190fe8",
   "metadata": {},
   "source": [
    "jo kaam koi data type kr skata h vo sare kaamm functions bhi kr skte h "
   ]
  },
  {
   "cell_type": "code",
   "execution_count": 70,
   "id": "17d9de4f",
   "metadata": {},
   "outputs": [
    {
     "name": "stdout",
     "output_type": "stream",
     "text": [
      "<class 'function'>\n",
      "140716921137624\n",
      "2991475531808\n"
     ]
    }
   ],
   "source": [
    "#type and id \n",
    "def square(num):\n",
    "    return num*num\n",
    "\n",
    "\n",
    "\n",
    "print(type(square))\n",
    "\n",
    "a=2\n",
    "print(id(2))\n",
    "print(id(square))\n",
    "\n",
    "\n",
    "\n"
   ]
  },
  {
   "cell_type": "code",
   "execution_count": 71,
   "id": "1fe9641b",
   "metadata": {},
   "outputs": [
    {
     "name": "stdout",
     "output_type": "stream",
     "text": [
      "16\n"
     ]
    }
   ],
   "source": [
    "#reassign\n",
    "x=square  #now sruare is x \n",
    "id(x)  \n",
    "a=x(4)  # x=square\n",
    "print(a)"
   ]
  },
  {
   "cell_type": "code",
   "execution_count": 72,
   "id": "e3e6bd20",
   "metadata": {},
   "outputs": [],
   "source": [
    "#deleting a function\n",
    "#del square    #hell yeah!!\n",
    "\n",
    "#square(3)"
   ]
  },
  {
   "cell_type": "code",
   "execution_count": 73,
   "id": "d4b52e3a",
   "metadata": {},
   "outputs": [
    {
     "data": {
      "text/plain": [
       "9"
      ]
     },
     "execution_count": 73,
     "metadata": {},
     "output_type": "execute_result"
    }
   ],
   "source": [
    "#storing \n",
    "l=[1,2,3,4,square]\n",
    "l[-1](3)"
   ]
  },
  {
   "cell_type": "code",
   "execution_count": null,
   "id": "70d31800",
   "metadata": {},
   "outputs": [
    {
     "data": {
      "text/plain": [
       "{<function __main__.square(num)>}"
      ]
     },
     "execution_count": 74,
     "metadata": {},
     "output_type": "execute_result"
    }
   ],
   "source": [
    "#mutability ----> nope !!\n",
    "s={square}     #set only store immutable data types \n",
    "s"
   ]
  },
  {
   "cell_type": "markdown",
   "id": "0a2fbe6e",
   "metadata": {},
   "source": [
    "Returning a function"
   ]
  },
  {
   "cell_type": "code",
   "execution_count": 75,
   "id": "00e1d328",
   "metadata": {},
   "outputs": [
    {
     "name": "stdout",
     "output_type": "stream",
     "text": [
      "7\n"
     ]
    }
   ],
   "source": [
    "def f():\n",
    " def x(a,b):\n",
    "  return a+b\n",
    " return x \n",
    "\n",
    "val = f()(3,4)\n",
    "print(val)\n",
    " "
   ]
  },
  {
   "cell_type": "markdown",
   "id": "95328bd2",
   "metadata": {},
   "source": [
    "function as argument "
   ]
  },
  {
   "cell_type": "code",
   "execution_count": null,
   "id": "c118ddc4",
   "metadata": {},
   "outputs": [
    {
     "name": "stdout",
     "output_type": "stream",
     "text": [
      "inside fun_c\n",
      "inside func_a\n",
      "None\n"
     ]
    }
   ],
   "source": [
    "def fun_a():\n",
    "    print('inside func_a')\n",
    "\n",
    "def fun_b(z):\n",
    "    print('inside fun_c')\n",
    "    return z()\n",
    "\n",
    "print(fun_b(fun_a))    ##function k andar dusre function ko as a argument bhej skte h"
   ]
  },
  {
   "cell_type": "markdown",
   "id": "465d8700",
   "metadata": {},
   "source": [
    "BENEFITS OF USING A  FUNCION\n",
    "\n",
    "code modularity\n",
    "code readability\n",
    "code reusability\n"
   ]
  },
  {
   "cell_type": "markdown",
   "id": "1c0488c1",
   "metadata": {},
   "source": [
    "<h3> Lamda function</h3>\n",
    "its a small anonymous function\n",
    "a lamda function can take any number of arguments , but can have one expression"
   ]
  },
  {
   "cell_type": "code",
   "execution_count": 77,
   "id": "c8c4c2a1",
   "metadata": {},
   "outputs": [
    {
     "data": {
      "text/plain": [
       "4"
      ]
     },
     "execution_count": 77,
     "metadata": {},
     "output_type": "execute_result"
    }
   ],
   "source": [
    "#x->x^2\n",
    "a= lambda x:x**2\n",
    "a(2)"
   ]
  },
  {
   "cell_type": "code",
   "execution_count": null,
   "id": "81c38620",
   "metadata": {},
   "outputs": [
    {
     "name": "stdout",
     "output_type": "stream",
     "text": [
      "<function <lambda> at 0x000002B88265A0C0>\n"
     ]
    },
    {
     "data": {
      "text/plain": [
       "3"
      ]
     },
     "execution_count": 83,
     "metadata": {},
     "output_type": "execute_result"
    }
   ],
   "source": [
    "#x,y->x+y\n",
    "\n",
    "b= lambda x,y:x+y\n",
    "print(b)\n",
    "b(3,4) "
   ]
  },
  {
   "cell_type": "markdown",
   "id": "fa701d36",
   "metadata": {},
   "source": [
    "Difference between lamda and normal function \n",
    "<p>\n",
    "lambda \n",
    "no name ,\n",
    "no return value, \n",
    "always written in one line ,\n",
    "not reusable .\n",
    "usage ---> for higher order functions \n",
    "</p>\n"
   ]
  },
  {
   "cell_type": "code",
   "execution_count": 84,
   "id": "cb733c4d",
   "metadata": {},
   "outputs": [
    {
     "data": {
      "text/plain": [
       "False"
      ]
     },
     "execution_count": 84,
     "metadata": {},
     "output_type": "execute_result"
    }
   ],
   "source": [
    "#check if a string has 'a'\n",
    "a = lambda s :'a' in s \n",
    "a('hello')"
   ]
  },
  {
   "cell_type": "code",
   "execution_count": 87,
   "id": "403780b2",
   "metadata": {},
   "outputs": [
    {
     "data": {
      "text/plain": [
       "'even'"
      ]
     },
     "execution_count": 87,
     "metadata": {},
     "output_type": "execute_result"
    }
   ],
   "source": [
    "#if else inside lambda \n",
    "a=lambda x:'even' if x%2==0 else 'odd'\n",
    "a(4)"
   ]
  },
  {
   "cell_type": "markdown",
   "id": "224b84f2",
   "metadata": {},
   "source": [
    "HOF - Higher order function \n",
    "\n",
    "ek esa function jo dusre function ko return kre ya input m dusre function ko recieve kre "
   ]
  },
  {
   "cell_type": "code",
   "execution_count": 90,
   "id": "dcb89e67",
   "metadata": {},
   "outputs": [
    {
     "name": "stdout",
     "output_type": "stream",
     "text": [
      "[1, 8, 27, 64, 125]\n"
     ]
    }
   ],
   "source": [
    "def square(x):\n",
    "    return x**2\n",
    "\n",
    "def transform(f,l):  #hof \n",
    "    output =[]\n",
    "    for i in l:\n",
    "        output.append(f(i))\n",
    "\n",
    "    print(output)\n",
    "\n",
    "l =[1,2,3,4,5]\n",
    "\n",
    "#transform(square , l )\n",
    "\n",
    "transform(lambda x:x**3,l)"
   ]
  },
  {
   "cell_type": "markdown",
   "id": "4bc0e602",
   "metadata": {},
   "source": [
    "MAP"
   ]
  },
  {
   "cell_type": "code",
   "execution_count": 91,
   "id": "8b4feb2c",
   "metadata": {},
   "outputs": [
    {
     "data": {
      "text/plain": [
       "[1, 4, 9, 16, 25]"
      ]
     },
     "execution_count": 91,
     "metadata": {},
     "output_type": "execute_result"
    }
   ],
   "source": [
    "#SqUAre the items of a list \n",
    "list(map(lambda x:x**2,[1,2,3,4,5]))"
   ]
  },
  {
   "cell_type": "code",
   "execution_count": 93,
   "id": "914a0536",
   "metadata": {},
   "outputs": [
    {
     "data": {
      "text/plain": [
       "['odd', 'even ', 'odd', 'even ', 'odd', 'even ']"
      ]
     },
     "execution_count": 93,
     "metadata": {},
     "output_type": "execute_result"
    }
   ],
   "source": [
    "#odd even labelling of list items \n",
    "l=[1,2,3,4,5,6]\n",
    "list(map(lambda x :'even 'if x%2==0 else 'odd',l))"
   ]
  },
  {
   "cell_type": "code",
   "execution_count": 94,
   "id": "e7e6fe0f",
   "metadata": {},
   "outputs": [
    {
     "data": {
      "text/plain": [
       "['shrey', 'shruti']"
      ]
     },
     "execution_count": 94,
     "metadata": {},
     "output_type": "execute_result"
    }
   ],
   "source": [
    "#fetch names from a list in dict \n",
    "users=[\n",
    "    {\n",
    "        'name':'shrey',\n",
    "        'age':20,\n",
    "        'gender':'male'\n",
    "    },{\n",
    "        'name':'shruti',\n",
    "        'age':20,\n",
    "        'gender':'female'\n",
    "    }\n",
    "] \n",
    "\n",
    "list(map(lambda users:users['name'],users))"
   ]
  },
  {
   "cell_type": "markdown",
   "id": "bd012039",
   "metadata": {},
   "source": [
    "FILTER "
   ]
  },
  {
   "cell_type": "code",
   "execution_count": 96,
   "id": "3a46ec74",
   "metadata": {},
   "outputs": [
    {
     "data": {
      "text/plain": [
       "[7, 8]"
      ]
     },
     "execution_count": 96,
     "metadata": {},
     "output_type": "execute_result"
    }
   ],
   "source": [
    "#number greater than 5 \n",
    "l=[1,2,3,4,7,8]\n",
    "list(filter(lambda x :x>5,l))"
   ]
  },
  {
   "cell_type": "code",
   "execution_count": 98,
   "id": "1d6d45b9",
   "metadata": {},
   "outputs": [
    {
     "data": {
      "text/plain": [
       "['apple']"
      ]
     },
     "execution_count": 98,
     "metadata": {},
     "output_type": "execute_result"
    }
   ],
   "source": [
    "#fetch fruits starting with 'a'\n",
    "fruits = ['apple','guava','cherry']\n",
    "\n",
    "list(filter(lambda x:x.startswith('a'),fruits))"
   ]
  },
  {
   "cell_type": "markdown",
   "id": "825b25eb",
   "metadata": {},
   "source": [
    "REDuCE\n",
    "\n",
    "functools import krna hoag "
   ]
  },
  {
   "cell_type": "code",
   "execution_count": 99,
   "id": "21c15e7d",
   "metadata": {},
   "outputs": [
    {
     "data": {
      "text/plain": [
       "15"
      ]
     },
     "execution_count": 99,
     "metadata": {},
     "output_type": "execute_result"
    }
   ],
   "source": [
    "#sum of all\n",
    "import functools\n",
    "\n",
    "functools.reduce(lambda x,y:x+y,[1,2,3,4,5])"
   ]
  },
  {
   "cell_type": "code",
   "execution_count": 100,
   "id": "7fff26e3",
   "metadata": {},
   "outputs": [
    {
     "data": {
      "text/plain": [
       "True"
      ]
     },
     "execution_count": 100,
     "metadata": {},
     "output_type": "execute_result"
    }
   ],
   "source": [
    "#find min\n",
    "import functools \n",
    "functools.reduce(lambda x,y:x<y,[1,2,3,4,5])"
   ]
  }
 ],
 "metadata": {
  "kernelspec": {
   "display_name": ".venv",
   "language": "python",
   "name": "python3"
  },
  "language_info": {
   "codemirror_mode": {
    "name": "ipython",
    "version": 3
   },
   "file_extension": ".py",
   "mimetype": "text/x-python",
   "name": "python",
   "nbconvert_exporter": "python",
   "pygments_lexer": "ipython3",
   "version": "3.12.7"
  }
 },
 "nbformat": 4,
 "nbformat_minor": 5
}
