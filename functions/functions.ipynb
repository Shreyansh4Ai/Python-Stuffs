{
 "cells": [
  {
   "cell_type": "markdown",
   "id": "a4f1e4b9",
   "metadata": {},
   "source": [
    "lets create a function\n"
   ]
  },
  {
   "cell_type": "code",
   "execution_count": 3,
   "id": "907617f3",
   "metadata": {},
   "outputs": [
    {
     "name": "stdout",
     "output_type": "stream",
     "text": [
      "False\n"
     ]
    }
   ],
   "source": [
    "def is_even(i):  #function\n",
    "    x=i%2==0\n",
    "    return x \n",
    "\n",
    "\n",
    "a=is_even(5)   #calling\n",
    "print(a)\n",
    " "
   ]
  },
  {
   "cell_type": "markdown",
   "id": "9622cb05",
   "metadata": {},
   "source": [
    "function with docstring\n"
   ]
  },
  {
   "cell_type": "code",
   "execution_count": 4,
   "id": "9dfced3b",
   "metadata": {},
   "outputs": [
    {
     "name": "stdout",
     "output_type": "stream",
     "text": [
      "True\n"
     ]
    }
   ],
   "source": [
    "def is_odd(j):\n",
    "    \"\"\" this function checks for odd number \n",
    "    input - any valid integer\n",
    "    output -odd\n",
    "    date-27may25\n",
    "    \"\"\"\n",
    "    x=j%2!=0\n",
    "    return x\n",
    "\n",
    "\n",
    "b=is_odd(11)\n",
    "print(b)"
   ]
  },
  {
   "cell_type": "markdown",
   "id": "0ceaa208",
   "metadata": {},
   "source": [
    "parameter vs argument\n"
   ]
  },
  {
   "cell_type": "markdown",
   "id": "b77bc9c5",
   "metadata": {},
   "source": [
    "Default\n",
    "positional\n",
    "keyword"
   ]
  },
  {
   "cell_type": "code",
   "execution_count": null,
   "id": "1d37de1b",
   "metadata": {},
   "outputs": [
    {
     "data": {
      "text/plain": [
       "3"
      ]
     },
     "execution_count": 8,
     "metadata": {},
     "output_type": "execute_result"
    }
   ],
   "source": [
    "def power(a=1,b=1):#default arg is ek hi parameter diya ho toh second waale k liye usme 1 h \n",
    "    return a**b\n",
    "                     \n",
    "\n",
    "power(3)"
   ]
  },
  {
   "cell_type": "code",
   "execution_count": 9,
   "id": "dd7d57f6",
   "metadata": {},
   "outputs": [
    {
     "data": {
      "text/plain": [
       "8"
      ]
     },
     "execution_count": 9,
     "metadata": {},
     "output_type": "execute_result"
    }
   ],
   "source": [
    "#positional \n",
    "power(2,3)"
   ]
  }
 ],
 "metadata": {
  "kernelspec": {
   "display_name": ".venv",
   "language": "python",
   "name": "python3"
  },
  "language_info": {
   "codemirror_mode": {
    "name": "ipython",
    "version": 3
   },
   "file_extension": ".py",
   "mimetype": "text/x-python",
   "name": "python",
   "nbconvert_exporter": "python",
   "pygments_lexer": "ipython3",
   "version": "3.12.7"
  }
 },
 "nbformat": 4,
 "nbformat_minor": 5
}
