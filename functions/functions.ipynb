{
 "cells": [
  {
   "cell_type": "markdown",
   "id": "a4f1e4b9",
   "metadata": {},
   "source": [
    "lets create a function\n"
   ]
  },
  {
   "cell_type": "code",
   "execution_count": 3,
   "id": "907617f3",
   "metadata": {},
   "outputs": [
    {
     "name": "stdout",
     "output_type": "stream",
     "text": [
      "False\n"
     ]
    }
   ],
   "source": [
    "def is_even(i):  #function\n",
    "    x=i%2==0\n",
    "    return x \n",
    "\n",
    "\n",
    "a=is_even(5)   #calling\n",
    "print(a)\n",
    " "
   ]
  },
  {
   "cell_type": "markdown",
   "id": "9622cb05",
   "metadata": {},
   "source": [
    "function with docstring\n"
   ]
  },
  {
   "cell_type": "code",
   "execution_count": 4,
   "id": "9dfced3b",
   "metadata": {},
   "outputs": [
    {
     "name": "stdout",
     "output_type": "stream",
     "text": [
      "True\n"
     ]
    }
   ],
   "source": [
    "def is_odd(j):\n",
    "    \"\"\" this function checks for odd number \n",
    "    input - any valid integer\n",
    "    output -odd\n",
    "    date-27may25\n",
    "    \"\"\"\n",
    "    x=j%2!=0\n",
    "    return x\n",
    "\n",
    "\n",
    "b=is_odd(11)\n",
    "print(b)"
   ]
  },
  {
   "cell_type": "code",
   "execution_count": null,
   "id": "b4b608b0",
   "metadata": {},
   "outputs": [
    {
     "data": {
      "text/plain": [
       "' this function checks for odd number \\n    input - any valid integer\\n    output -odd\\n    date-27may25\\n    '"
      ]
     },
     "execution_count": 16,
     "metadata": {},
     "output_type": "execute_result"
    }
   ],
   "source": [
    "is_odd.__doc__   #documentation ka access"
   ]
  },
  {
   "cell_type": "markdown",
   "id": "0ceaa208",
   "metadata": {},
   "source": [
    "parameter vs argument\n"
   ]
  },
  {
   "cell_type": "markdown",
   "id": "b77bc9c5",
   "metadata": {},
   "source": [
    "Default\n",
    "positional\n",
    "keyword"
   ]
  },
  {
   "cell_type": "code",
   "execution_count": null,
   "id": "1d37de1b",
   "metadata": {},
   "outputs": [
    {
     "data": {
      "text/plain": [
       "3"
      ]
     },
     "execution_count": 8,
     "metadata": {},
     "output_type": "execute_result"
    }
   ],
   "source": [
    "def power(a=1,b=1):#default arg is ek hi parameter diya ho toh second waale k liye usme 1 h \n",
    "    return a**b\n",
    "                     \n",
    "\n",
    "power(3)"
   ]
  },
  {
   "cell_type": "code",
   "execution_count": 11,
   "id": "26bacc86",
   "metadata": {},
   "outputs": [
    {
     "data": {
      "text/plain": [
       "8"
      ]
     },
     "execution_count": 11,
     "metadata": {},
     "output_type": "execute_result"
    }
   ],
   "source": [
    "#keyword argument \n",
    "power(b=3,a=2)"
   ]
  },
  {
   "cell_type": "code",
   "execution_count": 9,
   "id": "dd7d57f6",
   "metadata": {},
   "outputs": [
    {
     "data": {
      "text/plain": [
       "8"
      ]
     },
     "execution_count": 9,
     "metadata": {},
     "output_type": "execute_result"
    }
   ],
   "source": [
    "#positional \n",
    "power(2,3)"
   ]
  },
  {
   "cell_type": "markdown",
   "id": "a57b4d15",
   "metadata": {},
   "source": [
    "*args and **kwargs  \n",
    "are special py keywords that are used to pass the variable length of arguments to  a function\n",
    "\n",
    "*args---->>> allows us to pass a variable number of non keyword arguments to a function.\n"
   ]
  },
  {
   "cell_type": "code",
   "execution_count": null,
   "id": "46a19b48",
   "metadata": {},
   "outputs": [
    {
     "name": "stdout",
     "output_type": "stream",
     "text": [
      "(2, 4, 5, 7, 6, 9, 10)\n"
     ]
    },
    {
     "data": {
      "text/plain": [
       "151200"
      ]
     },
     "execution_count": 15,
     "metadata": {},
     "output_type": "execute_result"
    }
   ],
   "source": [
    "def multiply(*args):   #can use any word in place of args\n",
    "    product=1\n",
    "    for i in args:\n",
    "        product =product*i; \n",
    "        \n",
    "    print(args)     #python makes this into a tupple and operate \n",
    "    return product \n",
    "\n",
    "multiply(2,4,5,7,6,9,10)"
   ]
  },
  {
   "cell_type": "markdown",
   "id": "27e4645b",
   "metadata": {},
   "source": [
    "**kwargs--->> allows us to pass any number of keyword  arguments.\n",
    "keyword arguments means that they contain  a key-value pair,like a python dictionary ."
   ]
  },
  {
   "cell_type": "code",
   "execution_count": 19,
   "id": "6600aa93",
   "metadata": {},
   "outputs": [
    {
     "name": "stdout",
     "output_type": "stream",
     "text": [
      "india -> bilaspur\n",
      "usa -> virginia\n",
      "nepal -> momos\n",
      "japan -> beauties\n",
      "pakistan -> international bhikhari\n"
     ]
    }
   ],
   "source": [
    "def display(**kwargs):\n",
    "    for(key,value) in kwargs.items():\n",
    "         print(key,'->',value)\n",
    "\n",
    "display(india='bilaspur',usa='virginia',nepal='momos',japan='beauties',pakistan='international bhikhari')"
   ]
  },
  {
   "cell_type": "markdown",
   "id": "dcd12537",
   "metadata": {},
   "source": [
    "IMP POINTS \n",
    "order of arguments matter (normal-> *args -> **kwargs)\n",
    "args and kwargs is only a convention you can write any thing in place of it "
   ]
  },
  {
   "cell_type": "markdown",
   "id": "045f57f4",
   "metadata": {},
   "source": [
    "HOW functions are executed in a memory\n"
   ]
  },
  {
   "cell_type": "markdown",
   "id": "3fbd98da",
   "metadata": {},
   "source": [
    "life span of variable of a function is === life span of fumnction\n",
    "\n",
    "lifespan of function = calling to return statement \n",
    "function act as a separate program "
   ]
  }
 ],
 "metadata": {
  "kernelspec": {
   "display_name": ".venv",
   "language": "python",
   "name": "python3"
  },
  "language_info": {
   "codemirror_mode": {
    "name": "ipython",
    "version": 3
   },
   "file_extension": ".py",
   "mimetype": "text/x-python",
   "name": "python",
   "nbconvert_exporter": "python",
   "pygments_lexer": "ipython3",
   "version": "3.12.7"
  }
 },
 "nbformat": 4,
 "nbformat_minor": 5
}
