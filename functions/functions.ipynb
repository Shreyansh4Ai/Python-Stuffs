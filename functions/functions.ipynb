{
 "cells": [
  {
   "cell_type": "markdown",
   "id": "a4f1e4b9",
   "metadata": {},
   "source": [
    "lets create a function\n"
   ]
  },
  {
   "cell_type": "code",
   "execution_count": 3,
   "id": "907617f3",
   "metadata": {},
   "outputs": [
    {
     "name": "stdout",
     "output_type": "stream",
     "text": [
      "False\n"
     ]
    }
   ],
   "source": [
    "def is_even(i):  #function\n",
    "    x=i%2==0\n",
    "    return x \n",
    "\n",
    "\n",
    "a=is_even(5)   #calling\n",
    "print(a)\n",
    " "
   ]
  },
  {
   "cell_type": "markdown",
   "id": "9622cb05",
   "metadata": {},
   "source": [
    "function with docstring\n"
   ]
  },
  {
   "cell_type": "code",
   "execution_count": 4,
   "id": "9dfced3b",
   "metadata": {},
   "outputs": [
    {
     "name": "stdout",
     "output_type": "stream",
     "text": [
      "True\n"
     ]
    }
   ],
   "source": [
    "def is_odd(j):\n",
    "    \"\"\" this function checks for odd number \n",
    "    input - any valid integer\n",
    "    output -odd\n",
    "    date-27may25\n",
    "    \"\"\"\n",
    "    x=j%2!=0\n",
    "    return x\n",
    "\n",
    "\n",
    "b=is_odd(11)\n",
    "print(b)"
   ]
  },
  {
   "cell_type": "code",
   "execution_count": null,
   "id": "b4b608b0",
   "metadata": {},
   "outputs": [
    {
     "data": {
      "text/plain": [
       "' this function checks for odd number \\n    input - any valid integer\\n    output -odd\\n    date-27may25\\n    '"
      ]
     },
     "execution_count": 16,
     "metadata": {},
     "output_type": "execute_result"
    }
   ],
   "source": [
    "is_odd.__doc__   #documentation ka access"
   ]
  },
  {
   "cell_type": "markdown",
   "id": "0ceaa208",
   "metadata": {},
   "source": [
    "parameter vs argument\n"
   ]
  },
  {
   "cell_type": "markdown",
   "id": "b77bc9c5",
   "metadata": {},
   "source": [
    "Default\n",
    "positional\n",
    "keyword"
   ]
  },
  {
   "cell_type": "code",
   "execution_count": null,
   "id": "1d37de1b",
   "metadata": {},
   "outputs": [
    {
     "data": {
      "text/plain": [
       "3"
      ]
     },
     "execution_count": 8,
     "metadata": {},
     "output_type": "execute_result"
    }
   ],
   "source": [
    "def power(a=1,b=1):#default arg is ek hi parameter diya ho toh second waale k liye usme 1 h \n",
    "    return a**b\n",
    "                     \n",
    "\n",
    "power(3)"
   ]
  },
  {
   "cell_type": "code",
   "execution_count": 11,
   "id": "26bacc86",
   "metadata": {},
   "outputs": [
    {
     "data": {
      "text/plain": [
       "8"
      ]
     },
     "execution_count": 11,
     "metadata": {},
     "output_type": "execute_result"
    }
   ],
   "source": [
    "#keyword argument \n",
    "power(b=3,a=2)"
   ]
  },
  {
   "cell_type": "code",
   "execution_count": 9,
   "id": "dd7d57f6",
   "metadata": {},
   "outputs": [
    {
     "data": {
      "text/plain": [
       "8"
      ]
     },
     "execution_count": 9,
     "metadata": {},
     "output_type": "execute_result"
    }
   ],
   "source": [
    "#positional \n",
    "power(2,3)"
   ]
  },
  {
   "cell_type": "markdown",
   "id": "a57b4d15",
   "metadata": {},
   "source": [
    "*args and **kwargs  \n",
    "are special py keywords that are used to pass the variable length of arguments to  a function\n",
    "\n",
    "*args---->>> allows us to pass a variable number of non keyword arguments to a function.\n"
   ]
  },
  {
   "cell_type": "code",
   "execution_count": null,
   "id": "46a19b48",
   "metadata": {},
   "outputs": [
    {
     "name": "stdout",
     "output_type": "stream",
     "text": [
      "(2, 4, 5, 7, 6, 9, 10)\n"
     ]
    },
    {
     "data": {
      "text/plain": [
       "151200"
      ]
     },
     "execution_count": 15,
     "metadata": {},
     "output_type": "execute_result"
    }
   ],
   "source": [
    "def multiply(*args):   #can use any word in place of args\n",
    "    product=1\n",
    "    for i in args:\n",
    "        product =product*i; \n",
    "        \n",
    "    print(args)     #python makes this into a tupple and operate \n",
    "    return product \n",
    "\n",
    "multiply(2,4,5,7,6,9,10)"
   ]
  },
  {
   "cell_type": "markdown",
   "id": "27e4645b",
   "metadata": {},
   "source": [
    "**kwargs--->> allows us to pass any number of keyword  arguments.\n",
    "keyword arguments means that they contain  a key-value pair,like a python dictionary ."
   ]
  },
  {
   "cell_type": "code",
   "execution_count": 19,
   "id": "6600aa93",
   "metadata": {},
   "outputs": [
    {
     "name": "stdout",
     "output_type": "stream",
     "text": [
      "india -> bilaspur\n",
      "usa -> virginia\n",
      "nepal -> momos\n",
      "japan -> beauties\n",
      "pakistan -> international bhikhari\n"
     ]
    }
   ],
   "source": [
    "def display(**kwargs):\n",
    "    for(key,value) in kwargs.items():\n",
    "         print(key,'->',value)\n",
    "\n",
    "display(india='bilaspur',usa='virginia',nepal='momos',japan='beauties',pakistan='international bhikhari')"
   ]
  },
  {
   "cell_type": "markdown",
   "id": "dcd12537",
   "metadata": {},
   "source": [
    "IMP POINTS \n",
    "order of arguments matter (normal-> *args -> **kwargs)\n",
    "args and kwargs is only a convention you can write any thing in place of it "
   ]
  },
  {
   "cell_type": "markdown",
   "id": "045f57f4",
   "metadata": {},
   "source": [
    "HOW functions are executed in a memory\n"
   ]
  },
  {
   "cell_type": "markdown",
   "id": "3fbd98da",
   "metadata": {},
   "source": [
    "life span of variable of a function is === life span of fumnction\n",
    "\n",
    "lifespan of function = calling to return statement \n",
    "function act as a separate program "
   ]
  },
  {
   "cell_type": "code",
   "execution_count": 20,
   "id": "72c9683a",
   "metadata": {},
   "outputs": [
    {
     "name": "stdout",
     "output_type": "stream",
     "text": [
      "None\n",
      "[1, 2, 4, 3, 5]\n"
     ]
    }
   ],
   "source": [
    "#function without a return statement--->> then python none bheje ga\n",
    "\n",
    "\n",
    "l=[1,2,4,3]\n",
    "print(l.append(5))\n",
    "print(l)"
   ]
  },
  {
   "cell_type": "code",
   "execution_count": null,
   "id": "719aa142",
   "metadata": {},
   "outputs": [],
   "source": []
  },
  {
   "cell_type": "markdown",
   "id": "312cacef",
   "metadata": {},
   "source": [
    "VAriable scope"
   ]
  },
  {
   "cell_type": "code",
   "execution_count": 21,
   "id": "323cb6b4",
   "metadata": {},
   "outputs": [
    {
     "name": "stdout",
     "output_type": "stream",
     "text": [
      "5\n",
      "6\n",
      "5\n"
     ]
    }
   ],
   "source": [
    "def g(y):    #y=local\n",
    "    print(x)\n",
    "    print(x+1)\n",
    "\n",
    "x=5\n",
    "g(x)     #x=global\n",
    "print(x)  "
   ]
  },
  {
   "cell_type": "code",
   "execution_count": null,
   "id": "d94ac421",
   "metadata": {},
   "outputs": [
    {
     "ename": "UnboundLocalError",
     "evalue": "cannot access local variable 'x' where it is not associated with a value",
     "output_type": "error",
     "traceback": [
      "\u001b[31m---------------------------------------------------------------------------\u001b[39m",
      "\u001b[31mUnboundLocalError\u001b[39m                         Traceback (most recent call last)",
      "\u001b[36mCell\u001b[39m\u001b[36m \u001b[39m\u001b[32mIn[22]\u001b[39m\u001b[32m, line 5\u001b[39m\n\u001b[32m      2\u001b[39m     x +=\u001b[32m1\u001b[39m\n\u001b[32m      4\u001b[39m x=\u001b[32m5\u001b[39m  \n\u001b[32m----> \u001b[39m\u001b[32m5\u001b[39m \u001b[43mh\u001b[49m\u001b[43m(\u001b[49m\u001b[43mx\u001b[49m\u001b[43m)\u001b[49m\n\u001b[32m      6\u001b[39m \u001b[38;5;28mprint\u001b[39m(x)\n",
      "\u001b[36mCell\u001b[39m\u001b[36m \u001b[39m\u001b[32mIn[22]\u001b[39m\u001b[32m, line 2\u001b[39m, in \u001b[36mh\u001b[39m\u001b[34m(y)\u001b[39m\n\u001b[32m      1\u001b[39m \u001b[38;5;28;01mdef\u001b[39;00m\u001b[38;5;250m \u001b[39m\u001b[34mh\u001b[39m(y):\n\u001b[32m----> \u001b[39m\u001b[32m2\u001b[39m     \u001b[43mx\u001b[49m +=\u001b[32m1\u001b[39m\n",
      "\u001b[31mUnboundLocalError\u001b[39m: cannot access local variable 'x' where it is not associated with a value"
     ]
    }
   ],
   "source": [
    "def h(y):\n",
    "    x +=1   #we cannot manipulate global variables in functions \n",
    "\n",
    "x=5    \n",
    "h(x)  \n",
    "print(x)"
   ]
  },
  {
   "cell_type": "code",
   "execution_count": null,
   "id": "85b9b819",
   "metadata": {},
   "outputs": [],
   "source": []
  }
 ],
 "metadata": {
  "kernelspec": {
   "display_name": ".venv",
   "language": "python",
   "name": "python3"
  },
  "language_info": {
   "codemirror_mode": {
    "name": "ipython",
    "version": 3
   },
   "file_extension": ".py",
   "mimetype": "text/x-python",
   "name": "python",
   "nbconvert_exporter": "python",
   "pygments_lexer": "ipython3",
   "version": "3.12.7"
  }
 },
 "nbformat": 4,
 "nbformat_minor": 5
}
